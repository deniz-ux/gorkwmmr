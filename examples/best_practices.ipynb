{
 "cells": [
  {
   "cell_type": "code",
   "execution_count": null,
   "metadata": {},
   "outputs": [],
   "source": [
    "import time\n",
    "import random\n",
    "\n",
    "import param\n",
    "import numpy as np\n",
    "import pandas as pd\n",
    "import panel as pn\n",
    "pn.extension()"
   ]
  },
  {
   "cell_type": "markdown",
   "metadata": {},
   "source": [
    "## Dev experience"
   ]
  },
  {
   "cell_type": "markdown",
   "metadata": {},
   "source": [
    "### Bind on reference value, not value"
   ]
  },
  {
   "cell_type": "markdown",
   "metadata": {},
   "source": [
    "#### Good\n",
    "\n",
    "Be sure to bind on `param.{parameter}`, not just `{parameter}`."
   ]
  },
  {
   "cell_type": "code",
   "execution_count": null,
   "metadata": {},
   "outputs": [],
   "source": [
    "def show_clicks(clicks):\n",
    "    return f\"Number of clicks: {clicks}\"\n",
    "\n",
    "button = pn.widgets.Button(name=\"Click me!\")\n",
    "clicks = pn.bind(show_clicks, button.param.clicks)\n",
    "pn.Row(button, clicks)"
   ]
  },
  {
   "cell_type": "markdown",
   "metadata": {},
   "source": [
    "#### Bad\n",
    "\n",
    "If only on `{parameter}`, it will not trigger an update on change."
   ]
  },
  {
   "cell_type": "code",
   "execution_count": null,
   "metadata": {},
   "outputs": [],
   "source": [
    "def show_clicks(clicks):\n",
    "    return f\"Number of clicks: {clicks}\"\n",
    "\n",
    "button = pn.widgets.Button(name=\"Click me!\")\n",
    "clicks = pn.bind(show_clicks, button.clicks)  # not button.clicks!\n",
    "pn.Row(button, clicks)"
   ]
  },
  {
   "cell_type": "markdown",
   "metadata": {},
   "source": [
    "### Inherit from `pn.viewer.Viewer`\n",
    "\n",
    "Instead of inheriting from `param.Parameterized`, opting for inheritance from `pn.viewable.Viewer` allows direct invocation of the class, resembling a native Panel object, i.e. `ExampleApp().servable()` vs `ExampleApp().view().servable()`."
   ]
  },
  {
   "cell_type": "markdown",
   "metadata": {},
   "source": [
    "#### Good"
   ]
  },
  {
   "cell_type": "code",
   "execution_count": null,
   "metadata": {},
   "outputs": [],
   "source": [
    "class ExampleApp(pn.viewable.Viewer):\n",
    "\n",
    "    ...\n",
    "\n",
    "    def __panel__(self):\n",
    "        return pn.template.FastListTemplate(\n",
    "            main=[...],\n",
    "            sidebar=[...],\n",
    "        )\n",
    "\n",
    "ExampleApp().servable();  # semi-colon to suppress output in notebook"
   ]
  },
  {
   "cell_type": "markdown",
   "metadata": {},
   "source": [
    "#### Okay"
   ]
  },
  {
   "cell_type": "code",
   "execution_count": null,
   "metadata": {},
   "outputs": [],
   "source": [
    "class ExampleApp(param.Parameterized):\n",
    "\n",
    "    ...\n",
    "\n",
    "    def view(self):\n",
    "        return pn.template.FastListTemplate(\n",
    "            main=[...],\n",
    "            sidebar=[...],\n",
    "        )\n",
    "\n",
    "ExampleApp().view().servable();  # semi-colon to suppress output in notebook"
   ]
  },
  {
   "cell_type": "markdown",
   "metadata": {},
   "source": [
    "### Build widgets from parameters\n",
    "\n",
    "To translate parameters into widgets, use `pn.Param`.\n"
   ]
  },
  {
   "cell_type": "markdown",
   "metadata": {},
   "source": [
    "#### Good"
   ]
  },
  {
   "cell_type": "code",
   "execution_count": null,
   "metadata": {},
   "outputs": [],
   "source": [
    "class ExampleApp(pn.viewable.Viewer):\n",
    "\n",
    "    width = param.Integer(default=100, bounds=(1, 200), label=\"Width of box\")\n",
    "    height = param.Integer(default=100, bounds=(1, 250), label=\"Height of box\")\n",
    "    color = param.Color(default=\"red\", label=\"Color of box\")\n",
    "\n",
    "    def __panel__(self):\n",
    "        return pn.Column(\n",
    "            pn.Param(self, widgets={\"height\": pn.widgets.IntInput}),\n",
    "            pn.pane.HTML(\n",
    "                width=self.param.width,\n",
    "                height=self.param.height,\n",
    "                styles={\"background-color\": self.param.color},\n",
    "            ),\n",
    "        )\n",
    "\n",
    "\n",
    "ExampleApp()"
   ]
  },
  {
   "cell_type": "markdown",
   "metadata": {},
   "source": [
    "#### Good\n",
    "\n",
    "You can also use `from_param` to manually build each component."
   ]
  },
  {
   "cell_type": "code",
   "execution_count": null,
   "metadata": {},
   "outputs": [],
   "source": [
    "class ExampleApp(pn.viewable.Viewer):\n",
    "\n",
    "    width = param.Integer(default=100, bounds=(1, 200), label=\"Width of box\")\n",
    "    height = param.Integer(default=100, bounds=(1, 250), label=\"Height of box\")\n",
    "    color = param.Color(default=\"red\", label=\"Color of box\")\n",
    "\n",
    "    def __panel__(self):\n",
    "        width_slider = pn.widgets.IntSlider.from_param(self.param.width)\n",
    "        height_input = pn.widgets.IntInput.from_param(self.param.height)\n",
    "        color_picker = pn.widgets.ColorPicker.from_param(self.param.color)\n",
    "        return pn.Column(\n",
    "            width_slider,\n",
    "            height_input,\n",
    "            color_picker,\n",
    "            pn.pane.HTML(\n",
    "                width=self.param.width,\n",
    "                height=self.param.height,\n",
    "                styles={\"background-color\": self.param.color},\n",
    "            ),\n",
    "        )\n",
    "\n",
    "\n",
    "ExampleApp()"
   ]
  },
  {
   "cell_type": "markdown",
   "metadata": {},
   "source": [
    "#### Bad\n",
    "\n",
    "If you instantiate individually through `param`, it's not bidirectional.\n"
   ]
  },
  {
   "cell_type": "code",
   "execution_count": null,
   "metadata": {},
   "outputs": [],
   "source": [
    "class ExampleApp(pn.viewable.Viewer):\n",
    "\n",
    "    width = param.Integer(default=100, bounds=(1, 200), label=\"Width of box\")\n",
    "    height = param.Integer(default=100, bounds=(1, 250), label=\"Height of box\")\n",
    "    color = param.Color(default=\"red\", label=\"Color of box\")\n",
    "\n",
    "    def __panel__(self):\n",
    "        width_slider = pn.widgets.IntSlider(\n",
    "            value=self.param.width,\n",
    "            start=self.param[\"width\"].bounds[0],\n",
    "            end=self.param[\"width\"].bounds[1],\n",
    "            name=self.param[\"width\"].label,\n",
    "        )\n",
    "        height_input = pn.widgets.IntInput(\n",
    "            value=self.param.height,\n",
    "            start=self.param[\"height\"].bounds[0],\n",
    "            end=self.param[\"height\"].bounds[1],\n",
    "            name=self.param[\"height\"].label,\n",
    "        )\n",
    "        color_picker = pn.widgets.ColorPicker(\n",
    "            value=self.param.color,\n",
    "            name=self.param[\"color\"].label,\n",
    "            width=200,\n",
    "        )\n",
    "        return pn.Column(\n",
    "            width_slider,\n",
    "            height_input,\n",
    "            color_picker,\n",
    "            pn.pane.HTML(\n",
    "                width=self.param.width,\n",
    "                height=self.param.height,\n",
    "                styles={\"background-color\": self.param.color},\n",
    "            ),\n",
    "        )\n",
    "\n",
    "\n",
    "ExampleApp()"
   ]
  },
  {
   "cell_type": "markdown",
   "metadata": {},
   "source": [
    "#### Bad\n",
    "\n",
    "It's possible to `link` each widget to `self` with `bidirectional=True`, but certain keyword arguments, like `bounds`, cannot be linked easily."
   ]
  },
  {
   "cell_type": "code",
   "execution_count": null,
   "metadata": {},
   "outputs": [],
   "source": [
    "class ExampleApp(pn.viewable.Viewer):\n",
    "\n",
    "    width = param.Integer(default=100, bounds=(1, 200), label=\"Width of box\")\n",
    "    height = param.Integer(default=100, bounds=(1, 250), label=\"Height of box\")\n",
    "    color = param.Color(default=\"red\", label=\"Color of box\")\n",
    "\n",
    "    def __panel__(self):\n",
    "        width_slider = pn.widgets.IntSlider()\n",
    "        height_input = pn.widgets.IntInput()\n",
    "        color_picker = pn.widgets.ColorPicker()\n",
    "\n",
    "        width_slider.link(self, value=\"width\", bidirectional=True)\n",
    "        height_input.link(self, value=\"height\", bidirectional=True)\n",
    "        color_picker.link(self, value=\"color\", bidirectional=True)\n",
    "\n",
    "        return pn.Column(\n",
    "            width_slider,\n",
    "            height_input,\n",
    "            color_picker,\n",
    "            pn.pane.HTML(\n",
    "                width=self.param.width,\n",
    "                height=self.param.height,\n",
    "                styles={\"background-color\": self.param.color},\n",
    "            ),\n",
    "        )\n",
    "\n",
    "\n",
    "ExampleApp()"
   ]
  },
  {
   "cell_type": "markdown",
   "metadata": {},
   "source": [
    "#### Bad\n",
    "\n",
    "Widgets should not be used as parameters."
   ]
  },
  {
   "cell_type": "code",
   "execution_count": null,
   "metadata": {},
   "outputs": [],
   "source": [
    "class ExampleApp(pn.viewable.Viewer):\n",
    "\n",
    "    width = pn.widgets.IntSlider()\n",
    "    height = pn.widgets.IntInput()\n",
    "    color = pn.widgets.ColorPicker()\n"
   ]
  },
  {
   "cell_type": "markdown",
   "metadata": {},
   "source": [
    "### Show templates in notebooks\n",
    "\n",
    "Templates, at the time of writing, are not able to be rendered properly in Jupyter notebooks.\n",
    "\n",
    "To continue working with templates in notebooks, call `show` to pop up a new browser window."
   ]
  },
  {
   "cell_type": "markdown",
   "metadata": {},
   "source": [
    "#### Okay"
   ]
  },
  {
   "cell_type": "code",
   "execution_count": null,
   "metadata": {},
   "outputs": [],
   "source": [
    "template = pn.template.FastListTemplate(\n",
    "    main=[...],\n",
    "    sidebar=[...],\n",
    ")\n",
    "\n",
    "# template.show()  # commented out to disable opening a new browser tab in example"
   ]
  },
  {
   "cell_type": "markdown",
   "metadata": {},
   "source": [
    "#### Okay\n",
    "\n",
    "Alternatively, you can use a barebones notebook template like the one below."
   ]
  },
  {
   "cell_type": "code",
   "execution_count": null,
   "metadata": {},
   "outputs": [],
   "source": [
    "class NotebookPlaceholderTemplate(pn.viewable.Viewer):\n",
    "    main = param.List()\n",
    "    sidebar = param.List()\n",
    "    header = param.List()\n",
    "    title = param.String()\n",
    "\n",
    "    def __panel__(self):\n",
    "        title = pn.pane.Markdown(f\"# {self.title}\", sizing_mode=\"stretch_width\")\n",
    "        # pastel blue\n",
    "        header_row = pn.Row(\n",
    "            title,\n",
    "            *self.header,\n",
    "            sizing_mode=\"stretch_width\",\n",
    "            styles={\"background\": \"#e6f2ff\"},\n",
    "        )\n",
    "        main_col = pn.WidgetBox(*self.main, sizing_mode=\"stretch_both\")\n",
    "        sidebar_col = pn.WidgetBox(\n",
    "            *self.sidebar, width=300, sizing_mode=\"stretch_height\"\n",
    "        )\n",
    "        return pn.Column(\n",
    "            header_row,\n",
    "            pn.Row(sidebar_col, main_col, sizing_mode=\"stretch_both\"),\n",
    "            sizing_mode=\"stretch_both\",\n",
    "            min_height=400,\n",
    "        )\n",
    "\n",
    "template = pn.template.FastListTemplate(\n",
    "    main=[...],\n",
    "    sidebar=[...],\n",
    ")\n",
    "template"
   ]
  },
  {
   "cell_type": "markdown",
   "metadata": {},
   "source": [
    "### Yield to show intermediate values\n",
    "\n",
    "#### Good\n",
    "\n",
    "Use a generator (yield) to provide incremental updates."
   ]
  },
  {
   "cell_type": "code",
   "execution_count": null,
   "metadata": {},
   "outputs": [],
   "source": [
    "def increment_to_value(value):\n",
    "    for i in range(value):\n",
    "        time.sleep(0.1)\n",
    "        yield i\n",
    "\n",
    "slider = pn.widgets.IntSlider(start=1, end=10)\n",
    "output = pn.bind(increment_to_value, slider.param.value_throttled)\n",
    "pn.Row(slider, output)"
   ]
  },
  {
   "cell_type": "markdown",
   "metadata": {},
   "source": [
    "### Watch side effects\n",
    "\n",
    "#### Good\n",
    "\n",
    "For functions that trigger side effects, i.e. do not return anything (or returns None), be sure to set `watch=True` on `pn.bind` or `pn.depends`."
   ]
  },
  {
   "cell_type": "code",
   "execution_count": null,
   "metadata": {},
   "outputs": [],
   "source": [
    "def print_clicks(clicks):\n",
    "    print(f\"Number of clicks: {clicks}\")\n",
    "\n",
    "button = pn.widgets.Button(name=\"Click me!\")\n",
    "pn.bind(print_clicks, button.param.clicks, watch=True)\n",
    "button"
   ]
  },
  {
   "cell_type": "markdown",
   "metadata": {},
   "source": [
    "#### Okay\n",
    "\n",
    "For buttons, you can also use `on_click`."
   ]
  },
  {
   "cell_type": "code",
   "execution_count": null,
   "metadata": {},
   "outputs": [],
   "source": [
    "def print_clicks(event):\n",
    "    clicks = event.new\n",
    "    print(f\"Number of clicks: {clicks}\")\n",
    "\n",
    "button = pn.widgets.Button(name=\"Click me!\", on_click=print_clicks)\n",
    "button"
   ]
  },
  {
   "cell_type": "markdown",
   "metadata": {},
   "source": [
    "#### Okay\n",
    "\n",
    "For all other widgets, use `obj.param.watch()` for side effects."
   ]
  },
  {
   "cell_type": "code",
   "execution_count": null,
   "metadata": {},
   "outputs": [],
   "source": [
    "def print_clicks(event):\n",
    "    clicks = event.new\n",
    "    print(f\"Number of clicks: {clicks}\")\n",
    "\n",
    "button = pn.widgets.Button(name=\"Click me!\")\n",
    "button.param.watch(print_clicks, \"clicks\")\n",
    "button"
   ]
  },
  {
   "cell_type": "markdown",
   "metadata": {},
   "source": [
    "## User Experience"
   ]
  },
  {
   "cell_type": "markdown",
   "metadata": {},
   "source": [
    "### Update params effectively\n",
    "\n",
    "#### Good\n",
    "\n",
    "Use `obj.param.update`:\n",
    "- to update multiple parameters on an object simultaneously\n",
    "- as a context manager to temporarily set values, restoring original values on completion"
   ]
  },
  {
   "cell_type": "code",
   "execution_count": null,
   "metadata": {},
   "outputs": [],
   "source": [
    "def run(event):\n",
    "    with progress.param.update(\n",
    "        bar_color=\"primary\",\n",
    "        active=True,\n",
    "    ):\n",
    "        for i in range(0, 101):\n",
    "            time.sleep(0.01)\n",
    "            progress.value = i\n",
    "\n",
    "button = pn.widgets.Button(name=\"Run\", on_click=run)\n",
    "progress = pn.indicators.Progress(value=100, active=False, bar_color=\"dark\")\n",
    "pn.Row(button, progress)"
   ]
  },
  {
   "cell_type": "markdown",
   "metadata": {},
   "source": [
    "#### Bad\n",
    "\n",
    "The following shows setting parameters individually, which could be inefficient."
   ]
  },
  {
   "cell_type": "code",
   "execution_count": null,
   "metadata": {},
   "outputs": [],
   "source": [
    "def run(event):\n",
    "    try:\n",
    "        progress.bar_color = \"primary\"\n",
    "        progress.active = True\n",
    "        for i in range(0, 101):\n",
    "            time.sleep(0.01)\n",
    "            progress.value = i\n",
    "    finally:\n",
    "        progress.bar_color = \"dark\"\n",
    "        progress.active = False\n",
    "\n",
    "button = pn.widgets.Button(name=\"Run\", on_click=run)\n",
    "progress = pn.indicators.Progress(value=100, active=False, bar_color=\"dark\")\n",
    "pn.Row(button, progress)"
   ]
  },
  {
   "cell_type": "markdown",
   "metadata": {},
   "source": [
    "#### Good\n",
    "\n",
    "Use `batch_call_watchers` to update multiple params *on separate objects* simultaneously."
   ]
  },
  {
   "cell_type": "code",
   "execution_count": null,
   "metadata": {},
   "outputs": [],
   "source": [
    "class ExampleBar(pn.viewable.Viewer):\n",
    "\n",
    "    bar_color = \"dark\"\n",
    "    active = False\n",
    "\n",
    "    def __init__(self):\n",
    "        self.progress = pn.indicators.Progress(\n",
    "            value=100, active=self.param.active, bar_color=self.param.bar_color\n",
    "        )\n",
    "\n",
    "    def _process(self, event):\n",
    "        with param.parameterized.batch_call_watchers(self):\n",
    "            self._text_1.value = \"Hey\"\n",
    "            self._text_2.value = \"Hey\"\n",
    "\n",
    "    def __panel__(self):\n",
    "        return pn.Row(self._button, self._text_1, self._text_2)\n",
    "\n",
    "\n",
    "ExampleApp()"
   ]
  },
  {
   "cell_type": "markdown",
   "metadata": {},
   "source": [
    "### Throttle slider callbacks\n",
    "\n",
    "#### Good\n",
    "\n",
    "To prevent sliders from triggering excessive callbacks, set `throttled=True` so that it only triggers once upon mouse-up."
   ]
  },
  {
   "cell_type": "code",
   "execution_count": null,
   "metadata": {},
   "outputs": [],
   "source": [
    "pn.extension(throttled=True)\n",
    "\n",
    "def callback(value):\n",
    "    time.sleep(2)\n",
    "    return f\"# {value}\"\n",
    "\n",
    "slider = pn.widgets.IntSlider(end=10)\n",
    "output = pn.bind(callback, slider)\n",
    "pn.Row(slider, output)"
   ]
  },
  {
   "cell_type": "markdown",
   "metadata": {},
   "source": [
    "#### Good\n",
    "\n",
    "Alternatively, limit the scope by binding against `value_throttled` instead of `value`."
   ]
  },
  {
   "cell_type": "code",
   "execution_count": null,
   "metadata": {},
   "outputs": [],
   "source": [
    "def callback(value):\n",
    "    time.sleep(2)\n",
    "    return f\"# {value}\"\n",
    "\n",
    "slider = pn.widgets.IntSlider(end=10)\n",
    "output = pn.bind(callback, slider.param.value_throttled)\n",
    "pn.Row(slider, output)"
   ]
  },
  {
   "cell_type": "markdown",
   "metadata": {},
   "source": [
    "#### Bad\n",
    "\n",
    "If the operation is expensive, binding against `value` can be really slow."
   ]
  },
  {
   "cell_type": "code",
   "execution_count": null,
   "metadata": {},
   "outputs": [],
   "source": [
    "def callback(value):\n",
    "    time.sleep(2)\n",
    "    return f\"# {value}\"\n",
    "\n",
    "slider = pn.widgets.IntSlider(end=10)\n",
    "output = pn.bind(callback, slider.param.value)\n",
    "pn.Row(slider, output)"
   ]
  },
  {
   "cell_type": "markdown",
   "metadata": {},
   "source": [
    "### Defer expensive operations"
   ]
  },
  {
   "cell_type": "markdown",
   "metadata": {},
   "source": [
    "#### Good\n",
    "\n",
    "Its easy defer the execution of all bound and displayed functions with `pn.extension(defer_load=True)`."
   ]
  },
  {
   "cell_type": "code",
   "execution_count": null,
   "metadata": {},
   "outputs": [],
   "source": [
    "pn.extension(defer_load=True, loading_indicator=True)\n",
    "\n",
    "def onload():\n",
    "    time.sleep(5)  # simulate expensive operations\n",
    "    return pn.Column(\n",
    "        \"Welcome to this app!\",\n",
    "    )\n",
    "\n",
    "layout = pn.Column(\"Check this out!\", onload)\n",
    "# layout.show()"
   ]
  },
  {
   "cell_type": "markdown",
   "metadata": {},
   "source": [
    "#### Okay\n",
    "\n",
    "If you need finer control, start by instantiating the initial layout with placeholder `pn.Columns`, then populate it later in `onload`."
   ]
  },
  {
   "cell_type": "code",
   "execution_count": null,
   "metadata": {},
   "outputs": [],
   "source": [
    "import time\n",
    "\n",
    "def onload():\n",
    "    time.sleep(1)  # simulate expensive operations\n",
    "    layout.objects = [\n",
    "        \"Welcome to this app!\",\n",
    "    ]\n",
    "\n",
    "layout = pn.Column(\"Loading...\")\n",
    "display(layout)\n",
    "pn.state.onload(onload)"
   ]
  },
  {
   "cell_type": "markdown",
   "metadata": {},
   "source": [
    "### Show indicator while computing\n",
    "\n",
    "#### Good\n",
    "\n",
    "Set `loading=True` to show a spinner while processing to let the user know it's working."
   ]
  },
  {
   "cell_type": "code",
   "execution_count": null,
   "metadata": {},
   "outputs": [],
   "source": [
    "def compute(event):\n",
    "    with layout.param.update(loading=True):\n",
    "        time.sleep(3)\n",
    "        layout.append(\"Computation complete!\")\n",
    "\n",
    "button = pn.widgets.Button(name=\"Compute\", on_click=compute)\n",
    "layout = pn.Column(\"Click below to compute\", button)\n",
    "\n",
    "layout"
   ]
  },
  {
   "cell_type": "markdown",
   "metadata": {},
   "source": [
    "#### Okay\n",
    "\n",
    "You can also wrap a `try/finally` to do the same thing."
   ]
  },
  {
   "cell_type": "code",
   "execution_count": null,
   "metadata": {},
   "outputs": [],
   "source": [
    "def compute(event):\n",
    "    try:\n",
    "        layout.loading = True\n",
    "        time.sleep(3)\n",
    "        layout.append(\"Computation complete!\")\n",
    "    finally:\n",
    "        layout.loading = False\n",
    "\n",
    "button = pn.widgets.Button(name=\"Compute\", on_click=compute)\n",
    "layout = pn.Column(\"Click below to compute\", button)\n",
    "\n",
    "layout"
   ]
  },
  {
   "cell_type": "markdown",
   "metadata": {},
   "source": [
    "### Manage exceptions gracefully\n",
    "\n",
    "#### Good\n",
    "\n",
    "Use:\n",
    "- `try` block to update values on success\n",
    "- `except` block to update values on exception\n",
    "- `finally` block to update values regardless"
   ]
  },
  {
   "cell_type": "code",
   "execution_count": null,
   "metadata": {},
   "outputs": [],
   "source": [
    "import time\n",
    "\n",
    "def compute(divisor):\n",
    "    try:\n",
    "        busy.value = True\n",
    "        time.sleep(1)\n",
    "        output = 1 / divisor\n",
    "        text.value = \"Success!\"\n",
    "    except Exception as exc:\n",
    "        output = \"Undefined\"\n",
    "        text.value = f\"Error: {exc}\"\n",
    "    finally:\n",
    "        busy.value = False\n",
    "    return f\"Output: {output}\"\n",
    "\n",
    "busy = pn.widgets.LoadingSpinner(width=10, height=10)\n",
    "text = pn.widgets.StaticText()\n",
    "\n",
    "slider = pn.widgets.IntSlider(name=\"Divisor\")\n",
    "output = pn.bind(compute, slider)\n",
    "\n",
    "layout = pn.Column(pn.Row(busy, text), slider, output)\n",
    "layout"
   ]
  },
  {
   "cell_type": "markdown",
   "metadata": {},
   "source": [
    "### Cache values for speed\n",
    "\n",
    "#### Good\n",
    "\n",
    "Wrap the decorator `pn.cache` for automatic handling."
   ]
  },
  {
   "cell_type": "code",
   "execution_count": null,
   "metadata": {},
   "outputs": [],
   "source": [
    "@pn.cache\n",
    "def callback(value):\n",
    "    time.sleep(2)    \n",
    "    return f\"# {value}\"\n",
    "\n",
    "slider = pn.widgets.IntSlider(end=3)\n",
    "output = pn.bind(callback, slider.param.value_throttled)\n",
    "pn.Row(slider, output)"
   ]
  },
  {
   "cell_type": "markdown",
   "metadata": {},
   "source": [
    "#### Okay\n",
    "\n",
    "Or, manually handle the cache with `pn.state.cache`."
   ]
  },
  {
   "cell_type": "code",
   "execution_count": null,
   "metadata": {},
   "outputs": [],
   "source": [
    "def callback(value):\n",
    "    output = pn.state.cache.get(value)\n",
    "    if output is None:\n",
    "        time.sleep(2)\n",
    "        output = f\"# {value}\"\n",
    "        pn.state.cache[value] = output\n",
    "    return output\n",
    "\n",
    "slider = pn.widgets.IntSlider(end=3)\n",
    "output = pn.bind(callback, slider.param.value_throttled)\n",
    "pn.Row(slider, output)"
   ]
  },
  {
   "cell_type": "markdown",
   "metadata": {},
   "source": [
    "### Preserve axes ranges on update\n",
    "\n",
    "#### Good\n",
    "\n",
    "To prevent the plot from resetting to its original axes ranges when zoomed in, simply wrap `hv.DynamicMap`."
   ]
  },
  {
   "cell_type": "code",
   "execution_count": null,
   "metadata": {},
   "outputs": [],
   "source": [
    "import numpy as np\n",
    "import holoviews as hv\n",
    "hv.extension(\"bokeh\")\n",
    "\n",
    "data = []\n",
    "\n",
    "def add_point(clicks):\n",
    "    data.append((np.random.random(), (np.random.random())))\n",
    "    return hv.Scatter(data)\n",
    "\n",
    "button = pn.widgets.Button(name=\"Add point\")\n",
    "plot = hv.DynamicMap(pn.bind(add_point, button.param.clicks))\n",
    "pn.Column(button, plot)"
   ]
  },
  {
   "cell_type": "markdown",
   "metadata": {},
   "source": [
    "#### Okay\n",
    "\n",
    "If you want the object to be completely refreshed, simply drop `hv.DynamicMap`. If it's a long computation, it's good to set `loading_indicator=True`."
   ]
  },
  {
   "cell_type": "code",
   "execution_count": null,
   "metadata": {},
   "outputs": [],
   "source": [
    "import numpy as np\n",
    "import holoviews as hv\n",
    "hv.extension(\"bokeh\")\n",
    "pn.extension(defer_load=True, loading_indicator=True)\n",
    "\n",
    "data = []\n",
    "\n",
    "def add_point(clicks):\n",
    "    data.append((np.random.random(), (np.random.random())))\n",
    "    return hv.Scatter(data)\n",
    "\n",
    "button = pn.widgets.Button(name=\"Add point\")\n",
    "plot = pn.bind(add_point, button.param.clicks)\n",
    "pn.Column(button, plot)"
   ]
  },
  {
   "cell_type": "markdown",
   "metadata": {},
   "source": [
    "### FlexBox instead of Column/Row\n",
    "\n",
    "#### Good\n",
    "\n",
    "`pn.FlexBox` automatically moves objects to another row/column, depending on the space available."
   ]
  },
  {
   "cell_type": "code",
   "execution_count": null,
   "metadata": {},
   "outputs": [],
   "source": [
    "rcolor = lambda: \"#%06x\" % random.randint(0, 0xFFFFFF)\n",
    "\n",
    "pn.FlexBox(\n",
    "    pn.pane.HTML(str(5), styles=dict(background=rcolor()), width=1000, height=100),\n",
    "    pn.pane.HTML(str(5), styles=dict(background=rcolor()), width=1000, height=100)\n",
    ")"
   ]
  },
  {
   "cell_type": "markdown",
   "metadata": {},
   "source": [
    "#### Okay\n",
    "\n",
    "`pn.Column`/`pn.Row` will overflow if the content is too long/wide."
   ]
  },
  {
   "cell_type": "code",
   "execution_count": null,
   "metadata": {},
   "outputs": [],
   "source": [
    "rcolor = lambda: \"#%06x\" % random.randint(0, 0xFFFFFF)\n",
    "\n",
    "pn.Row(\n",
    "    pn.pane.HTML(str(5), styles=dict(background=rcolor()), width=1000, height=100),\n",
    "    pn.pane.HTML(str(5), styles=dict(background=rcolor()), width=1000, height=100)\n",
    ")"
   ]
  },
  {
   "cell_type": "markdown",
   "metadata": {},
   "source": [
    "### Reuse objects for efficiency\n",
    "\n",
    "#### Good\n",
    "\n",
    "Imagine Panel components as placeholders and use them as such rather than re-creating them on update."
   ]
  },
  {
   "cell_type": "code",
   "execution_count": null,
   "metadata": {},
   "outputs": [],
   "source": [
    "def randomize(event):\n",
    "    df_pane.object = pd.DataFrame(np.random.randn(10, 3), columns=list(\"ABC\"))\n",
    "\n",
    "\n",
    "button = pn.widgets.Button(name=\"Compute\", on_click=randomize)\n",
    "df_pane = pn.pane.DataFrame()\n",
    "button.param.trigger(\"clicks\")  # initialize\n",
    "\n",
    "pn.Column(button, df_pane)"
   ]
  },
  {
   "cell_type": "markdown",
   "metadata": {},
   "source": [
    "#### Bad\n",
    "\n",
    "This instantiates the `pn.pane.DataFrame` on every click."
   ]
  },
  {
   "cell_type": "code",
   "execution_count": null,
   "metadata": {},
   "outputs": [],
   "source": [
    "def randomize(clicks):\n",
    "    return pn.pane.DataFrame(pd.DataFrame(np.random.randn(10, 3), columns=list(\"ABC\")))\n",
    "\n",
    "\n",
    "button = pn.widgets.Button(name=\"Compute\")\n",
    "df_pane = pn.bind(randomize, button.param.clicks)\n",
    "button.param.trigger(\"clicks\")  # initialize\n",
    "\n",
    "pn.Column(button, df_pane)"
   ]
  }
 ],
 "metadata": {
  "language_info": {
   "name": "python",
   "pygments_lexer": "ipython3"
  }
 },
 "nbformat": 4,
 "nbformat_minor": 2
}
