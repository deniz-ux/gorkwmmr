{
 "cells": [
  {
   "cell_type": "markdown",
   "metadata": {},
   "source": [
    "# Linking objects in panel"
   ]
  },
  {
   "cell_type": "markdown",
   "metadata": {},
   "source": [
    "In the  [param user guide](Param.ipynb), we have seen how parameterized classes can be used to automatically generate a graphical user interface without any additional effort. However frequently it is necessary to manually set up links between widgets either through Python or JS based callbacks. Explicitly instantiating panel widgets affords more control over their attributes and therefore allows for more flexibility.\n",
    "\n",
    "In this notebook we will focus on linking parameters of panel objects, specifically widgets to other objects. Specifically we will introduce two main APIs:\n",
    "\n",
    "* ``link`` and ``jslink`` which are high-level APIs to perform linking either in Python or JS respectively\n",
    "* ``obj.param.watch`` which is a lower level API provided by [param](https://param.pyviz.org) "
   ]
  },
  {
   "cell_type": "code",
   "execution_count": null,
   "metadata": {},
   "outputs": [],
   "source": [
    "import param\n",
    "import numpy as np\n",
    "import panel as pn\n",
    "pn.extension()"
   ]
  },
  {
   "cell_type": "markdown",
   "metadata": {},
   "source": [
    "## Linking objects in Python\n",
    "\n",
    "As a very straightforward example let us start by creating a ``Markdown`` pane:"
   ]
  },
  {
   "cell_type": "code",
   "execution_count": null,
   "metadata": {},
   "outputs": [],
   "source": [
    "markdown = pn.pane.Markdown('Markdown display')\n",
    "markdown"
   ]
  },
  {
   "cell_type": "markdown",
   "metadata": {},
   "source": [
    "Next let us create a ``TextInput`` widget:"
   ]
  },
  {
   "cell_type": "code",
   "execution_count": null,
   "metadata": {},
   "outputs": [],
   "source": [
    "text_input = pn.widgets.TextInput(value=markdown.object)\n",
    "text_input"
   ]
  },
  {
   "cell_type": "markdown",
   "metadata": {},
   "source": [
    "We now have a number of options to link these two objects, either via a Python callback or within JS. So let's step through these options 1-by-1.\n",
    "\n",
    "### The ``link`` method\n",
    "\n",
    "The ``link`` method on Widgets provides a very straightforward means to link parameters on the widget to some other object. In the simplest case we simply provide the ``target`` object and define the mapping between the source and target parameters as the keywords, e.g. in this case we map the ``value`` parameter on the ``TextInput`` widget to the ``object`` parameter on the ``Markdown`` pane:"
   ]
  },
  {
   "cell_type": "code",
   "execution_count": null,
   "metadata": {},
   "outputs": [],
   "source": [
    "text_input.link(markdown, value='object')"
   ]
  },
  {
   "cell_type": "markdown",
   "metadata": {},
   "source": [
    "Having linked the value of the widget to the object parameter, updating the widget value will now update both:"
   ]
  },
  {
   "cell_type": "code",
   "execution_count": null,
   "metadata": {},
   "outputs": [],
   "source": [
    "text_input.value = 'New text'"
   ]
  },
  {
   "cell_type": "markdown",
   "metadata": {},
   "source": [
    "For more complex mappings between the widget value and , e.g. we can do some processing on the string before setting it on the Markdown object:\n",
    "\n",
    "```python\n",
    "def callback(target, event):\n",
    "    target.object = event.new.title() + '!!!'\n",
    "\n",
    "text_input.link(markdown, callbacks={'value': callback})\n",
    "```"
   ]
  },
  {
   "cell_type": "markdown",
   "metadata": {},
   "source": [
    "### The ``watch`` method\n",
    "\n",
    "The ``link`` method provides a high-level API to link to parameters, which is adequate in most cases. However in some cases we want more control in which case we can fall back to the ``param.watch`` method, which is what panel uses internally to make all reactive features work. The main differences are that ``watch`` does not assume you are linking two objects, provides more control over what you are watching, allows batched callbacks when multiple parameters change at once and provides control over when an event is triggered, i.e. always or only when the parameter changes (the default).\n",
    "\n",
    "To demonstrate this let us set up three different models, 1) a `Markdown` pane to display the possible options, 2) a ``Markdown`` pane to display the selected options and 3) a ``ToggleGroup`` widget which allows us to toggle between a number of options:"
   ]
  },
  {
   "cell_type": "code",
   "execution_count": null,
   "metadata": {},
   "outputs": [],
   "source": [
    "selections = pn.pane.Markdown(object='Possible options: A, B, C, D')\n",
    "selected = pn.pane.Markdown(object='Selected: None')\n",
    "toggle = pn.widgets.ToggleGroup(options=['A', 'B', 'C'])"
   ]
  },
  {
   "cell_type": "markdown",
   "metadata": {},
   "source": [
    "#### Defining a callback"
   ]
  },
  {
   "cell_type": "markdown",
   "metadata": {},
   "source": [
    "Next we define a callback which can handle multiple parameter changes at once and uses the ``Event``'s ``name`` to figure out how to process the event, e.g. in this case it updates either the ``selections`` or the ``selected`` pane depending on whether ToggleGroup ``options`` or ``value`` changed:"
   ]
  },
  {
   "cell_type": "code",
   "execution_count": null,
   "metadata": {},
   "outputs": [],
   "source": [
    "def callback(*events):\n",
    "    print(events)\n",
    "    for event in events:\n",
    "        if event.name == 'options':\n",
    "            selections.object = 'Possible options: %s' % ', '.join(event.new)\n",
    "        elif event.name == 'value':\n",
    "            selected.object = 'Selected: %s' % ','.join(event.new)"
   ]
  },
  {
   "cell_type": "markdown",
   "metadata": {},
   "source": [
    "#### Event objects\n",
    "\n",
    "Before going any further let us discover what these ``Event`` objects are. An ``Event`` is used to signal the change in a parameter value, they provide a number of useful attributes that provides additional information about the event:\n",
    "\n",
    "* **``name``**: The name of the parameter that has changed\n",
    "* **``new``**: The new value of the parameter\n",
    "* **``old``**: The old value of the parameter before the event was triggered\n",
    "* **``type``**: The type of event, can be one of 'triggered', 'changed' or 'set'\n",
    "* **``what``**: Describes what about the parameter changed (usually the value but other parameter attributes can also change)\n",
    "* **``obj``**: The Parameterized instance that holds the parameter\n",
    "* **``cls``**: The Parameterized class that holds the parameter"
   ]
  },
  {
   "cell_type": "markdown",
   "metadata": {},
   "source": [
    "#### Registering a watcher\n",
    "\n",
    "Now that we know how to define a callback and use make use of ``Event`` attributes it is time to register the callback. The ``obj.param.watch`` method lets us supply the callback along with the parameters we want to watch. Additionally we can declare whether the events should only be triggered when the parameter value changes or whenever the parameter is set:"
   ]
  },
  {
   "cell_type": "code",
   "execution_count": null,
   "metadata": {},
   "outputs": [],
   "source": [
    "watcher = toggle.param.watch(callback, ['options', 'value'], onlychanged=False)"
   ]
  },
  {
   "cell_type": "markdown",
   "metadata": {},
   "source": [
    "Now let us display the widget alongside the ``Markdown`` panes which reflect the current state of the widget:"
   ]
  },
  {
   "cell_type": "code",
   "execution_count": null,
   "metadata": {},
   "outputs": [],
   "source": [
    "pn.Row(pn.layout.WidgetBox(toggle, width=200), selections, pn.Spacer(width=50), selected)"
   ]
  },
  {
   "cell_type": "markdown",
   "metadata": {},
   "source": [
    "If you toggle the widget values you will see the selected pane update in response. We can also trigger events manually either by setting a parameter as normal or by using the ``set_param`` method, which also allows us to batch the changes:"
   ]
  },
  {
   "cell_type": "code",
   "execution_count": null,
   "metadata": {},
   "outputs": [],
   "source": [
    "toggle.param.set_param(options={'A': 'A', 'B': 'B', 'C': 'C', 'D': 'D'}, value=['D'])"
   ]
  },
  {
   "cell_type": "markdown",
   "metadata": {},
   "source": [
    "As you can see by the ``print`` output the two parameter changes have been batched as a single call to the callback, which can be much more efficient.\n",
    "\n",
    "#### Triggering events\n",
    "\n",
    "If necessary it is also possible to trigger events manually without explicitly setting a parameter, which can be useful for refreshing some information even when the parameter itself hasn't change:"
   ]
  },
  {
   "cell_type": "code",
   "execution_count": null,
   "metadata": {},
   "outputs": [],
   "source": [
    "toggle.param.trigger('options', 'value')"
   ]
  },
  {
   "cell_type": "markdown",
   "metadata": {},
   "source": [
    "#### Unlinking\n",
    "\n",
    "If for whatever reason we want to stop watching parameter changes we can unsubscribe using by passing our ``watcher`` which was returned in the ``watch`` call above to the ``unwatch`` method:"
   ]
  },
  {
   "cell_type": "code",
   "execution_count": null,
   "metadata": {},
   "outputs": [],
   "source": [
    "toggle.param.unwatch(watcher)"
   ]
  },
  {
   "cell_type": "markdown",
   "metadata": {},
   "source": [
    "## Linking objects in JS\n",
    "\n",
    "Linking objects in Python is often very convenient, it allows writing code entirely in Python, however it also requires a live Python kernel. If instead we want a static example to have custom interactivity or we simply want to avoid the overhead of having to call back into Python we can also define links in Javascript.\n",
    "\n",
    "### Linking panel components\n",
    "\n",
    "To begin with let us see how we can express simple links between standard panel components before digging into some more specific and complex examples.\n",
    "\n",
    "#### Linking model properties\n",
    "\n",
    "Let us start by rehashing the example from above, linking the ``value`` of the ``TextInput`` widget to the ``object`` property of the ``Markdown`` pane:"
   ]
  },
  {
   "cell_type": "code",
   "execution_count": null,
   "metadata": {},
   "outputs": [],
   "source": [
    "markdown = pn.pane.Markdown('Markdown display')\n",
    "text_input = pn.widgets.TextInput(value=markdown.object)\n",
    "\n",
    "link = text_input.jslink(markdown, value='object')\n",
    "\n",
    "pn.Row(text_input, markdown)"
   ]
  },
  {
   "cell_type": "markdown",
   "metadata": {},
   "source": [
    "As you can see the signature is identical as in the ``link`` example above, Panel translates the specification into a JS code snippet which syncs the properties on the underlying bokeh properties.\n",
    "\n",
    "#### Linking using custom JS code\n",
    "\n",
    "Since everything happens in JS we can't provide a Python callback, instead we can define a JS code snippet, which is executed when a property changes, e.g. we can define a  little code snippet which adds HTML bold tags (``<b>``) around the text before setting it on the target. The code argument should map from the parameter/propery on the source object to the code snippet to execute:"
   ]
  },
  {
   "cell_type": "code",
   "execution_count": null,
   "metadata": {},
   "outputs": [],
   "source": [
    "markdown = pn.pane.Markdown('Markdown display')\n",
    "text_input = pn.widgets.TextInput(value=markdown.object)\n",
    "\n",
    "code = \"\"\"\n",
    "    target.text = '<b>' + source.value + '</b>'\n",
    "\"\"\"\n",
    "link = text_input.jslink(markdown, code={'value': code})\n",
    "\n",
    "pn.Row(text_input, markdown)"
   ]
  },
  {
   "cell_type": "markdown",
   "metadata": {},
   "source": [
    "Here ``source`` and ``target`` are made available in the Javascript namespace, allowing us to arbitrarily modify the models in response to property change events. Note however that the underlying bokeh model property names may differ slightly from the naming of the parameters on Panel objects, e.g. the 'object' parameter on the Markdown pane translates to the 'text' property on the bokeh model used to render the ``Markdown``.\n",
    "\n",
    "### Linking Plots\n",
    "\n",
    "Now that we have covered the basics let's see how we can use this approach to linking in some more complex examples involving different kinds of plots.\n",
    "\n",
    "#### Linking Bokeh Plots\n",
    "\n",
    "The ``jslink`` API trivially allows us to link a parameter on a panel widget to a bokeh plot property. Here we create a bokeh Figure with a simple sine curve. The ``jslink`` method allows us to pass any bokeh model held by the Figure as the ``target`` and then link the widget value to some property on it, e.g. here we link a ``FloatSlider`` value to the ``line_width`` of the ``Line`` glyph:"
   ]
  },
  {
   "cell_type": "code",
   "execution_count": null,
   "metadata": {},
   "outputs": [],
   "source": [
    "from bokeh.plotting import figure\n",
    "\n",
    "p = figure(width=300, height=300)\n",
    "xs = np.linspace(0, 10)\n",
    "r = p.line(xs, np.sin(xs))\n",
    "\n",
    "width_slider = pn.widgets.FloatSlider(name='Line Width', start=0.1, end=10)\n",
    "width_slider.jslink(r.glyph, value='line_width')\n",
    "\n",
    "pn.Column(width_slider, p)"
   ]
  },
  {
   "cell_type": "markdown",
   "metadata": {},
   "source": [
    "#### Linking HoloViews plots\n",
    "\n",
    "Bokeh models allow us to directly access the underlying models and properties, when working with HoloViews on the other hand this link is a bit more indirect. Therefore HoloViews will make various models available directly in the namespace:\n",
    "\n",
    "* **``cds``**: The bokeh ``ColumnDataSource`` model which holds the data used to render the plot\n",
    "* **``glyph``**: The bokeh ``Glyph`` defining the style of the element\n",
    "* **``glyph_renderer``**: The bokeh ``GlyphRenderer`` responsible for rendering the element\n",
    "* **``plot``**: The bokeh ``Figure``\n",
    "* **``xaxis``/``yaxis``**: The Axis models of the plot\n",
    "* **``x_range``/``y_range``**: The x/y-axis ``Range1d`` models defining the axis ranges\n",
    "\n",
    "All these are made available in the JS codes namespace if we decide to provide a JS code snippet but can also be referenced in the property mapping. We can map the widget value to a property on the ``glyph`` by providing a specification separated by periods, e.g. in this case we can map the value to the ``glyph.size``:"
   ]
  },
  {
   "cell_type": "code",
   "execution_count": null,
   "metadata": {},
   "outputs": [],
   "source": [
    "import holoviews as hv\n",
    "import holoviews.plotting.bokeh\n",
    "\n",
    "size_widget = pn.widgets.FloatSlider(value=5, start=3, end=20, name='Size')\n",
    "color_widget = pn.widgets.TextInput(value='black', name='Color')\n",
    "\n",
    "points = hv.Points(np.random.rand(10, 2)).options(padding=0.1, line_color='black')\n",
    "\n",
    "size_widget.jslink(points, value='glyph.size')\n",
    "color_widget.jslink(points, value='glyph.fill_color')\n",
    "\n",
    "pn.Row(points, pn.layout.WidgetBox(size_widget, color_widget))"
   ]
  }
 ],
 "metadata": {
  "language_info": {
   "name": "python",
   "pygments_lexer": "ipython3"
  }
 },
 "nbformat": 4,
 "nbformat_minor": 2
}
