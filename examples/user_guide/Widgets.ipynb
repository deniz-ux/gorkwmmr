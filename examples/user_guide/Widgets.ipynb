{
 "cells": [
  {
   "cell_type": "code",
   "execution_count": null,
   "metadata": {},
   "outputs": [],
   "source": [
    "import panel as pn\n",
    "pn.extension()"
   ]
  },
  {
   "cell_type": "markdown",
   "metadata": {},
   "source": [
    "``Panel`` provides a wide range of widgets to allow building complex GUIs. The widget classes emphasize a consistent API which allows treating broad categories of widgets as interchangeable. For instance to select a value from a list of options you can interchangeable use a ``Select`` widget, a ``RadioButtonGroup`` or a range of other equivalent widgets.\n",
    "\n",
    "Like all other components in ``Panel`` components ``Widget`` objects will render and sync their state both in the notebook and on bokeh server:"
   ]
  },
  {
   "cell_type": "code",
   "execution_count": null,
   "metadata": {},
   "outputs": [],
   "source": [
    "widget = pn.widgets.TextInput(name='A widget', value='A string')\n",
    "widget"
   ]
  },
  {
   "cell_type": "markdown",
   "metadata": {},
   "source": [
    "Changing the text value will automatically update the corresponding parameter:"
   ]
  },
  {
   "cell_type": "code",
   "execution_count": null,
   "metadata": {},
   "outputs": [],
   "source": [
    "widget.value"
   ]
  },
  {
   "cell_type": "markdown",
   "metadata": {},
   "source": [
    "Updating the parameter value will also update the widget:"
   ]
  },
  {
   "cell_type": "code",
   "execution_count": null,
   "metadata": {},
   "outputs": [],
   "source": [
    "widget.value = 'ABCDEFG'"
   ]
  },
  {
   "cell_type": "markdown",
   "metadata": {},
   "source": [
    "## Callbacks and links\n",
    "\n",
    "To listen to a parameter change we can call ``widget.param.watch`` with the parameter to watch and a function:"
   ]
  },
  {
   "cell_type": "code",
   "execution_count": null,
   "metadata": {},
   "outputs": [],
   "source": [
    "from __future__ import print_function\n",
    "\n",
    "widget.param.watch(print, 'value')"
   ]
  },
  {
   "cell_type": "markdown",
   "metadata": {},
   "source": [
    "If we change the ``widget.value`` now, the resulting change event will be printed:"
   ]
  },
  {
   "cell_type": "code",
   "execution_count": null,
   "metadata": {},
   "outputs": [],
   "source": [
    "widget.value = 'A'"
   ]
  },
  {
   "cell_type": "markdown",
   "metadata": {},
   "source": [
    "In combination with ``Panel`` objects, widgets make it possible to build interactive dashboards and visualizations very easily. For more detail on defining callbacks and links between widgets and other components see the [Links user guide](Links.ipynb)."
   ]
  },
  {
   "cell_type": "markdown",
   "metadata": {},
   "source": [
    "## Laying out widgets"
   ]
  },
  {
   "cell_type": "markdown",
   "metadata": {},
   "source": [
    "To compose multiple widgets they can be added to a ``Row``, ``Column`` or ``Tabs`` panel. To learn more about laying out widgets and panels see the [layout user guide](Layouts.ipynb)."
   ]
  },
  {
   "cell_type": "code",
   "execution_count": null,
   "metadata": {},
   "outputs": [],
   "source": [
    "slider = FloatSlider(name='Another widget', width=200)\n",
    "pn.Column(widget, slider, width=200)"
   ]
  },
  {
   "cell_type": "markdown",
   "metadata": {},
   "source": [
    "## Types of Widgets\n",
    "\n",
    "The supported widgets can be grouped into a number of distinct categories with compatible APIs.\n",
    "\n",
    "### Options selectors\n",
    "\n",
    "Option selector widgets allow selecting one or more values from a list or dictionary, all widgets of this type have ``options`` and ``value`` parameters.\n",
    "\n",
    "#### Single values\n",
    "\n",
    "These widgets allow selecting a value from a list or dictionary of options:\n",
    "\n",
    "* **[``AutocompleteInput``](../gallery/widgets/AutocompleteInput.ipynb)**: Allows selecting a ``value`` from a list or dictionary of ``options`` by entering the value into an auto-completing text field.\n",
    "* **[``DiscretePlayer``](../gallery/widgets/DiscretePlayer.ipynb)**: Displays media-player-like controls which allows playing and stepping through the provided options.\n",
    "* **[``DiscreteSlider``](../gallery/widgets/DiscreteSlider.ipynb)**: Allows selecting from a discrete list or dictionary of values using a slider.\n",
    "* **[``RadioButtonGroup``](../gallery/widgets/RadioButtonGroup.ipynb)**: Allows selecting from a list or dictionary of values using a set of toggle buttons.\n",
    "* **[``RadioBoxGroup``](../gallery/widgets/RadioBoxGroup.ipynb)**: Allows selecting from a list or dictionary of values using a set of checkboxes.\n",
    "* **[``Select``](../gallery/widgets/Select.ipynb)**: Allows selecting a value from a list or dictionary of values by selecting it from a dropdown menu.\n",
    "\n",
    "#### Multiple values\n",
    "\n",
    "These widgets allow selecting multiple values from a list or dictionary of options:\n",
    "\n",
    "* **[``CheckBoxGroup``](../gallery/widgets/CheckBoxGroup.ipynb)**: Allows selecting between a list of options by ticking the corresponding checkboxes.\n",
    "* **[``CheckButtonGroup``](../gallery/widgets/CheckButtonGroup.ipynb)**: Allows selecting between a list of options by toggling the corresponding buttons. \n",
    "* **[``CrossSelector``](../gallery/widgets/CrossSelector.ipynb)**: Allows selecting multiple values from a list of options by moving items between two lists.\n",
    "* **[``MultiSelect``](../gallery/widgets/MultiSelect.ipynb)**: Allows selecting multiple values from a list or dictionary of values by highlighting the items in a list.\n",
    "\n",
    "### Type based selectors\n",
    "\n",
    "Type based selectors provide means to select a value according to its type and all have a ``value``. The widgets in this category may also have other forms of validation beyond the type, e.g. the upper and lower bounds of sliders.\n",
    "\n",
    "#### Single value\n",
    "\n",
    "Allows selecting a single ``value`` of the appropriate type:\n",
    "\n",
    "##### Numeric\n",
    "\n",
    "Numeric selectors are bounded by a ``start`` and ``end`` value:\n",
    "\n",
    "* **[``IntSlider``](../gallery/widgets/IntSlider.ipynb)**: Allows selecting selecting a integer value within a set bounds using a slider.\n",
    "* **[``FloatSlider``](../gallery/widgets/FloatSlider.ipynb)**: Allows selecting selecting a float value within a set bounds using a slider.\n",
    "* **[``Player``](../gallery/widgets/Player.ipynb)**: Displays media-player-like controls which allows playing and stepping a range of integer values.\n",
    "\n",
    "##### Boolean\n",
    "\n",
    "* **[``Checkbox``](../gallery/widgets/Checkbox.ipynb)**: Allows toggling a single condition between ``True``/``False`` states by ticking a checkbox.\n",
    "* **[``Toggle``](../gallery/widgets/Toggle.ipynb)**: Allows toggling a single condition between ``True``/``False`` states.\n",
    "\n",
    "##### Dates\n",
    "\n",
    "* **[``DatetimeInput``](../gallery/widgets/DatetimeInput.ipynb)**: Allows entering a datetime value as text and parse it using a pre-defined formatter. \n",
    "* **[``DatePicker``](../gallery/widgets/DatePicker.ipynb)**: Allows selecting selecting a date value using a text box and the browsers date picking utility.\n",
    "* **[``DateSlider``](../gallery/widgets/DateSlider.ipynb)**: Allows selecting selecting a date value within a set bounds using a slider.\n",
    "\n",
    "##### Text\n",
    "\n",
    "* **[``TextInput``](../gallery/widgets/TextInput.ipynb)**: Allows entering any string using a text input box.\n",
    "\n",
    "##### Other\n",
    "\n",
    "* **[``ColorPicker``](../gallery/widgets/ColorPicker.ipynb)**: Allows selecting a color using the browser's color picking utilities.\n",
    "* **[``FileInput``](../gallery/widgets/FileInput.ipynb)**: Allows uploading a file from the frontend and makes the file data and mime type available in Python.\n",
    "* **[``LiteralInput``](../gallery/widgets/LiteralInput.ipynb)**: Allows entering any Python literal using a text entry box which is then parsed in Python.\n",
    "\n",
    "#### Ranges\n",
    "\n",
    "Allows selecting a range of values of the appropriate type stored as a ``(lower, upper)`` tuple on the ``value`` parameter.\n",
    "\n",
    "##### Numeric\n",
    "\n",
    "* **[``IntRangeSlider``](../gallery/widgets/IntRangeSlider.ipynb)**: Allows selecting a integer range using a slider with two handles.\n",
    "* **[``RangeSlider``](../gallery/widgets/RangeSlider.ipynb)**: Allows selecting a float range using a slider with two handles.\n",
    "\n",
    "##### Dates\n",
    "\n",
    "* **[``DateRangeSlider``](../gallery/widgets/DateRangeSlider.ipynb)**: Allows selecting a date range using a slider with two handles.\n",
    "\n",
    "### Other\n",
    "\n",
    "* **[``Audio``](../gallery/widgets/Audio.ipynb)**: Displays a audio player given a local or remote audio file providing access and control over the player state."
   ]
  }
 ],
 "metadata": {
  "kernelspec": {
   "display_name": "Python 3",
   "language": "python",
   "name": "python3"
  },
  "language_info": {
   "codemirror_mode": {
    "name": "ipython",
    "version": 3
   },
   "file_extension": ".py",
   "mimetype": "text/x-python",
   "name": "python",
   "nbconvert_exporter": "python",
   "pygments_lexer": "ipython3",
   "version": "3.6.8"
  }
 },
 "nbformat": 4,
 "nbformat_minor": 2
}
