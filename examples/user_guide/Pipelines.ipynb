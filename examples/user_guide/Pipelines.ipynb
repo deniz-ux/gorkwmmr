{
 "cells": [
  {
   "cell_type": "code",
   "execution_count": null,
   "metadata": {},
   "outputs": [],
   "source": [
    "import param\n",
    "import panel as pn\n",
    "\n",
    "pn.extension('katex')"
   ]
  },
  {
   "cell_type": "markdown",
   "metadata": {},
   "source": [
    "The [Param user guide](Param.ipynb) described how to set up classes which declare parameters and link them to some computation or visualization. In this section we will discover how to connect multiple such panels into a ``Pipeline`` to express complex workflows where the output of one stage feeds into the next stage. To start using a ``Pipeline`` let us declare an empty one by instantiating the class:"
   ]
  },
  {
   "cell_type": "code",
   "execution_count": null,
   "metadata": {},
   "outputs": [],
   "source": [
    "pipeline = pn.pipeline.Pipeline()"
   ]
  },
  {
   "cell_type": "markdown",
   "metadata": {},
   "source": [
    "Having set up a Pipeline it is now possible to start populating it. While we have already seen how to declare a ``Parameterized`` class with parameters which are linked to some visualization or computation on a method using the ``param.depends`` decorator, ``Pipelines`` make use of another decorator and a convention for displaying the objects.\n",
    "\n",
    "The ``param.output`` decorator provides a way to annotate the methods on a class by declaring its outputs. A ``Pipeline`` uses this information to determine what outputs are available to be fed into the next stage of the workflow. In the example below the ``Stage1`` class has two parameters of its own (``a`` and ``b``) and one output, which is named ``c``. The signature of the decorator allows a number of different ways of declaring the outputs:\n",
    "\n",
    "* ``param.output()``: Declaring an output without arguments will declare that the method returns an output which will inherit the name of the method and does not make any specific type declarations.\n",
    "* ``param.output(param.Number)``: Declaring an output with a specific ``Parameter`` or Python type also declares an output with the name of the method but declares that the output will be of a specific type.\n",
    "* ``param.output(c=param.Number)``: Declaring an output using a keyword argument allows overriding the method name as the name of the output and declares the type.\n",
    "\n",
    "It is also possible to declare multiple parameters, either as keywords (Python >= 3.6 required) or tuples:\n",
    "\n",
    "* ``param.output(c=param.Number, d=param.String)`` or ``param.output(('c', param.Number), ('d', param.String))``\n",
    "\n",
    "In the example below the output is simply the result of multiplying the two inputs (``a`` and ``b``) which will produce output ``c``. Additionally we declare a ``view`` method which returns a ``LaTeX`` pane which will render the equation to ``LaTeX``. Finally a ``panel`` method should be implemented to return a Panel object providing a visual representation of the stage; this is the second convention that a ``Pipeline`` expects.\n",
    "\n",
    "In addition to the output parameters, as long as ``inherit_params`` is set any parameters which exist between two different stages will also be passed along.\n",
    "\n",
    "Let's start by displaying this stage on its own:"
   ]
  },
  {
   "cell_type": "code",
   "execution_count": null,
   "metadata": {},
   "outputs": [],
   "source": [
    "class Stage1(param.Parameterized):\n",
    "\n",
    "    a = param.Number(default=5, bounds=(0, 10))\n",
    "\n",
    "    b = param.Number(default=5, bounds=(0, 10))\n",
    "    \n",
    "    ready = param.Boolean(default=False, precedence=-1)\n",
    "\n",
    "    @param.output(('c', param.Number), ('d', param.Number))\n",
    "    def output(self):\n",
    "        return self.a * self.b, self.a ** self.b\n",
    "    \n",
    "    @param.depends('a', 'b')\n",
    "    def view(self):\n",
    "        if self.a > 5:\n",
    "            self.ready = True\n",
    "        c, d = self.output()\n",
    "        return pn.pane.LaTeX('${a} * {b} = {c}$\\n${a}^{{{b}}} = {d}$'.format(\n",
    "            a=self.a, b=self.b, c=c, d=d), style={'font-size': '2em'})\n",
    "\n",
    "    def panel(self):\n",
    "        return pn.Row(self.param, self.view)\n",
    "\n",
    "stage1 = Stage1()\n",
    "stage1.panel()"
   ]
  },
  {
   "cell_type": "markdown",
   "metadata": {},
   "source": [
    "To summarize we have followed several conventions when setting up this stage of our ``Pipeline``:\n",
    "\n",
    "1. Declare a Parameterized class with some input parameters.\n",
    "2. Declare one or more methods decorated with the `param.output` decorator.\n",
    "3. Declare a ``panel`` method that returns a view of the object that the ``Pipeline`` can render.\n",
    "\n",
    "Now that the object has been instantiated we can also query it for its outputs:"
   ]
  },
  {
   "cell_type": "code",
   "execution_count": null,
   "metadata": {},
   "outputs": [],
   "source": [
    "stage1.param.outputs()"
   ]
  },
  {
   "cell_type": "markdown",
   "metadata": {},
   "source": [
    "We can see that ``Stage1`` declares an output of name ``c`` of ``Number`` type which can be accessed by calling the ``output`` method on the object. Now let us add this stage to our ``Pipeline`` using the ``add_stage`` method:"
   ]
  },
  {
   "cell_type": "code",
   "execution_count": null,
   "metadata": {},
   "outputs": [],
   "source": [
    "pipeline.add_stage('Stage 1', stage1)"
   ]
  },
  {
   "cell_type": "markdown",
   "metadata": {},
   "source": [
    "The ``add_stage`` method takes the name of the stage as its first argument, the stage class or instance as the second parameter and any additional keyword arguments to override default behavior."
   ]
  },
  {
   "cell_type": "markdown",
   "metadata": {},
   "source": [
    "A ``Pipeline`` with only a single stage is not much of a ``Pipeline`` of course, so it's time to set up a second stage, consuming the outputs of the first. Recall that ``Stage1`` declares one output named ``c``. This means that if the output from ``Stage1`` should flow to ``Stage2``, the latter should declare a ``Parameter`` named ``c`` that will consume the output of the first stage. It does not have to consume all parameters, so we can ignore output ``d``.\n",
    "\n",
    "Below we therefore define parameters ``c`` and ``exp`` and since ``c`` is the output of the first stage the ``c`` parameter will be declared with a negative precedence stopping Panel from generating a widget for it. In other respects this class is very similar to the first one; it declares both a ``view`` method that depends on the parameters of the class and a ``panel`` method that returns a view of the object."
   ]
  },
  {
   "cell_type": "code",
   "execution_count": null,
   "metadata": {},
   "outputs": [],
   "source": [
    "class Stage2(param.Parameterized):\n",
    "    \n",
    "    c = param.Number(default=5, precedence=-1, bounds=(0, None))\n",
    "\n",
    "    exp = param.Number(default=0.1, bounds=(0, 3))\n",
    "    \n",
    "    @param.depends('c', 'exp')\n",
    "    def view(self):\n",
    "        return pn.pane.LaTeX('${%s}^{%s}={%.3f}$' % (self.c, self.exp, self.c**self.exp),\n",
    "                             style={'font-size': '2em'})\n",
    "\n",
    "    def panel(self):\n",
    "        return pn.Row(self.param, self.view)\n",
    "    \n",
    "stage2 = Stage2(c=stage1.output()[0])\n",
    "stage2.panel()"
   ]
  },
  {
   "cell_type": "markdown",
   "metadata": {},
   "source": [
    "Now that we have declared the second stage of the pipeline, let us add it to the ``Pipeline`` object:"
   ]
  },
  {
   "cell_type": "code",
   "execution_count": null,
   "metadata": {},
   "outputs": [],
   "source": [
    "pipeline.add_stage('Stage 2', stage2)"
   ]
  },
  {
   "cell_type": "markdown",
   "metadata": {},
   "source": [
    "And that's it; we have no declared a two stage pipeline, where the output ``c`` flows from the first stage into the second stage. To display it we can now view the ``pipeline.layout``:"
   ]
  },
  {
   "cell_type": "code",
   "execution_count": null,
   "metadata": {},
   "outputs": [],
   "source": [
    "pipeline = pn.pipeline.Pipeline(debug=True)\n",
    "pipeline.add_stage('Stage 1', Stage1(), ready_parameter='ready', auto_advance=True)\n",
    "pipeline.add_stage('Stage 2', Stage2)\n",
    "pipeline.layout"
   ]
  },
  {
   "cell_type": "markdown",
   "metadata": {},
   "source": [
    "As you can see the ``Pipeline`` renders a little diagram displaying the available stages in the workflow along with previous and next buttons to move between each stage. This allows setting up complex workflows with multiple stages, where each component is a self-contained unit, with minimal declarations about its outputs (using the ``param.output`` decorator) and how to render it (by declaring a ``panel`` method).\n",
    "\n",
    "Above we created the ``Pipeline`` as we went along which makes some sense in a notebook to allow debugging and development of each stage.  When deploying the Pipeline as a server app or when there's no reason to instantiate each stage separately, it is also possible to declare the stages as part of the constructor:"
   ]
  },
  {
   "cell_type": "code",
   "execution_count": null,
   "metadata": {},
   "outputs": [],
   "source": [
    "stages = [\n",
    "    ('Stage 1', Stage1),\n",
    "    ('Stage 2', Stage2)\n",
    "]\n",
    "\n",
    "pipeline = pn.pipeline.Pipeline(stages)\n",
    "pipeline.layout"
   ]
  },
  {
   "cell_type": "markdown",
   "metadata": {},
   "source": [
    "As you will note the Pipeline stages may be either ``Parameterized`` instances or ``Parameterized`` classes, but when working with instances you must ensure that updating the parameters of the class is sufficient to update the current state of the class."
   ]
  },
  {
   "cell_type": "markdown",
   "metadata": {},
   "source": [
    "## Non-linear pipelines\n",
    "\n",
    "Pipelines are not limited to simple linear UI workflows, they support any arbitrary branching structures, or put another way any acyclic graph. A simple example might be a workflow with two alternative stages which rejoin at a later point. In the very simple example below we declare four stages, an `Input`, `Multiply` and `Add` and finally a `Result` stage."
   ]
  },
  {
   "cell_type": "code",
   "execution_count": null,
   "metadata": {},
   "outputs": [],
   "source": [
    "class Input(param.Parameterized):\n",
    "    \n",
    "    value1 = param.Integer(default=0)\n",
    "\n",
    "    value2 = param.Integer(default=0)\n",
    "    \n",
    "    def panel(self):\n",
    "        return pn.Row(self.param.value1, self.param.value2)\n",
    "\n",
    "class Multiply(Input):\n",
    "    \n",
    "    def panel(self):\n",
    "        return '%.3f * %.3f' % (self.value1, self.value2)\n",
    "\n",
    "    @param.output('result')\n",
    "    def output(self):\n",
    "        return self.value1 * self.value2\n",
    "    \n",
    "class Add(Input):\n",
    "    \n",
    "    def panel(self):\n",
    "        return '%d + %d' % (self.value1, self.value2)\n",
    "    \n",
    "    @param.output('result')\n",
    "    def output(self):\n",
    "        return self.value1 + self.value2\n",
    "    \n",
    "class Result(Input):\n",
    "    \n",
    "    result = param.Number(default=0)\n",
    "\n",
    "    def panel(self):\n",
    "        return self.result\n",
    "    \n",
    "dag = pn.pipeline.Pipeline()\n",
    "\n",
    "dag.add_stage('Input', Input)\n",
    "dag.add_stage('Multiply', Multiply)\n",
    "dag.add_stage('Add', Add)\n",
    "dag.add_stage('Result', Result)"
   ]
  },
  {
   "cell_type": "markdown",
   "metadata": {},
   "source": [
    "After adding all the stages we have to express the relationship between these stages. To declare the graph we can use the ``define_graph`` method and provide a adjacency map, which declares which stage feeds into which other stages. In this case the `Input` feeds into both ``Multiply`` and ``Add`` and both those stages feed into the ``Result``:"
   ]
  },
  {
   "cell_type": "code",
   "execution_count": null,
   "metadata": {},
   "outputs": [],
   "source": [
    "dag.define_graph({'Input': ('Multiply', 'Add'), 'Multiply': 'Result', 'Add': 'Result'})"
   ]
  },
  {
   "cell_type": "markdown",
   "metadata": {},
   "source": [
    "This is of course a very simple example but it demonstrates the ability to express arbitrary workflows with branching and converging steps:"
   ]
  },
  {
   "cell_type": "code",
   "execution_count": null,
   "metadata": {},
   "outputs": [],
   "source": [
    "dag.layout"
   ]
  },
  {
   "cell_type": "markdown",
   "metadata": {},
   "source": [
    "## Custom layout\n",
    "\n",
    "The `Pipeline` has a default `layout` with a `header` bar containing the navigation elements and the main `stage`. To achieve more custom layouts, each of the components can be arranged manually:\n",
    "\n",
    "* `layout`: The overall layout of the header and stage.\n",
    "* `header`: The navigation components and network diagram.\n",
    "  - `title`: The name of the current stage.\n",
    "  - `network`: A network diagram representing the pipeline.\n",
    "  - `buttons`: All navigation buttons and selectors.\n",
    "  - `prev_button`: The button to go to the previous stage.\n",
    "  - `prev_selector`: The selector widget to select between previous branching stages.\n",
    "  - `next_button`:   The button to go to the previous stage\n",
    "  - `next_selector`: The selector widget to select the next branching stages.\n",
    "* `stage`: The contents of the current pipeline stage.\n",
    "\n",
    "When displaying a pipeline in this way it is important to first initialize it:"
   ]
  },
  {
   "cell_type": "code",
   "execution_count": null,
   "metadata": {},
   "outputs": [],
   "source": [
    "dag.init()"
   ]
  },
  {
   "cell_type": "markdown",
   "metadata": {},
   "source": [
    "Now we can compose the components in any way that is desired:"
   ]
  },
  {
   "cell_type": "code",
   "execution_count": null,
   "metadata": {},
   "outputs": [],
   "source": [
    "pn.Column(\n",
    "    pn.Row(dag.title, pn.layout.HSpacer(), dag.buttons),\n",
    "    dag.network,\n",
    "    dag.stage\n",
    ")"
   ]
  },
  {
   "cell_type": "markdown",
   "metadata": {},
   "source": [
    "## Programmatic flow control\n",
    "\n",
    "By default controlling the flow between different stages is done using the \"Previous\" and \"Next\" buttons. However often we want to control the UI flow programmatically from within a stage. A `Pipeline` allows programmatic control by declaring a `ready_param` either per stage or globally on the Pipeline, which blocks and unblocks the buttons and allow advancing automatically when combined with the ``auto_advance`` parameter. In this way we can control the workflow programmatically from inside the stages.\n",
    "\n",
    "In the example below we create a version of the previous workflow which can be used without the buttons by declaring ``ready`` parameters on each of the stages, which we can toggle with a custom button or simply set to `True` by default to automatically skip the stage."
   ]
  },
  {
   "cell_type": "code",
   "execution_count": null,
   "metadata": {},
   "outputs": [],
   "source": [
    "class AutoInput(Input):\n",
    "\n",
    "    operator = param.Selector(default='+', objects=['*', '+'])\n",
    "    \n",
    "    ready = param.Boolean(default=False)\n",
    "    \n",
    "    def panel(self):\n",
    "        button = pn.widgets.Button(name='Go', button_type='success')\n",
    "        button.on_click(lambda event: setattr(self, 'ready', True))\n",
    "        return pn.Column(\n",
    "            pn.Row(self.param.value1, self.param.operator, self.param.value2),\n",
    "            button\n",
    "        )\n",
    "\n",
    "class AutoMultiply(Multiply):\n",
    "    \n",
    "    ready = param.Boolean(default=True)\n",
    "\n",
    "class AutoAdd(Add):\n",
    "    \n",
    "    ready = param.Boolean(default=True)"
   ]
  },
  {
   "cell_type": "markdown",
   "metadata": {},
   "source": [
    "Now that we have declared these stages let us set up the pipeline ensuring that we declare the `ready_parameter` and `auto_advance` settings:"
   ]
  },
  {
   "cell_type": "code",
   "execution_count": null,
   "metadata": {},
   "outputs": [],
   "source": [
    "dag = pn.pipeline.Pipeline() # could set ready_parameter='ready' and auto_advance=True globally\n",
    "\n",
    "dag.add_stage('Input', AutoInput, ready_parameter='ready', auto_advance=True)\n",
    "dag.add_stage('Multiply', AutoMultiply, ready_parameter='ready', auto_advance=True)\n",
    "dag.add_stage('Add', AutoAdd, ready_parameter='ready', auto_advance=True)\n",
    "dag.add_stage('Result', Result)\n",
    "\n",
    "dag.define_graph({'Input': ('Multiply', 'Add'), 'Multiply': 'Result', 'Add': 'Result'})\n",
    "\n",
    "dag.init()"
   ]
  },
  {
   "cell_type": "markdown",
   "metadata": {},
   "source": [
    "Finally we display the pipeline, without the buttons because we don't need them:"
   ]
  },
  {
   "cell_type": "code",
   "execution_count": null,
   "metadata": {},
   "outputs": [],
   "source": [
    "pn.Column(\n",
    "    dag.title,\n",
    "    dag.network,\n",
    "    dag.stage\n",
    ")"
   ]
  }
 ],
 "metadata": {
  "language_info": {
   "name": "python",
   "pygments_lexer": "ipython3"
  }
 },
 "nbformat": 4,
 "nbformat_minor": 4
}
