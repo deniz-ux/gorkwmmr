{
 "cells": [
  {
   "cell_type": "code",
   "execution_count": null,
   "metadata": {},
   "outputs": [],
   "source": [
    "import param\n",
    "import panel as pn\n",
    "\n",
    "pn.extension()"
   ]
  },
  {
   "cell_type": "markdown",
   "metadata": {},
   "source": [
    "When building custom applications and dashboards it is frequently useful to extend Panel with custom components, which are specific to a particular application. Panel provides multiple mechanisms to extend and compose diffferent components or even add entirely new components. In this user guide we will go over these approaches and compare the benefits and drawbacks.\n",
    "\n",
    "## Viewer components\n",
    "\n",
    "The simplest way to extend Panel is to implement so called `Viewer` components. These components simply wrap other Panel object and make it possible to compose them as a unit just like any native Panel component. The core mechanism that makes this possible is the implementation of a ``__panel__`` method on the class, which Panel will call when displaying the component.\n",
    "\n",
    "Below we will declare a composite `EditableRange` component made up of two `FloatInput` widgets. The class creates the widgets and then sets up callbacks to sync the parameters on the underlying widgets with the parameters on the `Viewer` component and then implements the ``__panel__`` method, which returns the Panel layout to be rendered when displaying the component:"
   ]
  },
  {
   "cell_type": "code",
   "execution_count": null,
   "metadata": {},
   "outputs": [],
   "source": [
    "from panel.viewable import Viewer\n",
    "\n",
    "class EditableRange(Viewer):\n",
    "    \n",
    "    value = param.Range(doc=\"A numeric range.\")\n",
    "    \n",
    "    width = param.Integer(default=300)\n",
    "    \n",
    "    def __init__(self, **params):\n",
    "        self._start_input = pn.widgets.FloatInput()\n",
    "        self._end_input = pn.widgets.FloatInput(align='end')\n",
    "        super().__init__(**params)\n",
    "        self._layout = pn.Row(self._start_input, self._end_input)\n",
    "        self._sync_widgets()\n",
    "    \n",
    "    def __panel__(self):\n",
    "        return self._layout\n",
    "    \n",
    "    @param.depends('value', 'width', watch=True)\n",
    "    def _sync_widgets(self):\n",
    "        self._start_input.name = self.name\n",
    "        self._start_input.value = self.value[0]\n",
    "        self._end_input.value = self.value[1]\n",
    "        self._start_input.width = self.width//2\n",
    "        self._end_input.width = self.width//2\n",
    "        \n",
    "    @param.depends('_start_input.value', '_end_input.value', watch=True)\n",
    "    def _sync_params(self):\n",
    "        self.value = (self._start_input.value, self._end_input.value)\n",
    "    \n",
    "range_widget = EditableRange(name='Range', value=(0, 10))\n",
    "\n",
    "pn.Column(\n",
    "    '## This is a custom widget',\n",
    "    range_widget\n",
    ")"
   ]
  },
  {
   "cell_type": "markdown",
   "metadata": {},
   "source": [
    "Implementing a component by subclassing the `Viewer` baseclass gives the component a number of useful affordances:\n",
    "    \n",
    "* It renders itself in a notebook (like all other Panel components)\n",
    "* It can be placed in a Panel layout component (such as a `Row` or `Column`)\n",
    "* It has `show` and `servable` methods\n",
    "\n",
    "This approach is very helpful when we want to wrap multiple existing Panel components into a easily reusable unit."
   ]
  },
  {
   "cell_type": "markdown",
   "metadata": {},
   "source": [
    "## ReactiveHTML components\n",
    "\n",
    "The `ReactiveHTML` provides bi-directional syncing of arbitrary HTML attributes and DOM properties with parameters on the subclass. This kind of component must declare a few class-attributes which declare \n",
    "\n",
    "- `_html`: The HTML template to render declaring how to link parameters on the class to HTML attributes.\n",
    "- `_dom_events` (optional): Optional mapping of named nodes to DOM events to add event listeners to.\n",
    "- `_scripts` (optional): Optional mapping of Javascript to execute on specific parameter changes.\n",
    "\n",
    "### HTML templates\n",
    "\n",
    "A ReactiveHTML component is declared by providing an HTML template on the `_html` attribute on the class. Parameters are synced by inserting them as template variables of the form `${parameter}`, e.g.:\n",
    "\n",
    "```html\n",
    "    _html = '<div class=\"${div_class}\">${children}</div>'\n",
    "```\n",
    "\n",
    "will interpolate the div_class parameter on the `class` attribute of the HTML element. In addition to providing attributes we can also provide children to an HTML tag. Any child parameter will be treated as other Panel components to render into the containing HTML. This makes it possible to use `ReactiveHTML` to lay out other components.\n",
    "\n",
    "### DOM Events\n",
    "\n",
    "In certain cases it is necessary to explicitly declare event listeners on the DOM node to ensure that changes in their properties are synced when an event is fired. To make this possible the HTML element in question must be given a unique id, e.g.:\n",
    "\n",
    "```html\n",
    "    _html = '<input id=\"input\"></input>'\n",
    "```\n",
    "\n",
    "Now we can use this name to declare set of `_dom_events` to subscribe to. The following will subscribe to change DOM events on the input element:\n",
    "\n",
    "```python\n",
    "    _dom_events = {'input': ['change']}\n",
    "```\n",
    "\n",
    "Once subscribed the class may also define a method following the `_{node}_{event}` naming convention which will fire when the DOM event triggers, e.g. we could define a `_input_change` method. Any such callback will be given a DOMEvent object as the first and only argument. The DOMEvent contains information about the event on the .data attribute and declares the type of event on the .type attribute.\n",
    "\n",
    "### Inline callbacks\n",
    "    \n",
    "Instead of declaring explicit DOM events Python callbacks can also be declared inline, e.g.:\n",
    "\n",
    "```html\n",
    "    _html = '<input id=\"input\" onchange=\"${_input_change}\"></input>'\n",
    "```\n",
    "\n",
    "will look for an `_input_change` method on the `ReactiveHTML` component and call it when the event is fired.\n",
    "\n",
    "### Scripts\n",
    "    \n",
    "In addition to declaring callbacks in Python it is also possible to declare Javascript callbacks to execute when any sync attribute changes. Let us say we have declared an input element with a synced value parameter:\n",
    "\n",
    "```html\n",
    "    _html = '<input id=\"input\" value=\"${value}\"></input>'\n",
    "```\n",
    "\n",
    "We can now declare a set of `_scripts`, which will fire whenever the value updates:\n",
    "\n",
    "```python\n",
    "   _scripts = {\n",
    "     'value': ['console.log(model, data, state, input)']\n",
    "   }\n",
    "```\n",
    "\n",
    "The Javascript is provided multiple objects in its namespace including:\n",
    "\n",
    "\n",
    "* `data`:  The data model holds the current values of the synced parameters, e.g. data.value will reflect the current value of the input node.\n",
    "* `model`:  The ReactiveHTML model which holds layout information and information about the children and events.\n",
    "* `state`:  An empty state dictionary which scripts can use to store state for the lifetime of the view.\n",
    "* `<node>`: All named DOM nodes in the HTML template, e.g. the `input` node in the example above."
   ]
  },
  {
   "cell_type": "markdown",
   "metadata": {},
   "source": [
    "### Example\n",
    "\n",
    "To see all of this in action we declare a `Slideshow` component which subscribes to `click` events on an `<img>` element and advances the image `index` on each click:"
   ]
  },
  {
   "cell_type": "code",
   "execution_count": null,
   "metadata": {},
   "outputs": [],
   "source": [
    "from panel.reactive import ReactiveHTML\n",
    "\n",
    "class Slideshow(ReactiveHTML):\n",
    "    \n",
    "    index = param.Integer(default=0)\n",
    "    \n",
    "    _html = '<img id=\"img\" src=\"https://picsum.photos/800/300?image=${index}\"></img>'\n",
    "\n",
    "    _scripts = {\n",
    "        'index': ['console.log(data.index, img)']\n",
    "    }\n",
    "\n",
    "    _dom_events = {\n",
    "        'img': ['click']\n",
    "    }\n",
    "    \n",
    "    def _img_click(self, event):\n",
    "        self.index += 1\n",
    "        \n",
    "Slideshow(width=800, height=300)"
   ]
  },
  {
   "cell_type": "markdown",
   "metadata": {},
   "source": [
    "As we can see this approach lets us quickly build custom HTML components with complex interactivity."
   ]
  },
  {
   "cell_type": "markdown",
   "metadata": {},
   "source": [
    "## Building custom bokeh models\n",
    "\n",
    "The last approach to extending Panel with new components is to write custom Bokeh models. This involves writing, compiling and distributing custom Javascript and therefore requires considerably more effort than the other approaches. Detailed documentation on writing such components will be coming to the developer guide in the future."
   ]
  }
 ],
 "metadata": {
  "kernelspec": {
   "display_name": "Python 3",
   "language": "python",
   "name": "python3"
  },
  "language_info": {
   "codemirror_mode": {
    "name": "ipython",
    "version": 3
   },
   "file_extension": ".py",
   "mimetype": "text/x-python",
   "name": "python",
   "nbconvert_exporter": "python",
   "pygments_lexer": "ipython3",
   "version": "3.8.2"
  },
  "widgets": {
   "application/vnd.jupyter.widget-state+json": {
    "state": {},
    "version_major": 2,
    "version_minor": 0
   }
  }
 },
 "nbformat": 4,
 "nbformat_minor": 4
}
