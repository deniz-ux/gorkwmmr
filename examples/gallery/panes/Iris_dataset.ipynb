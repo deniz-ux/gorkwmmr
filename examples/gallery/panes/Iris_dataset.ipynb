{
 "cells": [
  {
   "cell_type": "markdown",
   "metadata": {},
   "source": [
    "# Iris dataset visualization"
   ]
  },
  {
   "cell_type": "markdown",
   "metadata": {},
   "source": [
    "Lets visualize Iris dataset that is available on `skelarn` by creating a simple dashboard using `panel`"
   ]
  },
  {
   "cell_type": "markdown",
   "metadata": {},
   "source": [
    "Let's import all the pacakges required to create this dashboard."
   ]
  },
  {
   "cell_type": "code",
   "execution_count": null,
   "metadata": {},
   "outputs": [],
   "source": [
    "import hvplot.pandas\n",
    "import param\n",
    "import panel as pn\n",
    "import pandas as pd\n",
    "\n",
    "from sklearn import datasets\n",
    "from sklearn.cluster import KMeans"
   ]
  },
  {
   "cell_type": "markdown",
   "metadata": {},
   "source": [
    "`Iris` dataset has four features `sepal length (cm)`, `sepal width (cm)`, `petal length (cm)`, `petal width (cm)` as input columns and label for each row as `target` column \n",
    "\n",
    "We will start by creating a dataframe with these five features (including the `label`) and then create an `ObjectSelector` object to develop menu options for different input features. Later we will define the core plotting function in the `plot` method and define the layout in the `panel` method of `IrisDashboard` class.\n",
    "\n",
    "The `plot` method can watch the `tag_A` and `tag_B` using the `param.depends` decorator and setting `watch` option of this decorator to `True`"
   ]
  },
  {
   "cell_type": "code",
   "execution_count": null,
   "metadata": {},
   "outputs": [],
   "source": [
    "class IrisDashboard(param.Parameterized):\n",
    "    \n",
    "    # Load digits dataset\n",
    "    iris = datasets.load_iris()\n",
    "\n",
    "    # Create feature matrix and target vector\n",
    "    x = iris.data\n",
    "    y = iris.target\n",
    "    \n",
    "    # Create dataframe\n",
    "    df = pd.DataFrame(x, columns=iris.feature_names)\n",
    "    df['label'] = y\n",
    "    \n",
    "    # param objects \n",
    "    tag_A = param.ObjectSelector(default=iris.feature_names[0], objects=iris.feature_names)\n",
    "    tag_B = param.ObjectSelector(default=iris.feature_names[1], objects=iris.feature_names)\n",
    "    \n",
    "    @param.depends('tag_A', 'tag_B', watch=True)\n",
    "    def plot(self):\n",
    "        return self.df.hvplot.scatter(x=self.tag_A, y=self.tag_B, by='label')\n",
    "    \n",
    "    def panel(self):\n",
    "        return pn.Row(self.param, self.plot)"
   ]
  },
  {
   "cell_type": "code",
   "execution_count": null,
   "metadata": {},
   "outputs": [],
   "source": [
    "dashboard = IrisDashboard(name='Iris Dashboard')\n",
    "dashboard.panel()"
   ]
  },
  {
   "cell_type": "code",
   "execution_count": null,
   "metadata": {},
   "outputs": [],
   "source": []
  }
 ],
 "metadata": {
  "language_info": {
   "name": "python",
   "pygments_lexer": "ipython3"
  }
 },
 "nbformat": 4,
 "nbformat_minor": 2
}
