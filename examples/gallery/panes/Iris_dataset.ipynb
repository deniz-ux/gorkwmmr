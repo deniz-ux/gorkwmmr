{
 "cells": [
  {
   "cell_type": "markdown",
   "metadata": {},
   "source": [
    "# Iris dataset visualization"
   ]
  },
  {
   "cell_type": "markdown",
   "metadata": {},
   "source": [
    "The [iris dataset](https://en.wikipedia.org/wiki/Iris_flower_data_set) is a standard example used to illustrate machine-learning and visualization techniques. Here, we show how to use [scikit-learn](https://scikit-learn.org) to cluster the iris species by similarity using the k-means algorithm, then explore the results using [hvplot](http://hvplot.pyviz.org) to create plots and [panel](http://panel.pyviz.org) to make a dashboard. First, let's import the packages we are using:"
   ]
  },
  {
   "cell_type": "code",
   "execution_count": null,
   "metadata": {},
   "outputs": [],
   "source": [
    "import hvplot.pandas\n",
    "import param\n",
    "import panel as pn\n",
    "import pandas as pd\n",
    "\n",
    "from sklearn import datasets"
   ]
  },
  {
   "cell_type": "markdown",
   "metadata": {},
   "source": [
    "This dataset has four input feature columns, `sepal length (cm)`, `sepal width (cm)`, `petal length (cm)`, `petal width (cm)` and one target column `label` to predict from those measurements, i.e., the species name.\n",
    "\n",
    "We will start by creating a dataframe with these five features (including the `label`) and then create an `Selector` object to develop menu options for different input features. Later we will define the core plotting function in the `plot` method and define the layout in the `panel` method of `IrisDashboard` class.\n",
    "\n",
    "The `plot` method can watch the `X_variable` and `Y_variable` using the `param.depends` decorator and setting `watch` option of this decorator to `True`."
   ]
  },
  {
   "cell_type": "code",
   "execution_count": null,
   "metadata": {},
   "outputs": [],
   "source": [
    "class IrisDashboard(param.Parameterized):\n",
    "    \n",
    "    # Load iris dataset\n",
    "    iris = datasets.load_iris()\n",
    "\n",
    "    # Create feature matrix and target vector\n",
    "    x = iris.data\n",
    "    y = iris.target\n",
    "    \n",
    "    # Create dataframe, using string target names instead of integers\n",
    "    df = pd.DataFrame(x, columns=iris.feature_names)\n",
    "    df[\"label\"] = pd.Series(y).replace(list(range(len(iris.target_names))),iris.target_names)\n",
    "    \n",
    "    # param objects \n",
    "    X_variable = param.Selector(iris.feature_names, default=iris.feature_names[0])\n",
    "    Y_variable = param.Selector(iris.feature_names, default=iris.feature_names[1])\n",
    "    \n",
    "    @param.depends('X_variable', 'Y_variable', watch=True)\n",
    "    def plot(self):\n",
    "        return self.df.hvplot.scatter(x=self.X_variable, y=self.Y_variable, by='label')\n",
    "    \n",
    "    def panel(self):\n",
    "        return pn.Row(self.param, self.plot)"
   ]
  },
  {
   "cell_type": "markdown",
   "metadata": {},
   "source": [
    "You can see the structure of this dataset if you show the first few rows:"
   ]
  },
  {
   "cell_type": "code",
   "execution_count": null,
   "metadata": {},
   "outputs": [],
   "source": [
    "dashboard = IrisDashboard(name='Iris_Dashboard')\n",
    "dashboard.df.head()"
   ]
  },
  {
   "cell_type": "markdown",
   "metadata": {},
   "source": [
    "And now you can explore how each of the input columns relate to each other, either here in the notebook or when served as a separate dashboard using `panel serve --show Iris_dataset.ipynb`:"
   ]
  },
  {
   "cell_type": "code",
   "execution_count": null,
   "metadata": {},
   "outputs": [],
   "source": [
    "dashboard.panel().servable()"
   ]
  }
 ],
 "metadata": {
  "kernelspec": {
   "display_name": "Python 3",
   "language": "python",
   "name": "python3"
  },
  "language_info": {
   "codemirror_mode": {
    "name": "ipython",
    "version": 3
   },
   "file_extension": ".py",
   "mimetype": "text/x-python",
   "name": "python",
   "nbconvert_exporter": "python",
   "pygments_lexer": "ipython3",
   "version": "3.7.2"
  }
 },
 "nbformat": 4,
 "nbformat_minor": 2
}
