{
 "cells": [
  {
   "cell_type": "code",
   "execution_count": null,
   "id": "ed7c1d01-d655-4878-a27d-c6d0e330097b",
   "metadata": {},
   "outputs": [],
   "source": [
    "import panel as pn\n",
    "pn.extension(\"plotly\", sizing_mode=\"stretch_width\")"
   ]
  },
  {
   "cell_type": "markdown",
   "id": "ea1bc3ca-f83c-48e5-8046-7a4341ed835d",
   "metadata": {},
   "source": [
    "The `BeforeAfterSlider` \n",
    "\n",
    "The BeforeAfterSlider layout enables you to quickly compare two panels layed out on top of each other with a part of the *before* panel shown on one side of a slider and a part of the *after* panel shown on the other side.\n",
    "\n",
    "#### Parameters:\n",
    "\n",
    "* **``value``** (int): The percentage of the *after* panel shown. Default is 50.\n",
    "* **``before``**: The *before* panel.\n",
    "* **``after``**: The *after* panel.\n",
    "* **``slider_width``** (int): The width of the slider in pixels. Default is 12.\n",
    "* **``slider_color``** (str): The color of the slider. Default is 'silver'."
   ]
  },
  {
   "cell_type": "code",
   "execution_count": null,
   "id": "b13a6212-a1d0-4bff-bf78-a816d74dd869",
   "metadata": {},
   "outputs": [],
   "source": [
    "import plotly.express as px"
   ]
  },
  {
   "cell_type": "code",
   "execution_count": null,
   "id": "43d79209-2262-4da3-b6ed-aa3b6ee7e1c0",
   "metadata": {},
   "outputs": [],
   "source": [
    "df = px.data.election()\n",
    "geojson = px.data.election_geojson()"
   ]
  },
  {
   "cell_type": "code",
   "execution_count": null,
   "id": "057cf977-a332-4e80-8ccf-b0aae2a8226c",
   "metadata": {},
   "outputs": [],
   "source": [
    "def display_choropleth(candidate):\n",
    "    fig = px.choropleth(\n",
    "        df, geojson=geojson, color=candidate,\n",
    "        locations=\"district\", featureidkey=\"properties.district\",\n",
    "        projection=\"mercator\", range_color=[0, 6500])\n",
    "    fig.update_geos(fitbounds=\"locations\", visible=False)\n",
    "    fig.update_layout(margin={\"r\":0,\"t\":0,\"l\":0,\"b\":0})\n",
    "\n",
    "    return fig"
   ]
  },
  {
   "cell_type": "code",
   "execution_count": null,
   "id": "33d85c16-ea4c-44bb-98fd-e66fd00c665b",
   "metadata": {},
   "outputs": [],
   "source": [
    "plot_before = display_choropleth(\"Joly\")\n",
    "plot_after = display_choropleth(\"Coderre\")"
   ]
  },
  {
   "cell_type": "code",
   "execution_count": null,
   "id": "e570221d-6a68-4d15-ad8f-0fe316df9abf",
   "metadata": {},
   "outputs": [],
   "source": [
    "before_after = pn.layout.BeforeAfterSlider(\n",
    "        value=20, before=plot_before, after=plot_after, height=600\n",
    ")\n",
    "before_after"
   ]
  }
 ],
 "metadata": {
  "kernelspec": {
   "display_name": "Python 3 (ipykernel)",
   "language": "python",
   "name": "python3"
  },
  "language_info": {
   "codemirror_mode": {
    "name": "ipython",
    "version": 3
   },
   "file_extension": ".py",
   "mimetype": "text/x-python",
   "name": "python",
   "nbconvert_exporter": "python",
   "pygments_lexer": "ipython3",
   "version": "3.7.10"
  }
 },
 "nbformat": 4,
 "nbformat_minor": 5
}
