{
 "cells": [
  {
   "cell_type": "code",
   "execution_count": null,
   "id": "57b9b65e",
   "metadata": {},
   "outputs": [],
   "source": [
    "import panel as pn\n",
    "import holoviews as hv\n",
    "import numpy as np\n",
    "import random\n",
    "import pandas as pd\n",
    "\n",
    "pn.extension(\"tabulator\", \"plotly\", sizing_mode=\"stretch_width\")\n",
    "hv.extension(\"bokeh\")\n",
    "\n",
    "ACCENT_COLOR = \"#0072B5\"\n",
    "THEME = pn.state.session_args.get('theme', [b'default'])[0].decode()"
   ]
  },
  {
   "cell_type": "markdown",
   "id": "c81254c9",
   "metadata": {},
   "source": [
    "The `BeforeAfterSlider` \n",
    "\n",
    "The BeforeAfterSlider layout enables you to quickly compare two panels layed out on top of each other. This notebook will show how it works for different examples."
   ]
  },
  {
   "cell_type": "markdown",
   "id": "43245eb2-9d3a-4ad8-ad6e-2172b752b799",
   "metadata": {},
   "source": [
    "## Image\n",
    "\n",
    "Source: http://www.nathanshipley.com/gan/#gan-015-toonify-layer-blending"
   ]
  },
  {
   "cell_type": "code",
   "execution_count": null,
   "id": "eb18ca7f-4665-4f53-8e3f-db500290a6b5",
   "metadata": {},
   "outputs": [],
   "source": [
    "before_image = pn.pane.JPG(\"https://images.squarespace-cdn.com/content/v1/54f4d512e4b0f54e36c4976f/1600724128265-GKIIG185IDPOMXMHY17S/Jameela-Jamil-GQ-tout-2x3_01.jpg\", embed=False, height=400, sizing_mode=\"scale_height\")\n",
    "after_image = pn.pane.JPG(\"https://images.squarespace-cdn.com/content/v1/54f4d512e4b0f54e36c4976f/1600724098968-JPWFSO2AN4QR6JI3A7YP/Cartoon_Jameela_Jamil.jpg\", embed=False, height=400, sizing_mode=\"scale_height\")"
   ]
  },
  {
   "cell_type": "code",
   "execution_count": null,
   "id": "dfb1131a-d3bc-455c-862b-2ba4b0cc6e84",
   "metadata": {},
   "outputs": [],
   "source": [
    "image = pn.layout.BeforeAfterSlider(\n",
    "        value=20, before=before_image, after=after_image, name=\"Image\", height=410, width=400, sizing_mode=\"fixed\"\n",
    ")"
   ]
  },
  {
   "cell_type": "code",
   "execution_count": null,
   "id": "fac2375b-b8d2-4da5-aef8-187d5d30350b",
   "metadata": {},
   "outputs": [],
   "source": [
    "image_component = pn.Column(\n",
    "    \"# Image - nathanshipley.com \",\n",
    "    pn.Row(pn.Row(pn.pane.Markdown(\"## After: Toonified\", sizing_mode=\"fixed\", width=400), pn.Spacer(sizing_mode=\"stretch_width\"), pn.pane.Markdown(\"## Before: Original\", sizing_mode=\"fixed\", width=400))),\n",
    "    image, width=500, sizing_mode=\"fixed\"\n",
    ")\n",
    "image_component"
   ]
  },
  {
   "cell_type": "markdown",
   "id": "96f8d107",
   "metadata": {},
   "source": [
    "## HvPlot"
   ]
  },
  {
   "cell_type": "code",
   "execution_count": null,
   "id": "e323dda9",
   "metadata": {},
   "outputs": [],
   "source": [
    "import hvplot.pandas\n",
    "from bokeh.sampledata import sea_surface_temperature as sst\n",
    "\n",
    "df = sst.sea_surface_temperature\n",
    "df2 = df.copy()\n",
    "for _ in range(0,10):\n",
    "    row=random.randint(0, len(df2)-1)\n",
    "    df2.iloc[row,0]+=100"
   ]
  },
  {
   "cell_type": "code",
   "execution_count": null,
   "id": "ffc82868",
   "metadata": {},
   "outputs": [],
   "source": [
    "before_hvplot=df.hvplot.heatmap(x='time.month', y='time.day', C='temperature', \n",
    "                  height=300, responsive=True, colorbar=False).aggregate(function=np.mean)\n",
    "after_hvplot=df2.hvplot.heatmap(x='time.month', y='time.day', C='temperature', \n",
    "                  height=300, responsive=True, colorbar=False).aggregate(function=np.mean)"
   ]
  },
  {
   "cell_type": "code",
   "execution_count": null,
   "id": "21b2d234",
   "metadata": {},
   "outputs": [],
   "source": [
    "hvplot_plot = pn.layout.BeforeAfterSlider(\n",
    "        value=20, before=before_hvplot, after=after_hvplot, height=310, name=\"HvPlot\"\n",
    ")\n",
    "hvplot_component = pn.Column(\n",
    "    \"# hvplot - Sea Surface Temperature\",\n",
    "    pn.Row(pn.Row(pn.pane.Markdown(\"## After: Randomized\", sizing_mode=\"fixed\", width=400), pn.Spacer(sizing_mode=\"stretch_width\"), pn.pane.Markdown(\"## Before: Original\", sizing_mode=\"fixed\", width=400))),\n",
    "    hvplot_plot,\n",
    ")\n",
    "hvplot_component"
   ]
  },
  {
   "cell_type": "markdown",
   "id": "0a997e78",
   "metadata": {},
   "source": [
    "## Plotly"
   ]
  },
  {
   "cell_type": "code",
   "execution_count": null,
   "id": "3109949a",
   "metadata": {},
   "outputs": [],
   "source": [
    "import plotly.express as px"
   ]
  },
  {
   "cell_type": "code",
   "execution_count": null,
   "id": "db4f669c",
   "metadata": {},
   "outputs": [],
   "source": [
    "df = px.data.election()\n",
    "geojson = px.data.election_geojson()"
   ]
  },
  {
   "cell_type": "code",
   "execution_count": null,
   "id": "3e325547",
   "metadata": {},
   "outputs": [],
   "source": [
    "if THEME == \"dark\":\n",
    "    plotly_template = \"plotly_dark\"\n",
    "else:\n",
    "    plotly_template = \"plotly\""
   ]
  },
  {
   "cell_type": "code",
   "execution_count": null,
   "id": "269ec275",
   "metadata": {},
   "outputs": [],
   "source": [
    "def display_choropleth(candidate):\n",
    "    fig = px.choropleth(\n",
    "        df, geojson=geojson, color=candidate, title=candidate,\n",
    "        locations=\"district\", featureidkey=\"properties.district\",\n",
    "        projection=\"mercator\", range_color=[0, 6500], template=plotly_template)\n",
    "    fig.update_geos(fitbounds=\"locations\", visible=False)\n",
    "    fig.update_layout(margin={\"r\":0,\"t\":0,\"l\":0,\"b\":0})\n",
    "    fig.update_layout(autosize = True)\n",
    "\n",
    "    return fig"
   ]
  },
  {
   "cell_type": "code",
   "execution_count": null,
   "id": "2e6c8322",
   "metadata": {},
   "outputs": [],
   "source": [
    "plotly_before = pn.pane.Plotly(display_choropleth(\"Joly\"), sizing_mode=\"stretch_both\")\n",
    "plotly_after = pn.pane.Plotly(display_choropleth(\"Coderre\"), sizing_mode=\"stretch_both\")"
   ]
  },
  {
   "cell_type": "code",
   "execution_count": null,
   "id": "efb5b7f9",
   "metadata": {},
   "outputs": [],
   "source": [
    "plotly_plot = pn.layout.BeforeAfterSlider(\n",
    "        value=20, before=plotly_before, after=plotly_after, height=310, name=\"Plotly\"\n",
    ")\n",
    "plotly_component = pn.Column(\n",
    "    \"# Plotly - Election Data\",\n",
    "    pn.Row(pn.Row(pn.pane.Markdown(\"## After: Coderre\", sizing_mode=\"fixed\", width=200), pn.Spacer(sizing_mode=\"stretch_width\"), pn.pane.Markdown(\"## Before: Joly\", sizing_mode=\"fixed\", width=200))),\n",
    "    plotly_plot,\n",
    ")\n",
    "plotly_component"
   ]
  },
  {
   "cell_type": "markdown",
   "id": "33d59705-7f0d-4958-aaab-0df0a9593f57",
   "metadata": {},
   "source": [
    "## Tabulator"
   ]
  },
  {
   "cell_type": "code",
   "execution_count": null,
   "id": "fb551b60-d876-4f96-b149-99318af4ea88",
   "metadata": {},
   "outputs": [],
   "source": [
    "before_df = pd.DataFrame(np.random.randn(10, 5), columns=list('ABCDE'))\n",
    "after_df = before_df.copy()\n",
    "\n",
    "for _ in range(0,30):\n",
    "    row=random.randint(0, len(after_df)-1)\n",
    "    column=random.randint(0, len(after_df.columns)-1)\n",
    "    after_df.iloc[row,column]+=1"
   ]
  },
  {
   "cell_type": "code",
   "execution_count": null,
   "id": "4d82491b-ae81-4791-b68a-f1b3f9e93134",
   "metadata": {},
   "outputs": [],
   "source": [
    "tabulator_before = pn.widgets.Tabulator(before_df)\n",
    "tabulator_after = pn.widgets.Tabulator(after_df)"
   ]
  },
  {
   "cell_type": "code",
   "execution_count": null,
   "id": "94ab8961-9748-491b-b0e4-2a4f6ca59e4d",
   "metadata": {},
   "outputs": [],
   "source": [
    "def color_negative_red(val):\n",
    "    \"\"\"\n",
    "    Takes a scalar and returns a string with\n",
    "    the css property `'color: red'` for negative\n",
    "    strings, black otherwise.\n",
    "    \"\"\"\n",
    "    color = 'red' if val < 0 else 'black'\n",
    "    return 'color: %s' % color\n",
    "\n",
    "tabulator_before.style.applymap(color_negative_red)\n",
    "tabulator_after.style.applymap(color_negative_red);"
   ]
  },
  {
   "cell_type": "code",
   "execution_count": null,
   "id": "f96c4d99-da2c-4f46-85cf-d1b0bb60df17",
   "metadata": {},
   "outputs": [],
   "source": [
    "tabulator_table = pn.layout.BeforeAfterSlider(\n",
    "        value=20, before=tabulator_before, after=tabulator_after, height=310, name=\"Tabulator\"\n",
    ")\n",
    "tabulator_component = pn.Column(\n",
    "    \"# Tabulator - Random Data\",\n",
    "    pn.Row(pn.Row(pn.pane.Markdown(\"## After\", sizing_mode=\"fixed\", width=200), pn.Spacer(sizing_mode=\"stretch_width\"), pn.pane.Markdown(\"## Before\", sizing_mode=\"fixed\", width=200))),\n",
    "    tabulator_table,\n",
    "    \"* Negative Colors are red\",\n",
    ")\n",
    "tabulator_component"
   ]
  },
  {
   "cell_type": "markdown",
   "id": "84f85266",
   "metadata": {},
   "source": [
    "## App\n",
    "\n",
    "Lets wrap it up in a nice template"
   ]
  },
  {
   "cell_type": "code",
   "execution_count": null,
   "id": "18efa4ab",
   "metadata": {},
   "outputs": [],
   "source": [
    "pn.template.FastListTemplate(\n",
    "    site=\"Panel\", title=\"BeforeAfterSlider Examples\",\n",
    "    main=[\n",
    "        image_component,\n",
    "        hvplot_component,\n",
    "        plotly_component,\n",
    "        tabulator_component,\n",
    "    ],\n",
    "    accent_base_color=ACCENT_COLOR, header_background=ACCENT_COLOR\n",
    ").servable();"
   ]
  },
  {
   "cell_type": "code",
   "execution_count": null,
   "id": "0ee12e94-3b3a-4476-abf2-2ff436df41c9",
   "metadata": {},
   "outputs": [],
   "source": []
  }
 ],
 "metadata": {
  "kernelspec": {
   "display_name": "Python 3 (ipykernel)",
   "language": "python",
   "name": "python3"
  },
  "language_info": {
   "codemirror_mode": {
    "name": "ipython",
    "version": 3
   },
   "file_extension": ".py",
   "mimetype": "text/x-python",
   "name": "python",
   "nbconvert_exporter": "python",
   "pygments_lexer": "ipython3",
   "version": "3.7.10"
  }
 },
 "nbformat": 4,
 "nbformat_minor": 5
}
