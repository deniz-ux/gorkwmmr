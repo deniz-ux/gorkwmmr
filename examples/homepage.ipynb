{
 "cells": [
  {
   "cell_type": "code",
   "execution_count": null,
   "metadata": {
    "tags": [
     "hide-input"
    ]
   },
   "outputs": [],
   "source": [
    "import panel as pn\n",
    "pn.extension('ace')"
   ]
  },
  {
   "cell_type": "code",
   "execution_count": null,
   "metadata": {
    "tags": [
     "hide-input"
    ]
   },
   "outputs": [],
   "source": [
    "slider1 = pn.widgets.FloatSlider(name='Pick a float')\n",
    "slider2 = pn.widgets.IntSlider(name='Pick an integer', start=0, end=10)\n",
    "\n",
    "def add(v1, v2):\n",
    "    return f'# $${v1} + {v2} = {v1+v2:.1f}$$'\n",
    "\n",
    "app = pn.Row(\n",
    "    pn.Column(\n",
    "        slider1,\n",
    "        slider2\n",
    "    ),\n",
    "    pn.bind(add, slider1, slider2)\n",
    ")\n",
    "\n",
    "ace = pn.widgets.Ace(readonly=True, width=500, language='python', theme='monokai', value=\"\"\"\n",
    "slider1 = pn.widgets.FloatSlider(name='Pick a float')\n",
    "slider2 = pn.widgets.IntSlider(\n",
    "    name='Pick an integer', start=0, end=10)\n",
    "\n",
    "def add(v1, v2):\n",
    "    return f'# $${v1} + {v2} = {v1+v2:.1f}$$'\n",
    "\n",
    "app = pn.Row(\n",
    "    pn.Column(\n",
    "        slider1,\n",
    "        slider2\n",
    "    ),\n",
    "    pn.bind(add, slider1, slider2)\n",
    ")\"\"\")\n",
    "\n",
    "\n",
    "pn.Row(pn.layout.HSpacer(), ace, app, pn.layout.HSpacer()).embed()"
   ]
  }
 ],
 "metadata": {
  "kernelspec": {
   "display_name": "Python 3 (ipykernel)",
   "language": "python",
   "name": "python3"
  },
  "language_info": {
   "codemirror_mode": {
    "name": "ipython",
    "version": 3
   },
   "file_extension": ".py",
   "mimetype": "text/x-python",
   "name": "python",
   "nbconvert_exporter": "python",
   "pygments_lexer": "ipython3",
   "version": "3.8.8"
  },
  "toc-autonumbering": false,
  "toc-showcode": true,
  "toc-showmarkdowntxt": true,
  "toc-showtags": true,
  "widgets": {
   "application/vnd.jupyter.widget-state+json": {
    "state": {},
    "version_major": 2,
    "version_minor": 0
   }
  }
 },
 "nbformat": 4,
 "nbformat_minor": 4
}
