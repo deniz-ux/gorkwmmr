{
 "cells": [
  {
   "cell_type": "code",
   "execution_count": null,
   "metadata": {},
   "outputs": [],
   "source": [
    "import panel as pn\n",
    "pn.extension()"
   ]
  },
  {
   "attachments": {},
   "cell_type": "markdown",
   "metadata": {},
   "source": [
    "The ``ChatBox`` widget shows conversations between users.\n",
    "\n",
    "For more information about listening to widget events and laying out widgets refer to the [widgets user guide](../../user_guide/Widgets.ipynb). Alternatively you can learn how to build GUIs by declaring parameters independently of any specific widgets in the [param user guide](../../user_guide/Param.ipynb). To express interactivity entirely using Javascript without the need for a Python server take a look at the [links user guide](../../user_guide/Param.ipynb).\n",
    "\n",
    "#### Parameters:\n",
    "\n",
    "For layout and styling related parameters see the [customization user guide](../../user_guide/Customization.ipynb).\n",
    "\n",
    "##### Core\n",
    "\n",
    "* **``value``** (List[Dict[str, str]]): List of messages, mapping user to message, e.g. `[{'You': 'Welcome!'}]`\n",
    "* **``primary_user``** (str): Name of the primary input user; the first key found in value will be used if unspecified\n",
    "* **``allow_input``** (boolean) Whether to allow the primary user to interactively enter messages\n",
    "* **``user_icons``** (Dict[str, str]): Dictionary mapping name of users to their icons, e.g. `[{'You': 'path/to/icon.png'}]`\n",
    "* **``user_colors``** (Dict[str, str]): Dictionary mapping name of users to their colors, e.g. `[{'You': 'red'}]`\n",
    "\n",
    "##### Display\n",
    "\n",
    "* **``disabled``** (boolean): Whether the widget is editable\n",
    "* **``name``** (str): The name to display at the top center of the chat box\n",
    "\n",
    "___"
   ]
  },
  {
   "cell_type": "code",
   "execution_count": null,
   "metadata": {},
   "outputs": [],
   "source": [
    "chatbox = pn.widgets.ChatBox(\n",
    "    value=[\n",
    "        {\"You\": \"Hello!\"},\n",
    "        {\"Machine\": \"Greetings!\"},\n",
    "        {\"You\": \"Question for you...\"},\n",
    "        {\"You\": \"What is the meaning of life?\"},\n",
    "        {\"Machine\": \"I don't know. Do you know?\"},\n",
    "    ],\n",
    ")\n",
    "\n",
    "chatbox"
   ]
  },
  {
   "attachments": {},
   "cell_type": "markdown",
   "metadata": {},
   "source": [
    "``ChatBox.value`` parameter returns a list of dictionaries that map a user to their message.\n",
    "\n",
    "Each dictionary should only contain a single key--two or more keys will raise an error."
   ]
  },
  {
   "cell_type": "code",
   "execution_count": null,
   "metadata": {},
   "outputs": [],
   "source": [
    "chatbox.value"
   ]
  },
  {
   "attachments": {},
   "cell_type": "markdown",
   "metadata": {},
   "source": [
    "`ChatBox` can support more than two users and the primary input user can be separate from the existing users."
   ]
  },
  {
   "cell_type": "code",
   "execution_count": null,
   "metadata": {},
   "outputs": [],
   "source": [
    "chatbox = pn.widgets.ChatBox(\n",
    "    value=[\n",
    "        {\"Machine 1\": \"Morning!\"},\n",
    "        {\"Machine 2\": \"Afternoon~\"},\n",
    "        {\"Machine 3\": \"Night zzz...\"},\n",
    "    ],\n",
    "    primary_user=\"You\",\n",
    ")\n",
    "\n",
    "chatbox"
   ]
  },
  {
   "attachments": {},
   "cell_type": "markdown",
   "metadata": {},
   "source": [
    "User interactive input can be disabled."
   ]
  },
  {
   "cell_type": "code",
   "execution_count": null,
   "metadata": {},
   "outputs": [],
   "source": [
    "chatbox = pn.widgets.ChatBox(\n",
    "    value=[\n",
    "        {\"Machine 1\": \"It's just us machines!\"},\n",
    "        {\"Machine 2\": \"Beep boop beep!\"},\n",
    "    ],\n",
    "    allow_input=False\n",
    ")\n",
    "\n",
    "chatbox"
   ]
  },
  {
   "attachments": {},
   "cell_type": "markdown",
   "metadata": {},
   "source": [
    "Messages can be appended or extended after instantiating."
   ]
  },
  {
   "cell_type": "code",
   "execution_count": null,
   "metadata": {},
   "outputs": [],
   "source": [
    "chatbox = pn.widgets.ChatBox(\n",
    "    value=[\n",
    "        {\"Machine 1\": \"I'm machine 1!\"},\n",
    "        {\"Machine 2\": \"I'm machine 2!\"},\n",
    "    ],\n",
    ")\n",
    "\n",
    "chatbox.append({\"Machine 3\": \"How do you do fellow machines?\"})\n",
    "chatbox.extend([{\"Machine 1\": \"Oh hi!\"}, {\"Machine 2\": \"Welcome!\"}])\n",
    "\n",
    "chatbox"
   ]
  },
  {
   "attachments": {},
   "cell_type": "markdown",
   "metadata": {},
   "source": [
    "The logs from the `ChatBox` can also be cleared for a clean slate."
   ]
  },
  {
   "cell_type": "code",
   "execution_count": null,
   "metadata": {},
   "outputs": [],
   "source": [
    "chatbox = pn.widgets.ChatBox(\n",
    "    value=[\n",
    "        {\"Machine 1\": \"It's over!\"},\n",
    "        {\"Machine 2\": \"Good bye.\"},\n",
    "    ],\n",
    ")\n",
    "chatbox.clear()\n",
    "\n",
    "chatbox"
   ]
  }
 ],
 "metadata": {
  "language_info": {
   "name": "python",
   "pygments_lexer": "ipython3"
  }
 },
 "nbformat": 4,
 "nbformat_minor": 2
}
