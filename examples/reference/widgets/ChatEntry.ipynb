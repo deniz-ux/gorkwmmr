{
 "cells": [
  {
   "cell_type": "code",
   "execution_count": null,
   "metadata": {},
   "outputs": [],
   "source": [
    "import panel as pn\n",
    "pn.extension()"
   ]
  },
  {
   "cell_type": "markdown",
   "metadata": {},
   "source": [
    "The `ChatEntry` is a widget for displaying chat messages with support for various content types.\n",
    "\n",
    "This widget provides a structured view of chat messages, including features like:\n",
    "- Displaying user avatars, which can be text, emoji, or images.\n",
    "- Showing the user's name.\n",
    "- Displaying the message timestamp in a customizable format.\n",
    "- Associating reactions with messages and mapping them to icons.\n",
    "- Rendering various content types including text, images, audio, video, and more.\n",
    "\n",
    "See [`ChatFeed`](ChatFeed.ipynb) for a structured and straightforward way to build a list of `ChatEntry` objects.\n",
    "\n",
    "See [`ChatInterface`](ChatInterface.ipynb) for a high-level, *easy to use*, *ChatGPT like* interface.\n",
    "\n",
    "![Chat Design Specification](../../assets/ChatDesignSpecification.png)\n",
    "\n",
    "#### Parameters:\n",
    "\n",
    "For layout and styling related parameters see the [customization user guide](../../user_guide/Customization.ipynb).\n",
    "\n",
    "##### Core\n",
    "\n",
    "* **`value`** (object): The message contents. Can be a string, pane, widget, layout, etc.\n",
    "* **`user`** (str): Name of the user who sent the message.\n",
    "* **`avatar`** (str | BinaryIO): The avatar to use for the user. Can be a single character text, an emoji, or anything supported by `pn.pane.Image`. If not set, uses the first character of the name.\n",
    "* **`reactions`** (List): Reactions associated with the message.\n",
    "* **`reaction_icons`** (ChatReactionIcons | dict): A mapping of reactions to their reaction icons; if not provided defaults to `{\"favorite\": \"heart\"}`. Provides a visual representation of reactions.\n",
    "* **`timestamp`** (datetime): Timestamp of the message. Defaults to the instantiation time.\n",
    "* **`timestamp_format`** (str): The format in which the timestamp should be displayed.\n",
    "\n",
    "##### Display\n",
    "\n",
    "* **`show_avatar`** (bool): Whether to display the avatar of the user.\n",
    "* **`show_user`** (bool): Whether to display the name of the user.\n",
    "* **`show_timestamp`** (bool): Whether to display the timestamp of the message.\n",
    "* **`name`** (str): The title or name of the chat entry widget, if any.\n",
    "\n",
    "___"
   ]
  },
  {
   "cell_type": "code",
   "execution_count": null,
   "metadata": {},
   "outputs": [],
   "source": [
    "pn.widgets.ChatEntry(value=\"Good to see you!\", user=\"Happy User\", avatar=\"😀\")"
   ]
  },
  {
   "cell_type": "markdown",
   "metadata": {},
   "source": [
    "Although `ChatEntry` is commonly used for `value`s of `str` type, it can support Panel panes, widgets, and layouts too!"
   ]
  },
  {
   "cell_type": "code",
   "execution_count": null,
   "metadata": {},
   "outputs": [],
   "source": [
    "pn.widgets.ChatEntry(\n",
    "    value=pn.pane.Markdown(\"## Happy you're here!\"), user=\"Happy User\", avatar=\"😀\"\n",
    ")"
   ]
  },
  {
   "cell_type": "markdown",
   "metadata": {},
   "source": [
    "`ChatEntry` can be initialized without any input."
   ]
  },
  {
   "cell_type": "code",
   "execution_count": null,
   "metadata": {},
   "outputs": [],
   "source": [
    "chat_entry = pn.widgets.ChatEntry()\n",
    "chat_entry"
   ]
  },
  {
   "cell_type": "markdown",
   "metadata": {},
   "source": [
    "That way, the `value`, `user`, and/or `avatar` can be dynamically updated either by setting the param like this..."
   ]
  },
  {
   "cell_type": "code",
   "execution_count": null,
   "metadata": {},
   "outputs": [],
   "source": [
    "chat_entry.value = pn.widgets.StaticText(value=\"Cheers!\")"
   ]
  },
  {
   "cell_type": "markdown",
   "metadata": {},
   "source": [
    "Or updating multiple values at once with the `.param.update` method!"
   ]
  },
  {
   "cell_type": "code",
   "execution_count": null,
   "metadata": {},
   "outputs": [],
   "source": [
    "chat_entry.param.update(user=\"Jolly Guy\", avatar=\"🎅\")"
   ]
  },
  {
   "cell_type": "markdown",
   "metadata": {},
   "source": [
    "The `timestamp` can be formatted using `timestamp_format`."
   ]
  },
  {
   "cell_type": "code",
   "execution_count": null,
   "metadata": {},
   "outputs": [],
   "source": [
    "pn.widgets.ChatEntry(timestamp_format=\"%b %d, %Y %I:%M %p\")"
   ]
  },
  {
   "cell_type": "markdown",
   "metadata": {},
   "source": [
    "Some active `reactions` can be associated with the message too."
   ]
  },
  {
   "cell_type": "code",
   "execution_count": null,
   "metadata": {},
   "outputs": [],
   "source": [
    "pn.widgets.ChatEntry(value=\"Love this!\", reactions=[\"favorite\"])"
   ]
  },
  {
   "cell_type": "markdown",
   "metadata": {},
   "source": [
    "If you'd like to display other `reactions_icons`, pass a pair of `reaction` key to tabler `icon` name."
   ]
  },
  {
   "cell_type": "code",
   "execution_count": null,
   "metadata": {},
   "outputs": [],
   "source": [
    "pn.widgets.ChatEntry(\n",
    "    value=\"Looks good!\",\n",
    "    reactions=[\"like\"],\n",
    "    reaction_icons={\"like\": \"thumb-up\", \"dislike\": \"thumb-down\"},\n",
    ")"
   ]
  },
  {
   "cell_type": "markdown",
   "metadata": {},
   "source": [
    "If you'd like a plain interface with only the `value` displayed, set `show_user`, `show_avatar`, and `show_timestamp` to `False` and provide an empty `dict` to `reaction_icons`."
   ]
  },
  {
   "cell_type": "code",
   "execution_count": null,
   "metadata": {},
   "outputs": [],
   "source": [
    "pn.widgets.ChatEbntry(value=\"Plain and simple\", show_avatar=False, show_user=False, show_timestamp=False, reaction_icons={})"
   ]
  },
  {
   "cell_type": "markdown",
   "metadata": {},
   "source": [
    "## Binding to reactions\n",
    "\n",
    "Please provide an example. I cannot get it working."
   ]
  }
 ],
 "metadata": {
  "language_info": {
   "name": "python",
   "pygments_lexer": "ipython3"
  }
 },
 "nbformat": 4,
 "nbformat_minor": 4
}
