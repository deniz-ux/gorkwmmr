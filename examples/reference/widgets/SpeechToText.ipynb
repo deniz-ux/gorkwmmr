{
 "cells": [
  {
   "cell_type": "code",
   "execution_count": null,
   "metadata": {},
   "outputs": [],
   "source": [
    "import panel as pn\n",
    "\n",
    "pn.extension()\n",
    "pn.config.sizing_mode = \"stretch_width\""
   ]
  },
  {
   "cell_type": "markdown",
   "metadata": {},
   "source": [
    "# WORK IN PROGRESS"
   ]
  },
  {
   "cell_type": "markdown",
   "metadata": {},
   "source": [
    "## `SpeechToText`\n",
    "\n",
    "The `SpeechToText` widget controls the speech recognition service of the browser.\n",
    "\n",
    "Wraps the [HTML5 `SpeechRecognition` API](https://developer.mozilla.org/en-US/docs/Web/API/SpeechRecognition)\n",
    "\n",
    "This functionality is **experimental** and only supported by Chrome and a few other browsers.\n",
    "Checkout https://caniuse.com/speech-recognition or https://developer.mozilla.org/en-US/docs/Web/API/SpeechRecognition#Browser_compatibility for an up to date list of browsers supporting\n",
    "the SpeechRecognition Api.\n",
    "\n",
    "On some browsers, like Chrome, using Speech Recognition on a web page involves a server-based\n",
    "recognition engine. **Your audio is sent to a web service for recognition processing, so it won't\n",
    "work offline**. Whether this is secure and confidential enough for your use case is up to you\n",
    "to evaluate."
   ]
  },
  {
   "cell_type": "markdown",
   "metadata": {},
   "source": [
    "### Advanced Example\n",
    "\n",
    "We start by instantiating a SpeechToText object and defining a `speech_to_text_settings_panel`"
   ]
  },
  {
   "cell_type": "code",
   "execution_count": null,
   "metadata": {},
   "outputs": [],
   "source": [
    "from panel.widgets import SpeechToText, SpeechGrammarList"
   ]
  },
  {
   "cell_type": "code",
   "execution_count": null,
   "metadata": {},
   "outputs": [],
   "source": [
    "speech_to_text = SpeechToText(button_type=\"light\")\n",
    "\n",
    "speech_to_text_settings_panel = pn.WidgetBox(\n",
    "    pn.Param(\n",
    "        speech_to_text,\n",
    "        parameters=[\n",
    "            \"stop\",\n",
    "            \"abort\",\n",
    "            \"grammars\",\n",
    "            \"lang\",\n",
    "            \"continous\",\n",
    "            \"interim_results\",\n",
    "            \"max_alternatives\",\n",
    "            \"service_uri\",\n",
    "            \"started\",\n",
    "            \"results\",\n",
    "            \"started\",\n",
    "            \"audio_started\",\n",
    "            \"sound_started\",\n",
    "            \"speech_started\",\n",
    "            \"button_type\",\n",
    "        ],\n",
    "    ),\n",
    ")"
   ]
  },
  {
   "cell_type": "markdown",
   "metadata": {},
   "source": [
    "Then we define the `grammar_list`"
   ]
  },
  {
   "cell_type": "code",
   "execution_count": null,
   "metadata": {},
   "outputs": [],
   "source": [
    "grammar_list = SpeechGrammarList()\n",
    "\n",
    "src = \"#JSGF V1.0; grammar colors; public <color> = aqua | azure | beige | bisque | black | blue | brown | chocolate | coral | crimson | cyan | fuchsia | ghostwhite | gold | goldenrod | gray | green | indigo | ivory | khaki | lavender | lime | linen | magenta | maroon | moccasin | navy | olive | orange | orchid | peru | pink | plum | purple | red | salmon | sienna | silver | snow | tan | teal | thistle | tomato | turquoise | violet | white | yellow ;\"\n",
    "grammar_list.add_from_string(src, 1)\n",
    "\n",
    "speech_to_text.grammars = grammar_list"
   ]
  },
  {
   "cell_type": "markdown",
   "metadata": {},
   "source": [
    "Then a `result_panel` displaying the results"
   ]
  },
  {
   "cell_type": "code",
   "execution_count": null,
   "metadata": {},
   "outputs": [],
   "source": [
    "result_panel = pn.pane.Markdown()\n",
    "@pn.depends(speech_to_text.param.results, watch=True)\n",
    "def _update_result_panel(results=None):\n",
    "    result_panel.object = speech_to_text.results_as_html\n",
    "_update_result_panel()"
   ]
  },
  {
   "cell_type": "markdown",
   "metadata": {},
   "source": [
    "Finally we compose this into an `app`"
   ]
  },
  {
   "cell_type": "code",
   "execution_count": null,
   "metadata": {},
   "outputs": [],
   "source": [
    "app = pn.Column(\n",
    "    pn.pane.HTML(\"<h1>Speech to Text <img style='float:right;height:40px;width:164px;margin-right:40px' src='https://panel.holoviz.org/_static/logo_horizontal.png'></h1>\", background=\"black\", style={\"color\": \"white\", \"margin-left\": \"20px\"}, margin=(0,0,15,0), height=75),\n",
    "    speech_to_text,\n",
    "    pn.Row(\n",
    "        pn.Column(pn.pane.Markdown(\"## Settings\"), speech_to_text_settings_panel),\n",
    "        pn.layout.VSpacer(width=25),\n",
    "        pn.Column(pn.pane.Markdown(\"## Results\"), result_panel)\n",
    "    ),\n",
    "    width=600,\n",
    "    sizing_mode=\"fixed\",\n",
    ")\n",
    "app.servable()"
   ]
  }
 ],
 "metadata": {
  "kernelspec": {
   "display_name": "Python 3",
   "language": "python",
   "name": "python3"
  },
  "language_info": {
   "codemirror_mode": {
    "name": "ipython",
    "version": 3
   },
   "file_extension": ".py",
   "mimetype": "text/x-python",
   "name": "python",
   "nbconvert_exporter": "python",
   "pygments_lexer": "ipython3",
   "version": "3.7.8"
  }
 },
 "nbformat": 4,
 "nbformat_minor": 4
}
