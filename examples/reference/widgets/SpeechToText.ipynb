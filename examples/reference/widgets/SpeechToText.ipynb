{
 "cells": [
  {
   "cell_type": "code",
   "execution_count": null,
   "metadata": {},
   "outputs": [],
   "source": [
    "import panel as pn\n",
    "\n",
    "pn.extension()\n",
    "pn.config.sizing_mode = \"stretch_width\""
   ]
  },
  {
   "cell_type": "markdown",
   "metadata": {},
   "source": [
    "# `SpeechToText` Widget \n",
    "\n",
    "The `SpeechToText` widget controls the speech recognition service of the browser.\n",
    "\n",
    "<img src=\"https://miro.medium.com/max/1024/1*hvhbk3n9SAcI3yS_D1IuXQ.png\" style=\"height: 100px\">\n",
    "\n",
    "It wraps the [HTML5 `SpeechRecognition` API](https://developer.mozilla.org/en-US/docs/Web/API/SpeechRecognition)\n",
    "\n",
    "The functionality is **experimental** and **only supported by Chrome and a few other browsers**.\n",
    "Checkout https://caniuse.com/speech-recognition or https://developer.mozilla.org/en-US/docs/Web/API/SpeechRecognition#Browser_compatibility for an up to date list of browsers supporting\n",
    "the SpeechRecognition Api.\n",
    "\n",
    "On some browsers, like Chrome, using Speech Recognition on a web page involves a server-based\n",
    "recognition engine. **Your audio is sent to a web service for recognition processing, so it won't\n",
    "work offline**. Whether this is secure and confidential enough for your use case is up to you\n",
    "to evaluate.\n",
    "\n",
    "#### Parameters:\n",
    "\n",
    "* **``lang``** (str): The language of the current SpeechRecognition service in BCP 47 format. For example 'en-US'.\n",
    "* **``continuous``** (bool): Controls whether continuous results are returned for each recognition, or only a single result. Defaults to False.\n",
    "* **``interim_results``** (boolean): Controls whether interim results should be returned (True) or not (False.) Interim results are results that are not yet final (e.g. the RecognitionResult.is_final property is False).\n",
    "* **``max_alternatives``** (int): Sets the maximum number of RecognitionAlternatives provided per result. A number between 1 and 5. The default value is 1.\n",
    "* **``service_uri``** (str): Specifies the location of the speech recognition service used by the current SpeechRecognition service to handle the actual recognition. The default is the user agent's default speech service.\n",
    "* **``grammars``** (GrammarList): A GrammarList object that represents the grammars that will be understood by the current SpeechRecognition service.\n",
    "\n",
    "\n",
    "* **``started``** (boolean): Returns True if the Speech Recognition Service is started and False otherwise.\n",
    "* **``audio_started``** (boolean): Returns True if the Audio is started and False otherwise\n",
    "* **``sound_started``** (boolean): Returns True if the Sound is started and False otherwise\n",
    "* **``speech_started``** (boolean): Returns True if the the User has started speaking and False otherwise\n",
    "\n",
    "\n",
    "* **``results``** (List\\[RecognitionResult\\]): The results recognized. A list of RecognitionResult objects\n",
    "* **``results_serialized``** (List\\[Dict\\]): The results recognized. A list of Dictionaries.\n",
    "* **``results_last``** (str): What you probably said most recently.\n",
    "\n",
    "\n",
    "* **``button_type``** (str): One of 'default', 'primary', 'success', 'warning', 'danger' and 'light'.\n",
    "\n",
    "##### Actions\n",
    "\n",
    "* **``stop``** (None): Stops the speech recognition service from listening to incoming audio, and attempts to return a list of RecognitionResult using the audio captured so far.\n",
    "* **``abort``** (None): Stops the speech recognition service from listening to incoming audio, and doesn't attempt to return a list of RecognitionResult.\n",
    "\n",
    "#### Properties\n",
    "\n",
    "* **``results_as_html``** (str): Returns the `results` formatted as html. Convenience property for ease of use.\n",
    "\n",
    "### Grammar\n",
    "\n",
    "A set of words or patterns of words that we want the speech recognition service to recognize.\n",
    "\n",
    "For example\n",
    "\n",
    "```python\n",
    "grammar = Grammar(\n",
    "    src='#JSGF V1.0; grammar colors; public <color> = aqua | azure | beige;',\n",
    "    weight=0.7\n",
    ")\n",
    "```\n",
    "\n",
    "Wraps the [HTML SpeechGrammar API](https://developer.mozilla.org/en-US/docs/Web/API/SpeechGrammar).\n",
    "\n",
    "Please not Chrome web SpeechRecognition API currently (20200102) does not support grammars.\n",
    "\n",
    "#### Parameters:\n",
    "\n",
    "* **``src``** (str): A set of words or patterns of words that we want the recognition service to recognize. Defined using JSpeech Grammar Format. See https://www.w3.org/TR/jsgf/.\n",
    "* **``uri``** (str): An uri pointing to the definition. If src is available it will be used. Otherwise uri. The uri will be loaded on the client side only.\n",
    "* **``weight``** (float): The weight of the grammar. A number in the range 0–1. Default is 1.\n",
    "\n",
    "### GrammarList\n",
    "\n",
    "A list of Grammar objects containing words or patterns of words that we want the recognition service to recognize.\n",
    "\n",
    "For example\n",
    "\n",
    "```python\n",
    "grammar = '#JSGF V1.0; grammar colors; public <color> = aqua | azure | beige | bisque ;'\n",
    "grammar_list = GrammarList()\n",
    "grammar_list.add_from_string(grammar, 1)\n",
    "```\n",
    "\n",
    "Wraps the [HTML 5 SpeechGrammarList API](https://developer.mozilla.org/en-US/docs/Web/API/SpeechGrammarList).\n",
    "\n",
    "#### Methods:\n",
    "\n",
    "* **``add_from_string``** (src: str, weight: float): Takes a grammar src and weight and adds it to the GrammarList as a new Grammar object. The new Grammar object is returned.\n",
    "* **``add_from_uri``** (uri: str, weight: float): Takes a grammar uri and weight and adds it to the GrammarList as a new Grammar object. The new Grammar object is returned.\n",
    "\n",
    "### RecognitionAlternative\n",
    "\n",
    "The RecognitionAlternative represents a word or sentence that has been recognised by the speech recognition service.\n",
    "\n",
    "Wraps the [HTML5 SpeechRecognitionAlternative API](https://developer.mozilla.org/en-US/docs/Web/API/SpeechRecognitionAlternative).\n",
    "\n",
    "#### Methods:\n",
    "\n",
    "* **``confidence``** (float): A numeric estimate between 0 and 1 of how confident the speech recognition system is that the recognition is correct.\n",
    "* **``transcript``** (str): The transcript of the recognised word or sentence.\n",
    "\n",
    "\n",
    "### RecognitionResult\n",
    "\n",
    "The Result represents a single recognition match, which may contain multiple RecognitionAlternative objects.\n",
    "\n",
    "Wraps the [HTML5 SpeechRecognitionResult API](https://developer.mozilla.org/en-US/docs/Web/API/SpeechRecognitionResult).\n",
    "\n",
    "\n",
    "#### Methods:\n",
    "\n",
    "* **``is_final``** (boolean): A Boolean that states whether this result is final (True) or not (False) — if so, then this is the final time this result will be returned; if not, then this result is an interim result, and may be updated later on.\n",
    "* **``alternatives``** (List\\[RecognitionResult\\]): The list of the n-best alternatives.\n",
    "\n",
    "___"
   ]
  },
  {
   "cell_type": "code",
   "execution_count": null,
   "metadata": {},
   "outputs": [],
   "source": [
    "from panel.widgets import SpeechToText, GrammarList"
   ]
  },
  {
   "cell_type": "markdown",
   "metadata": {},
   "source": [
    "### Basic Example"
   ]
  },
  {
   "cell_type": "code",
   "execution_count": null,
   "metadata": {},
   "outputs": [],
   "source": [
    "speech_to_text_basic = SpeechToText(button_type=\"light\")\n",
    "results_panel_basic = pn.Param(\n",
    "    speech_to_text_basic, \n",
    "    parameters=[\"results_last\"], \n",
    "    widgets={\"results_last\": {\"widget_type\": pn.widgets.TextAreaInput, \"height\": 100}}\n",
    ")\n",
    "\n",
    "pn.Column(\n",
    "    speech_to_text_basic, results_panel_basic\n",
    ")"
   ]
  },
  {
   "cell_type": "markdown",
   "metadata": {},
   "source": [
    "### Advanced Example\n",
    "\n",
    "We start by instantiating a SpeechToText object and defining a `speech_to_text_settings_panel`"
   ]
  },
  {
   "cell_type": "code",
   "execution_count": null,
   "metadata": {},
   "outputs": [],
   "source": [
    "speech_to_text = SpeechToText(button_type=\"light\")\n",
    "\n",
    "speech_to_text_settings_panel = pn.WidgetBox(\n",
    "    pn.Param(\n",
    "        speech_to_text,\n",
    "        parameters=[\n",
    "                \"stop\",\n",
    "                \"abort\",\n",
    "                \"grammars\",\n",
    "                \"lang\",\n",
    "                \"continuous\",\n",
    "                \"interim_results\",\n",
    "                \"max_alternatives\",\n",
    "                \"service_uri\",\n",
    "                \"started\",\n",
    "                \"results\",\n",
    "                \"results_last\",\n",
    "                \"results_serialized\",\n",
    "                \"started\",\n",
    "                \"audio_started\",\n",
    "                \"sound_started\",\n",
    "                \"speech_started\",\n",
    "                \"button_type\",\n",
    "            ],\n",
    "    ),\n",
    ")"
   ]
  },
  {
   "cell_type": "markdown",
   "metadata": {},
   "source": [
    "Then we define the `grammar_list`. Just here for illustration as Chrome currently (20200102) does not support grammars."
   ]
  },
  {
   "cell_type": "code",
   "execution_count": null,
   "metadata": {},
   "outputs": [],
   "source": [
    "grammar_list = GrammarList()\n",
    "\n",
    "src = \"#JSGF V1.0; grammar colors; public <color> = aqua | azure | beige | bisque | black | blue | brown | chocolate | coral | crimson | cyan | fuchsia | ghostwhite | gold | goldenrod | gray | green | indigo | ivory | khaki | lavender | lime | linen | magenta | maroon | moccasin | navy | olive | orange | orchid | peru | pink | plum | purple | red | salmon | sienna | silver | snow | tan | teal | thistle | tomato | turquoise | violet | white | yellow ;\"\n",
    "grammar_list.add_from_string(src, 1)\n",
    "\n",
    "speech_to_text.grammars = grammar_list"
   ]
  },
  {
   "cell_type": "markdown",
   "metadata": {},
   "source": [
    "Then a `result_panel` displaying the results using the `results_as_html` property"
   ]
  },
  {
   "cell_type": "code",
   "execution_count": null,
   "metadata": {},
   "outputs": [],
   "source": [
    "results_panel = pn.pane.Markdown(margin=(0, 15, 0, 15))\n",
    "\n",
    "@pn.depends(speech_to_text.param.results_serialized, watch=True)\n",
    "def update_results_html_panel(results_serialized):\n",
    "    results_panel.object = speech_to_text.results_as_html"
   ]
  },
  {
   "cell_type": "markdown",
   "metadata": {},
   "source": [
    "Finally we compose this into an `app`"
   ]
  },
  {
   "cell_type": "code",
   "execution_count": null,
   "metadata": {},
   "outputs": [],
   "source": [
    "app = pn.Column(\n",
    "    pn.pane.HTML(\"<h1>Speech to Text <img style='float:right;height:40px;width:164px;margin-right:40px' src='https://panel.holoviz.org/_static/logo_horizontal.png'></h1>\", background=\"black\", style={\"color\": \"white\", \"margin-left\": \"20px\"}, margin=(0,0,15,0), height=75),\n",
    "    speech_to_text,\n",
    "    pn.Row(\n",
    "        pn.Column(pn.pane.Markdown(\"## Settings\"), speech_to_text_settings_panel),\n",
    "        pn.layout.VSpacer(width=25),\n",
    "        pn.Column(pn.pane.Markdown(\"## Results\"), results_panel)\n",
    "    ),\n",
    "    width=800,\n",
    "    sizing_mode=\"fixed\",\n",
    ")\n",
    "app.servable()"
   ]
  }
 ],
 "metadata": {
  "kernelspec": {
   "display_name": "Python 3",
   "language": "python",
   "name": "python3"
  },
  "language_info": {
   "codemirror_mode": {
    "name": "ipython",
    "version": 3
   },
   "file_extension": ".py",
   "mimetype": "text/x-python",
   "name": "python",
   "nbconvert_exporter": "python",
   "pygments_lexer": "ipython3",
   "version": "3.7.8"
  }
 },
 "nbformat": 4,
 "nbformat_minor": 4
}
