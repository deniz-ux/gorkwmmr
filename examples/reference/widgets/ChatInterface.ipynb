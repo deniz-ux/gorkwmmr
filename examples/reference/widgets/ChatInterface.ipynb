{
 "cells": [
  {
   "cell_type": "code",
   "execution_count": null,
   "metadata": {},
   "outputs": [],
   "source": [
    "import asyncio\n",
    "import panel as pn\n",
    "\n",
    "pn.extension()"
   ]
  },
  {
   "cell_type": "markdown",
   "metadata": {},
   "source": [
    "The `ChatInterface` is a high-level widget, providing a user-friendly front-end interface for inputting different kinds of messages: text, images, PDFs, etc.\n",
    "\n",
    "This widget provides front-end methods to:\n",
    "\n",
    "- Input (append) messages to the chat log.\n",
    "- Re-run (resend) the most recent `user` input `ChatEntry`.\n",
    "- Remove entries until the previous `user` input `ChatEntry`.\n",
    "- Clear the chat log, erasing all `ChatEntry` objects.\n",
    "\n",
    "Since `ChatInterface` inherits from `ChatFeed`, it features all the capabilities of `ChatFeed`; please see [ChatFeed.ipynb](ChatFeed.ipynb) for its backend capabilities.\n",
    "\n",
    "![Chat Design Specification](../../assets/ChatDesignSpecification.png)\n",
    "#### Parameters:\n",
    "\n",
    "##### Core\n",
    "\n",
    "* **`widgets`** (`List[Widget]`): Widgets to use for the input. If not provided, defaults to `[TextInput]`.\n",
    "* **`user`** (`str`): Name of the ChatInterface user.\n",
    "* **`avatar`** (`str | BinaryIO`): The avatar to use for the user. Can be a single character text, an emoji, or anything supported by `pn.pane.Image`. If not set, uses the first character of the name.\n",
    "* **`reset_on_send`** (`bool`): Whether to reset the widget's value after sending a message; has no effect for `TextInput`.\n",
    "\n",
    "##### Styling\n",
    "\n",
    "* **`show_rerun`** (`bool`): Whether to show the rerun button.\n",
    "* **`show_undo`** (`bool`): Whether to show the undo button.\n",
    "* **`show_clear`** (`bool`): Whether to show the clear button.\n",
    "* **`show_button_name`** (`bool`): Whether to show the button name.\n",
    "\n",
    "#### Properties:\n",
    "\n",
    "* **`active_widget`** (`Widget`): The currently active widget.\n",
    "* **`active_tab`** (`int`): The currently active input widget tab index; -1 if there is only one widget available which is not in a tab.\n",
    "\n",
    "___"
   ]
  },
  {
   "cell_type": "code",
   "execution_count": null,
   "metadata": {},
   "outputs": [],
   "source": [
    "import asyncio\n",
    "import panel as pn\n",
    "\n",
    "pn.extension()\n",
    "\n",
    "chat_interface = pn.widgets.ChatInterface()\n",
    "chat_interface.show()"
   ]
  }
 ],
 "metadata": {
  "language_info": {
   "name": "python",
   "pygments_lexer": "ipython3"
  }
 },
 "nbformat": 4,
 "nbformat_minor": 2
}
