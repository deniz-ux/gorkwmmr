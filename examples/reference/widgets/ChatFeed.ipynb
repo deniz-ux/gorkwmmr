{
 "cells": [
  {
   "cell_type": "code",
   "execution_count": null,
   "metadata": {
    "tags": []
   },
   "outputs": [],
   "source": [
    "import panel as pn\n",
    "pn.extension()"
   ]
  },
  {
   "cell_type": "markdown",
   "metadata": {},
   "source": [
    "The ``ChatFeed`` allows you to build custom chat interfaces. For example a chat interface for multiple users or a chat interface using buttons as inputs.\n",
    "\n",
    "See [``ChatInterface``](ChatInterface.ipynb) for a pre-built ChatGPT chat interface.\n",
    "\n",
    "![Chat Design Specification](../../assets/ChatDesignSpecification.png)\n",
    "\n",
    "#### Parameters:\n",
    "\n",
    "For details on other options for customizing the component see the [layout](../../how_to/layout/index.md) and [styling](../../how_to/styling/index.md) how-to guides.\n",
    "\n",
    "##### Core\n",
    "\n",
    "* **`value`** (list): The entries added to the chat feed.\n",
    "* **`header`** (string or viewable): The header of the chat feed.\n",
    "* **`callback`** (callable): Callback to execute when a user sends a message or\n",
    "when `respond` is called. The signature must include\n",
    "the previous message value `contents`, the previous `user` name,\n",
    "and the component `instance`.\n",
    "\n",
    "* **`callback_user`** (str): The default user name to use for the entry provided by the callback.\n",
    "* **`callback_avatar`** (str | BinaryIO): The avatar to use for the user. Can be a single character text, an emoji, or anything supported by `pn.pane.Image`. If not set, uses the first character of the name.\n",
    "* **`placeholder`** (any): Placeholder to display while the callback is running.\n",
    "Defaults to a LoadingSpinner.\n",
    "* **`placeholder_text`** (any): If placeholder is the default LoadingSpinner,\n",
    "the text to display next to it.\n",
    "* **`placeholder_threshold`** (float): Min duration in seconds of buffering before displaying the placeholder. If 0, the placeholder will be disabled. Defaults to 0.2.\n",
    "* **`auto_scroll_limit`** (int): Max pixel distance from the latest object in the Column to activate automatic scrolling upon update. Setting to 0\n",
    "disables auto-scrolling.\n",
    "* **`auto_scroll_limit`** (int): Min pixel distance from the latest object in the Column to display the scroll button. Setting to 0 disables the scroll button.\n",
    "* **`view_latest`** (bool): Whether to scroll to the latest object on init. If not enabled the view will be on the first object. Defaults to True.\n",
    "* **`card_params`** (dict): Params to pass to Card, like `header`,\n",
    "`header_background`, `header_color`, etc.\n",
    "* **`entry_params`** (dict): Params to pass to each ``ChatEntry``, like `reaction_icons`, `timestamp_format`, `show_avatar`, `show_user`, and `show_timestamp`.\n",
    "\n",
    "\n",
    "* **`reactions`** (List): Reactions associated with the message.\n",
    "* **`reaction_icons`** (ChatReactionIcons | dict): A mapping of reactions to their reaction icons; if not provided defaults to `{\"favorite\": \"heart\"}`. Provides a visual representation of reactions.\n",
    "* **`timestamp`** (datetime): Timestamp of the message. Defaults to the instantiation time.\n",
    "* **`timestamp_format`** (str): The format in which the timestamp should be displayed.\n",
    "\n",
    "##### Display\n",
    "\n",
    "* **`show_avatar`** (bool): Whether to display the avatar of the user.\n",
    "* **`show_user`** (bool): Whether to display the name of the user.\n",
    "* **`show_timestamp`** (bool): Whether to display the timestamp of the message.\n",
    "* **`name`** (str): The title or name of the chat entry widget, if any.\n",
    "\n",
    "___\n",
    "\n",
    "___"
   ]
  },
  {
   "cell_type": "code",
   "execution_count": null,
   "metadata": {
    "tags": []
   },
   "outputs": [],
   "source": [
    "from asyncio import sleep\n",
    "\n",
    "from panel.widgets.chat import ChatEntry, ChatFeed\n",
    "\n",
    "pn.extension()\n",
    "\n",
    "async def get_response(contents, user, instance):\n",
    "    await sleep(1)\n",
    "    return {\n",
    "        \"Philipp\": None,  # Ignore Philipp :-)\n",
    "        \"Marc\": \"It is 2\",\n",
    "        \"Andrew\": \"It is 4\",\n",
    "    }.get(user, \"I don't know\")\n",
    "\n",
    "ASSISTANT_AVATAR = \"https://upload.wikimedia.org/wikipedia/commons/6/60/Icons8_flat_assistant.svg\"\n",
    "\n",
    "chat_feed = ChatFeed(\n",
    "    value=[ChatEntry(user=\"Assistant\", value=\"Hello World\", avatar=ASSISTANT_AVATAR)],\n",
    "    callback=get_response,\n",
    "    height=500,\n",
    "    callback_avatar=ASSISTANT_AVATAR,\n",
    ")\n",
    "\n",
    "marc_button = pn.widgets.Button(\n",
    "    name=\"Marc\",\n",
    "    on_click=lambda event: chat_feed.send(\n",
    "        user=\"Marc\", value=\"What is the square root of 4\", avatar=\"🚴\"\n",
    "    ),\n",
    "    align=\"center\",\n",
    ")\n",
    "andrew_button = pn.widgets.Button(\n",
    "    name=\"Andrew\",\n",
    "    on_click=lambda event: chat_feed.send(\n",
    "        user=\"Andrew\", value=\"What is the square root of 4 squared?\", avatar=\"🧑\"\n",
    "    ),\n",
    "    align=\"center\",\n",
    ")\n",
    "philipp_button = pn.widgets.Button(\n",
    "    name=\"Philipp\",\n",
    "    on_click=lambda event: chat_feed.send(\n",
    "        user=\"Philipp\", value=\"What is 2+2\", avatar=\"🏃\"\n",
    "    ),\n",
    "    align=\"center\",\n",
    ")\n",
    "\n",
    "pn.Column(\n",
    "    chat_feed,\n",
    "    pn.layout.Divider(),\n",
    "    pn.Row(\"Click to ask a question\", marc_button, andrew_button, philipp_button),\n",
    ").servable()\n"
   ]
  },
  {
   "cell_type": "markdown",
   "metadata": {},
   "source": [
    "Note how we use emojis and images (via urls) as avatars in the `ChatFeed`.\n",
    "\n",
    "We chose to use an *async* callback in the example. We recommend using *async* callbacks and *async* functions from `openai` and other AI frameworks whenever possible for optimal performance."
   ]
  }
 ],
 "metadata": {
  "language_info": {
   "name": "python",
   "pygments_lexer": "ipython3"
  }
 },
 "nbformat": 4,
 "nbformat_minor": 4
}
