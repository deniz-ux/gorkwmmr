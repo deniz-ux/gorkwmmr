{
 "cells": [
  {
   "cell_type": "code",
   "execution_count": null,
   "metadata": {},
   "outputs": [],
   "source": [
    "import panel as pn\n",
    "pn.extension()"
   ]
  },
  {
   "cell_type": "markdown",
   "metadata": {},
   "source": [
    "The `ChatFeed` is a low-level widget, that lets you manage a list of [`ChatEntry`](ChatEntry.ipynb) items.\n",
    "\n",
    "This widget provides backend methods to:\n",
    "- Send (append) messages to the chat log.\n",
    "- Stream tokens to the latest `ChatEntry` in the chat log.\n",
    "- Execute callbacks when a user sends a message.\n",
    "- Undo a number of sent `ChatEntry` objects.\n",
    "- Clear the chat log of all `ChatEntry` objects.\n",
    "\n",
    "See [`ChatInterface`](ChatInterface.ipynb) for a high-level, *easy to use*, *ChatGPT like* interface.\n",
    "\n",
    "![Chat Design Specification](../../assets/ChatDesignSpecification.png)\n",
    "\n",
    "#### Parameters:\n",
    "\n",
    "##### Core\n",
    "\n",
    "* **`callback`** (callable): Callback to execute when a user sends a message.\n",
    "* **`value`** (`List[ChatEntry]`): The list of entries in the feed.\n",
    "\n",
    "##### Styling\n",
    "\n",
    "* **`card_params`** (Dict): Parameters to pass to Card, such as `header`, `header_background`, `header_color`, etc.\n",
    "* **`entry_params`** (Dict): Parameters to pass to each ChatEntry, such as `reaction_icons`, `timestamp_format`, `show_avatar`, `show_user`, and `show_timestamp`.\n",
    "\n",
    "##### Other\n",
    "\n",
    "* **`auto_scroll_limit`** (int): Max pixel distance from the latest object in the Column to activate automatic scrolling upon update. Setting to 0 disables auto-scrolling.\n",
    "* **`auto_scroll_limit`** (int): Min pixel distance from the latest object in the Column to display the scroll button. Setting to 0 disables the scroll button.\n",
    "* **`callback_avatar`** (str | BinaryIO): The avatar to use for the user. Can be a single character text, an emoji, or anything supported by `pn.pane.Image`. If not set, uses the first character of the name.\n",
    "* **`callback_user`** (str): The default user name to use for the entry provided by the callback.\n",
    "* **`header`** (string or viewable): The header of the chat feed.\n",
    "* **`placeholder_text`** (any): If placeholder is the default LoadingSpinner, the text to display next to it.\n",
    "* **`placeholder_threshold`** (float): Min duration in seconds of buffering before displaying the placeholder. If 0, the placeholder will be disabled. Defaults to 0.2.\n",
    "* **`placeholder`** (any): Placeholder to display while the callback is running. Defaults to a LoadingSpinner.\n",
    "* **`view_latest`** (bool): Whether to scroll to the latest object on init. If not enabled the view will be on the first object. Defaults to True.\n",
    "and the component `instance`.\n",
    "the previous message value `contents`, the previous `user` name,\n",
    "when `respond` is called. The signature must include\n",
    "\n",
    "#### Properties\n",
    "\n",
    "* **`entries`** (List[ChatEntry]): Gets and sets the entries in the feed.\n",
    "\n",
    "#### Methods\n",
    "\n",
    "##### Core\n",
    "\n",
    "* **`send`**: Sends a value and creates a new entry in the chat log.\n",
    "* **`stream`**: Streams a token and updates the provided entry,\n",
    "\n",
    "##### Other\n",
    "\n",
    "* **`clear`**: Clears the chat log and returns the entries that were cleared.\n",
    "* **`respond`**: Executes the callback with the latest entry in the chat log.\n",
    "* **`undo`**: Removes the last `count` of entries from the chat log and returns them. Default `count` is 1.\n",
    "\n",
    "___"
   ]
  },
  {
   "cell_type": "markdown",
   "metadata": {},
   "source": [
    "## Introduction"
   ]
  },
  {
   "cell_type": "code",
   "execution_count": null,
   "metadata": {},
   "outputs": [],
   "source": [
    "from asyncio import sleep\n",
    "from panel.widgets.chat import ChatEntry, ChatFeed\n",
    "\n",
    "ASSISTANT_AVATAR = \"https://upload.wikimedia.org/wikipedia/commons/6/63/Yumi_UBports.png\"\n",
    "SYSTEM_AVATAR = \"https://upload.wikimedia.org/wikipedia/commons/6/6d/Windows_Settings_app_icon.png\"\n",
    "USER_AVATAR = \"https://upload.wikimedia.org/wikipedia/commons/f/f0/GirlB.png\""
   ]
  },
  {
   "cell_type": "markdown",
   "metadata": {},
   "source": [
    "You can create a basic chat feed as follows"
   ]
  },
  {
   "cell_type": "code",
   "execution_count": null,
   "metadata": {},
   "outputs": [],
   "source": [
    "chat_feed = pn.widgets.ChatFeed(height=500)\n",
    "chat_feed"
   ]
  },
  {
   "cell_type": "markdown",
   "metadata": {},
   "source": [
    "You can send chat entries with the `send` method"
   ]
  },
  {
   "cell_type": "code",
   "execution_count": null,
   "metadata": {},
   "outputs": [],
   "source": [
    "chat_feed.send(\"Hello world!\", user=\"Bot\", avatar=\"🤖\")"
   ]
  },
  {
   "cell_type": "markdown",
   "metadata": {},
   "source": [
    "Besides messages of `str` type, the `send` method can also accept `dict`s containing the key `value` and `ChatEntry` objects."
   ]
  },
  {
   "cell_type": "code",
   "execution_count": null,
   "metadata": {},
   "outputs": [],
   "source": [
    "chat_feed.send({\"value\": \"Welcome!\", \"user\": \"Bot\", \"avatar\": \"B\"})"
   ]
  },
  {
   "cell_type": "markdown",
   "metadata": {},
   "source": [
    "Note if you provide both the user/avatar in the `dict` and keyword argument, the keyword argument takes precedence."
   ]
  },
  {
   "cell_type": "code",
   "execution_count": null,
   "metadata": {},
   "outputs": [],
   "source": [
    "entry = chat_feed.send({\"value\": \"Overtaken!\", \"user\": \"Bot\"}, user=\"MegaBot\")"
   ]
  },
  {
   "cell_type": "markdown",
   "metadata": {},
   "source": [
    "The `send` method returns a [`ChatEntry`](ChatEntry.ipynb)."
   ]
  },
  {
   "cell_type": "code",
   "execution_count": null,
   "metadata": {},
   "outputs": [],
   "source": [
    "entry"
   ]
  },
  {
   "cell_type": "markdown",
   "metadata": {},
   "source": [
    "The `ChatEntry` can display any object that Panel can display. You can **interact with chat entries** like any other Panel component. You can find examples in the [`ChatEntry` Reference Notebook](ChatEntry.ipynb).\n",
    "\n",
    "You can see the list of chat entries via the `entries` property. TODO: MAKE THIS POSSIBLE VIA `value` PARAMETER. And enable binding to the `value` parameter too."
   ]
  },
  {
   "cell_type": "code",
   "execution_count": null,
   "metadata": {},
   "outputs": [],
   "source": [
    "chat_feed.entries"
   ]
  },
  {
   "cell_type": "markdown",
   "metadata": {},
   "source": [
    "You can create a basic `ChatFeed` with pre-populated chat entries as shown below"
   ]
  },
  {
   "cell_type": "code",
   "execution_count": null,
   "metadata": {},
   "outputs": [],
   "source": [
    "chat_feed = ChatFeed(\n",
    "    value=[\n",
    "        ChatEntry(user=\"System\", value=\"You are a friendly assistant\", avatar=SYSTEM_AVATAR),\n",
    "        ChatEntry(user=\"Assistant\", value=\"Hi There. How my I help?\", avatar=ASSISTANT_AVATAR),\n",
    "        ],\n",
    "    height=375\n",
    ")\n",
    "chat_feed"
   ]
  },
  {
   "cell_type": "markdown",
   "metadata": {},
   "source": [
    "## Responding via a `callback` function\n",
    "\n",
    "You can provide a `callback` function to handle new chat entries and to run when the `respond` method is called.\n",
    "\n",
    "The `callback` function can be either a *sync* or and *async* function. We recommend using an *async* function whenever possible. This will help your application to stay responsive and handle more users.\n",
    "\n",
    "Many LLM frameworks provides *easy to use*, *async* functions and methods. See for example [`openai` | Async API](https://github.com/openai/openai-python#async-api)."
   ]
  },
  {
   "cell_type": "code",
   "execution_count": null,
   "metadata": {},
   "outputs": [],
   "source": [
    "async def get_response(contents, user, instance):\n",
    "    await sleep(1)\n",
    "    return \"I dont' know\"\n",
    "\n",
    "chat_feed = ChatFeed(\n",
    "    value=[\n",
    "        ChatEntry(user=\"System\", value=\"You are a friendly assistant\", avatar=SYSTEM_AVATAR, visible=False),\n",
    "        ChatEntry(user=\"Assistant\", value=\"Hi There. How my I help?\", avatar=ASSISTANT_AVATAR),\n",
    "        ],\n",
    "    callback=get_response,\n",
    "    callback_avatar=ASSISTANT_AVATAR,\n",
    "    height=400\n",
    ")\n",
    "chat_feed"
   ]
  },
  {
   "cell_type": "code",
   "execution_count": null,
   "metadata": {},
   "outputs": [],
   "source": [
    "entry = chat_feed.send(user=\"User\", value=\"What is 2+2?\", avatar=USER_AVATAR)"
   ]
  },
  {
   "cell_type": "markdown",
   "metadata": {},
   "source": [
    "## Responding via a *generator* `callback` function.\n",
    "\n",
    "You can provide very advanced responses like *streaming* if your `callback` is a generator function. I.e. one that\n",
    "uses `yield` to return multiple values.\n",
    "\n",
    "Lets start with a basic example where the `ChatEntry` value is replaced."
   ]
  },
  {
   "cell_type": "code",
   "execution_count": null,
   "metadata": {},
   "outputs": [],
   "source": [
    "async def get_response(contents, user, instance):\n",
    "    for response in [\"That is a very good question\", \"Let me think...\", \"Sorry, I don't know\"]:\n",
    "        await sleep(1.5)\n",
    "        yield response\n",
    "        \n",
    "\n",
    "chat_feed = ChatFeed(\n",
    "    value=[\n",
    "        ChatEntry(user=\"System\", value=\"You are a friendly assistant\", avatar=SYSTEM_AVATAR, visible=False),\n",
    "        ChatEntry(user=\"Assistant\", value=\"Hi There. How my I help?\", avatar=ASSISTANT_AVATAR),\n",
    "        ],\n",
    "    callback=get_response,\n",
    "    callback_avatar=ASSISTANT_AVATAR,\n",
    "    height=400\n",
    ")\n",
    "chat_feed"
   ]
  },
  {
   "cell_type": "code",
   "execution_count": null,
   "metadata": {},
   "outputs": [],
   "source": [
    "entry = chat_feed.send(user=\"User\", value=\"What is 2+2?\", avatar=USER_AVATAR)"
   ]
  },
  {
   "cell_type": "markdown",
   "metadata": {},
   "source": [
    "Here is an example where the `ChatEntry` value is extended multiple times."
   ]
  },
  {
   "cell_type": "code",
   "execution_count": null,
   "metadata": {},
   "outputs": [],
   "source": [
    "async def get_response(contents, user, instance):\n",
    "    loading_spinner = pn.indicators.LoadingSpinner(value=True, size=25, color=\"dark\")\n",
    "    layout = pn.Column(loading_spinner)\n",
    "    entry = ChatEntry(user=\"Assistant\", value=layout, avatar=ASSISTANT_AVATAR)\n",
    "\n",
    "    for response in [\"That is a very good question\", \"Let me think\", \"Sorry, I don't know\"]:\n",
    "        await sleep(1.5)\n",
    "        layout.insert(-1, response)\n",
    "        yield entry\n",
    "    \n",
    "    layout.pop(-1)\n",
    "    yield entry\n",
    "        \n",
    "\n",
    "chat_feed = ChatFeed(\n",
    "    value=[\n",
    "        ChatEntry(user=\"System\", value=\"You are a friendly assistant\", avatar=SYSTEM_AVATAR, visible=False),\n",
    "        ChatEntry(user=\"Assistant\", value=\"Hi There. How my I help?\", avatar=ASSISTANT_AVATAR),\n",
    "        ],\n",
    "    callback=get_response,\n",
    "    callback_avatar=ASSISTANT_AVATAR,\n",
    "    height=400\n",
    ")\n",
    "chat_feed"
   ]
  },
  {
   "cell_type": "code",
   "execution_count": null,
   "metadata": {},
   "outputs": [],
   "source": [
    "entry = chat_feed.send(user=\"User\", value=\"What is 2+2?\", avatar=USER_AVATAR)"
   ]
  },
  {
   "cell_type": "markdown",
   "metadata": {},
   "source": [
    "Here is an example where tokens are streamed to the `ChatEntry` value"
   ]
  },
  {
   "cell_type": "code",
   "execution_count": null,
   "metadata": {},
   "outputs": [],
   "source": [
    "async def get_response(contents, user, instance):\n",
    "    entry = ChatEntry(user=\"Assistant\", value=\"\", avatar=ASSISTANT_AVATAR)\n",
    "\n",
    "    for token in [\"That \", \"is \", \"a \", \"very \", \"good \", \"question. \", \"Let \", \"me \", \"think \", \"Sorry, \", \"I \", \"don't \", \"know.\"]:\n",
    "        await sleep(0.2)\n",
    "        entry.value += token\n",
    "        yield entry\n",
    "        \n",
    "\n",
    "chat_feed = ChatFeed(\n",
    "    value=[\n",
    "        ChatEntry(user=\"System\", value=\"You are a friendly assistant\", avatar=SYSTEM_AVATAR, visible=False),\n",
    "        ChatEntry(user=\"Assistant\", value=\"Hi There. How my I help?\", avatar=ASSISTANT_AVATAR),\n",
    "        ],\n",
    "    callback=get_response,\n",
    "    callback_avatar=ASSISTANT_AVATAR,\n",
    "    height=400\n",
    ")\n",
    "chat_feed"
   ]
  },
  {
   "cell_type": "code",
   "execution_count": null,
   "metadata": {},
   "outputs": [],
   "source": [
    "entry = chat_feed.send(user=\"User\", value=\"What is 2+2?\", avatar=USER_AVATAR)"
   ]
  },
  {
   "cell_type": "markdown",
   "metadata": {},
   "source": [
    "## Custom Chat Interface"
   ]
  },
  {
   "cell_type": "code",
   "execution_count": null,
   "metadata": {
    "tags": []
   },
   "outputs": [],
   "source": [
    "from asyncio import sleep\n",
    "import panel as pn\n",
    "from panel.widgets.chat import ChatEntry, ChatFeed\n",
    "\n",
    "pn.extension()\n",
    "\n",
    "\n",
    "async def get_response(contents, user, instance):\n",
    "    await sleep(0.5)\n",
    "    return {\n",
    "        \"Philipp\": None,  # Ignore Philipp :-)\n",
    "        \"Marc\": \"It is 2\",\n",
    "        \"Andrew\": \"It is 4\",\n",
    "    }.get(user, \"I don't know\")\n",
    "\n",
    "\n",
    "ASSISTANT_AVATAR = (\n",
    "    \"https://upload.wikimedia.org/wikipedia/commons/6/63/Yumi_UBports.png\"\n",
    ")\n",
    "\n",
    "chat_feed = ChatFeed(\n",
    "    value=[ChatEntry(user=\"Assistant\", value=\"Hi There!\", avatar=ASSISTANT_AVATAR)],\n",
    "    callback=get_response,\n",
    "    height=500,\n",
    "    callback_avatar=ASSISTANT_AVATAR,\n",
    ")\n",
    "\n",
    "marc_button = pn.widgets.Button(\n",
    "    name=\"Marc\",\n",
    "    on_click=lambda event: chat_feed.send(\n",
    "        user=\"Marc\", value=\"What is the square root of 4?\", avatar=\"🚴\"\n",
    "    ),\n",
    "    align=\"center\",\n",
    "    disabled=chat_feed.param.disabled\n",
    ")\n",
    "andrew_button = pn.widgets.Button(\n",
    "    name=\"Andrew\",\n",
    "    on_click=lambda event: chat_feed.send(\n",
    "        user=\"Andrew\", value=\"What is the square root of 4 squared?\", avatar=\"🏊\"\n",
    "    ),\n",
    "    align=\"center\",\n",
    "    disabled=chat_feed.param.disabled\n",
    ")\n",
    "philipp_button = pn.widgets.Button(\n",
    "    name=\"Philipp\",\n",
    "    on_click=lambda event: chat_feed.send(\n",
    "        user=\"Philipp\", value=\"What is 2+2\", avatar=\"🏃\"\n",
    "    ),\n",
    "    align=\"center\",\n",
    "    disabled=chat_feed.param.disabled,\n",
    ")\n",
    "undo_button = pn.widgets.Button(\n",
    "    name=\"Undo\",\n",
    "    on_click=lambda event: chat_feed.undo(2), align=\"center\", disabled=chat_feed.param.disabled\n",
    ")\n",
    "clear_button = pn.widgets.Button(name=\"Clear\", on_click=lambda event: chat_feed.clear(), align=\"center\", disabled=chat_feed.param.disabled)\n",
    "\n",
    "\n",
    "pn.Column(\n",
    "    chat_feed,\n",
    "    pn.layout.Divider(),\n",
    "    pn.Row(\"Click a button\", andrew_button, marc_button, philipp_button, undo_button, clear_button),\n",
    ")"
   ]
  },
  {
   "cell_type": "markdown",
   "metadata": {},
   "source": [
    "Note how we use emojis and images (via urls) as avatars in the `ChatFeed`.\n",
    "\n",
    "We chose to use an *async* callback in the example. We recommend using *async* callbacks and *async* functions from `openai` and other AI frameworks whenever possible for optimal performance."
   ]
  }
 ],
 "metadata": {
  "language_info": {
   "name": "python",
   "pygments_lexer": "ipython3"
  }
 },
 "nbformat": 4,
 "nbformat_minor": 4
}
