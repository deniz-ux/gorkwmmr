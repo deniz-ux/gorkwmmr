{
 "cells": [
  {
   "cell_type": "code",
   "execution_count": null,
   "metadata": {
    "tags": []
   },
   "outputs": [],
   "source": [
    "import panel as pn\n",
    "pn.extension()"
   ]
  },
  {
   "cell_type": "markdown",
   "metadata": {},
   "source": [
    "A widget to display a list of `ChatEntry` objects and interact with them.\n",
    "\n",
    "This widget provides backend methods to:\n",
    "- Send (append) messages to the chat log.\n",
    "- Stream tokens to the latest `ChatEntry` in the chat log.\n",
    "- Execute callbacks when a user sends a message.\n",
    "- Undo a number of sent `ChatEntry` objects.\n",
    "- Clear the chat log of all `ChatEntry` objects.\n",
    "\n",
    "See [`ChatInterface`](ChatInterface.ipynb) for the frontend counterpart of `ChatFeed`, featuring interactive input widgets and convenient action buttons that leverage the backend methods of `ChatFeed`.\n",
    "\n",
    "![Chat Design Specification](../../assets/ChatDesignSpecification.png)\n",
    "\n",
    "#### Parameters:\n",
    "\n",
    "For details on other options for customizing the component see the [layout](../../how_to/layout/index.md) and [styling](../../how_to/styling/index.md) how-to guides.\n",
    "\n",
    "##### Core\n",
    "\n",
    "* **`value`** (List[ChatEntry]): The entries added to the chat feed.\n",
    "* **`header`** (str | Widget): The header of the chat feed. Can be a string, pane, or widget.\n",
    "* **`callback`** (Callable): Callback to execute when a user sends a message or when `respond` is called. The signature must include the previous message value `contents`, the previous `user` name, and the component `instance`.\n",
    "* **`callback_user`** (str): The default user name to use for the entry provided by the callback.\n",
    "* **`callback_avatar`** (str | BinaryIO): The default avatar to use for the entry provided by the callback.\n",
    "* **`placeholder`** (Any): Placeholder to display while the callback is running. If not set, defaults to a LoadingSpinner.\n",
    "* **`placeholder_text`** (str): If the placeholder is the default LoadingSpinner, the text to display next to it.\n",
    "* **`placeholder_threshold`** (float): Minimum duration in seconds of buffering before displaying the placeholder. If 0, the placeholder will be disabled.\n",
    "* **`auto_scroll_limit`** (int): Maximum pixel distance from the latest object in the Column to activate automatic scrolling upon update. Setting to 0 disables auto-scrolling.\n",
    "* **`scroll_button_threshold`** (int): Minimum pixel distance from the latest object in the Column to display the scroll button. Setting to 0 disables the scroll button.\n",
    "* **`view_latest`** (bool): Whether to scroll to the latest object on initialization. If not enabled, the view will be on the first object.\n",
    "\n",
    "##### Styling\n",
    "\n",
    "* **`card_params`** (Dict): Parameters to pass to Card, such as `header`, `header_background`, `header_color`, etc.\n",
    "* **`entry_params`** (Dict): Parameters to pass to each ChatEntry, such as `reaction_icons`, `timestamp_format`, `show_avatar`, `show_user`, and `show_timestamp`.\n",
    "\n",
    "___"
   ]
  },
  {
   "cell_type": "code",
   "execution_count": null,
   "metadata": {},
   "outputs": [],
   "source": [
    "chat_feed = pn.widgets.ChatFeed()\n",
    "chat_feed.send(\"Hello world!\", user=\"Bot\", avatar=\"🤖\")"
   ]
  },
  {
   "cell_type": "markdown",
   "metadata": {},
   "source": [
    "Besides messages of `str` type, the `send` method can also accept `dict`s containing the key `value` and `ChatEntry` objects."
   ]
  },
  {
   "cell_type": "code",
   "execution_count": null,
   "metadata": {},
   "outputs": [],
   "source": [
    "chat_feed = pn.widgets.ChatFeed()\n",
    "chat_feed.send({\"value\": \"Welcome!\", \"user\": \"Bot\", \"avatar\": \"B\"})"
   ]
  },
  {
   "cell_type": "markdown",
   "metadata": {},
   "source": [
    "Note if you provide both the user/avatar in the `dict` and keyword argument, the keyword argument takes precedence."
   ]
  },
  {
   "cell_type": "code",
   "execution_count": null,
   "metadata": {},
   "outputs": [],
   "source": [
    "chat_feed = pn.widgets.ChatFeed()\n",
    "chat_feed.send({\"value\": \"Overtaken!\", \"user\": \"Bot\"}, user=\"MegaBot\")"
   ]
  },
  {
   "cell_type": "markdown",
   "metadata": {},
   "source": [
    "The primary method for `ChatFeed` is `send`, however it's possible to pre-populate the `ChatFeed` with `ChatEntry` objects."
   ]
  },
  {
   "cell_type": "code",
   "execution_count": null,
   "metadata": {
    "tags": []
   },
   "outputs": [],
   "source": [
    "from asyncio import sleep\n",
    "\n",
    "from panel.widgets.chat import ChatEntry, ChatFeed\n",
    "\n",
    "pn.extension()\n",
    "\n",
    "async def get_response(contents, user, instance):\n",
    "    await sleep(1)\n",
    "    return {\n",
    "        \"Philipp\": None,  # Ignore Philipp :-)\n",
    "        \"Marc\": \"It is 2\",\n",
    "        \"Andrew\": \"It is 4\",\n",
    "    }.get(user, \"I don't know\")\n",
    "\n",
    "ASSISTANT_AVATAR = \"https://upload.wikimedia.org/wikipedia/commons/6/60/Icons8_flat_assistant.svg\"\n",
    "\n",
    "chat_feed = ChatFeed(\n",
    "    value=[ChatEntry(user=\"Assistant\", value=\"Hello World\", avatar=ASSISTANT_AVATAR)],\n",
    "    callback=get_response,\n",
    "    height=500,\n",
    "    callback_avatar=ASSISTANT_AVATAR,\n",
    ")\n",
    "\n",
    "marc_button = pn.widgets.Button(\n",
    "    name=\"Marc\",\n",
    "    on_click=lambda event: chat_feed.send(\n",
    "        user=\"Marc\", value=\"What is the square root of 4\", avatar=\"🚴\"\n",
    "    ),\n",
    "    align=\"center\",\n",
    ")\n",
    "andrew_button = pn.widgets.Button(\n",
    "    name=\"Andrew\",\n",
    "    on_click=lambda event: chat_feed.send(\n",
    "        user=\"Andrew\", value=\"What is the square root of 4 squared?\", avatar=\"🧑\"\n",
    "    ),\n",
    "    align=\"center\",\n",
    ")\n",
    "philipp_button = pn.widgets.Button(\n",
    "    name=\"Philipp\",\n",
    "    on_click=lambda event: chat_feed.send(\n",
    "        user=\"Philipp\", value=\"What is 2+2\", avatar=\"🏃\"\n",
    "    ),\n",
    "    align=\"center\",\n",
    ")\n",
    "\n",
    "pn.Column(\n",
    "    chat_feed,\n",
    "    pn.layout.Divider(),\n",
    "    pn.Row(\"Click to ask a question\", marc_button, andrew_button, philipp_button),\n",
    ").servable()\n"
   ]
  },
  {
   "cell_type": "markdown",
   "metadata": {},
   "source": [
    "Note how we use emojis and images (via urls) as avatars in the `ChatFeed`.\n",
    "\n",
    "We chose to use an *async* callback in the example. We recommend using *async* callbacks and *async* functions from `openai` and other AI frameworks whenever possible for optimal performance."
   ]
  }
 ],
 "metadata": {
  "language_info": {
   "name": "python",
   "pygments_lexer": "ipython3"
  }
 },
 "nbformat": 4,
 "nbformat_minor": 4
}
