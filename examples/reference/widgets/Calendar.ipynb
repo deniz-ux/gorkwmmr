{
 "cells": [
  {
   "cell_type": "code",
   "execution_count": null,
   "metadata": {},
   "outputs": [],
   "source": [
    "import datetime\n",
    "import panel as pn\n",
    "\n",
    "pn.extension()"
   ]
  },
  {
   "cell_type": "markdown",
   "metadata": {},
   "source": [
    "The `Calendar` widget is a powerful wrapper around the [`FullCalendar`](https://fullcalendar.io/) library that provides an interactive calendar interface for your Panel applications. It supports various views, event management, date navigation, and extensive customization options.\n",
    "\n",
    "The `Calendar` widget allows you to:\n",
    "\n",
    "- Display and manage events in multiple view formats (month, week, day, list)\n",
    "- Handle event interactions (clicking, dragging, resizing)\n",
    "- Customize the calendar's appearance and behavior\n",
    "- Navigate between dates and views\n",
    "- Respond to user interactions through callbacks\n",
    "\n",
    "\n",
    "#### Parameters\n",
    "\n",
    "For layout and styling-related parameters see the [Control the size](../../tutorials/basic/size.md), [Align Content](../../tutorials/basic/align.md) and [Style](../../tutorials/basic/style.md) tutorials.\n",
    "\n",
    "##### Core\n",
    "\n",
    "- **`value`** (list[dict]): List of events to display on the calendar. Each event should be a dictionary containing at least a `start` date/time.\n",
    "- **`time_zone`** (str): Time zone for date/time display (default: \"local\")\n",
    "- **`valid_range`** (dict): Dates outside of the valid range will be grayed-out and inaccessible. Can have `start` and `end` keys, but both do not need to be together.\n",
    "- **`current_date`** (str): The onload or current date of the calendar view. Use go_to_date() to change the date.\n",
    "- **`current_view`** (str): The initial calendar view. Use change_view() to change the view. Options include:\n",
    "  - `\"dayGridMonth\"` (default)\n",
    "  - `\"dayGridWeek\"`\n",
    "  - `\"dayGridDay\"`\n",
    "  - `\"timeGridWeek\"`\n",
    "  - `\"timeGridDay\"`\n",
    "  - `\"listWeek\"`\n",
    "  - `\"listMonth\"`\n",
    "  - `\"listYear\"`\n",
    "  - `\"multiMonthYear\"`\n",
    "\n",
    "##### Date & Time Display\n",
    "\n",
    "- **`display_event_time`** (bool): Whether to display the text for an event's date/time (default: True)\n",
    "- **`display_event_end`** (bool): Whether to display an event's end time\n",
    "- **`next_day_threshold`** (str): Minimum time for an event to span into next day (default: \"00:00:00\")\n",
    "- **`event_time_format`** (dict): Determines the time-text displayed on each event\n",
    "- **`now_indicator`** (bool): Whether to display current time indicator (default: True)\n",
    "- **`show_non_current_dates`** (bool): Whether to display dates outside current month\n",
    "- **`date_alignment`** (str): Determines how certain views should be initially aligned\n",
    "- **`date_increment`** (str): Duration to move forward/backward with prev/next\n",
    "- **`snap_duration`** (str): Time interval for event dragging and selection snapping\n",
    "\n",
    "##### Event Handling & Callbacks\n",
    "\n",
    "- **`editable`** (bool): Whether events can be modified by users (default: False)\n",
    "- **`event_click_callback`** (Callable): Called when an event is clicked\n",
    "- **`event_drag_start_callback`** (Callable): Triggered when event dragging begins\n",
    "- **`event_drag_stop_callback`** (Callable): Triggered when event dragging stops\n",
    "- **`event_drop_callback`** (Callable): Triggered when event is moved to different day/time\n",
    "- **`event_resize_callback`** (Callable): Triggered when event duration changes\n",
    "- **`event_resize_start_callback`** (Callable): Triggered when event resizing begins\n",
    "- **`event_resize_stop_callback`** (Callable): Triggered when event resizing stops\n",
    "- **`date_click_callback`** (Callable): Called when a date is clicked\n",
    "- **`select_callback`** (Callable): Called when a selection is made\n",
    "- **`unselect_callback`** (Callable): Called when a selection is cleared\n",
    "\n",
    "##### Event Display & Behavior\n",
    "\n",
    "- **`event_display`** (str): Controls event rendering style preset (default: \"auto\")\n",
    "- **`event_duration_editable`** (bool): Allow events to be resized (default: True)\n",
    "- **`event_start_editable`** (bool): Allow events to be dragged (default: True)\n",
    "- **`event_keys_auto_camel_case`** (bool): Auto-convert event keys to camelCase\n",
    "- **`event_resizable_from_start`** (bool): Allow resizing from start edge (default: False)\n",
    "- **`event_order`** (str): Determines event ordering within same day\n",
    "- **`event_order_strict`** (bool): Strictly follow eventOrder setting\n",
    "- **`event_max_stack`** (int): Maximum number of stacked events\n",
    "- **`progressive_event_rendering`** (bool): Controls async event rendering\n",
    "\n",
    "##### Styling & Appearance\n",
    "\n",
    "- **`aspect_ratio`** (float): Sets width-to-height aspect ratio\n",
    "- **`business_hours`** (dict): Emphasize specific time slots\n",
    "- **`content_height`** (str): Sets view area height\n",
    "- **`event_color`** (Color): Sets background and border colors for all events\n",
    "- **`event_background_color`** (Color): Sets event background color\n",
    "- **`event_border_color`** (Color): Sets event border color\n",
    "- **`event_text_color`** (Color): Sets event text color\n",
    "- **`expand_rows`** (bool): Auto-expand rows to fit available height\n",
    "- **`header_toolbar`** (dict): Defines top toolbar buttons and title\n",
    "- **`footer_toolbar`** (dict): Defines bottom toolbar buttons and title\n",
    "- **`button_text`** (dict): Text for toolbar buttons\n",
    "- **`button_icons`** (dict): Icons for toolbar buttons\n",
    "- **`title_format`** (dict): Format for header toolbar title\n",
    "- **`title_range_separator`** (str): Separator for date range in title (default: \" to \")\n",
    "- **`views`** (dict): Options to pass to specific calendar views, keyed by view name\n",
    "\n",
    "##### Selection & Interaction\n",
    "\n",
    "- **`selectable`** (bool): Allow date/time selection via click-and-drag\n",
    "- **`select_mirror`** (bool): Show placeholder during selection drag\n",
    "- **`select_min_distance`** (int): Minimum drag distance for selection\n",
    "- **`select_allow`** (Callable): Control where selection is allowed\n",
    "- **`unselect_auto`** (bool): Clear selection when clicking elsewhere\n",
    "- **`unselect_cancel`** (str): Elements that ignore unselectAuto\n",
    "- **`nav_links`** (bool): Make datetime text clickable for navigation\n",
    "- **`drag_scroll`** (bool): Auto-scroll during drag operations\n",
    "- **`drag_revert_duration`** (int): Animation duration for failed drags\n",
    "- **`event_drag_min_distance`** (int): Minimum drag distance to activate\n",
    "\n",
    "##### View-Specific Options\n",
    "\n",
    "- **`day_max_events`** (int): Maximum events per day before showing \"+more\"\n",
    "- **`day_max_event_rows`** (int): Maximum stacked event rows per day\n",
    "- **`day_popover_format`** (dict): Date format for \"more\" popover title\n",
    "- **`more_link_click`** (str): Action for \"more\" link click (default: \"popover\")\n",
    "- **`multi_month_max_columns`** (int): Maximum columns in multi-month view\n",
    "\n",
    "##### Performance & Technical\n",
    "\n",
    "- **`handle_window_resize`** (bool): Auto-resize on window resize (default: True)\n",
    "- **`window_resize_delay`** (int): Delay before resize adjustment (default: 100ms)\n",
    "- **`sticky_header_dates`** (str): Fix date-headers to viewport while scrolling\n",
    "- **`sticky_footer_scrollbar`** (bool): Fix horizontal scrollbar to bottom\n",
    "- **`all_day_maintain_duration`** (bool): Maintain duration when dragging between timed/all-day sections\n",
    "\n",
    "#### Methods\n",
    "\n",
    "- **`add_event()`**: Adds an event to the calendar with a start, end, title, and other optional parameters.\n",
    "- **`click_next()`**: Clicks the next button through the calendar's UI.\n",
    "- **`click_prev()`**: Clicks the previous button through the calendar's UI.\n",
    "- **`click_prev_year()`**: Clicks the previous year button through the calendar's UI.\n",
    "- **`click_next_year()`**: Clicks the next year button through the calendar's UI.\n",
    "- **`click_today()`**: Clicks the today button through the calendar's UI.\n",
    "- **`change_view()`**: Changes the current view of the calendar, with an option to go to a specific date.\n",
    "- **`go_to_date()`**: Navigates the calendar to a specific date.\n",
    "- **`increment_date()`**: Increments the current date by a specific amount.\n",
    "- **`scroll_to_time()`**: Scrolls the calendar to a specific time.\n"
   ]
  },
  {
   "cell_type": "markdown",
   "metadata": {},
   "source": [
    "#### Basics"
   ]
  },
  {
   "cell_type": "code",
   "execution_count": null,
   "metadata": {},
   "outputs": [],
   "source": [
    "calendar = pn.widgets.Calendar(sizing_mode=\"stretch_width\")\n",
    "calendar"
   ]
  },
  {
   "cell_type": "markdown",
   "metadata": {},
   "source": [
    "The current date that the calendar initially displays can be set with `current_date`, but **only upon instantiation**."
   ]
  },
  {
   "cell_type": "code",
   "execution_count": null,
   "metadata": {},
   "outputs": [],
   "source": [
    "calendar = pn.widgets.Calendar(current_date=\"2008-08-08\", sizing_mode=\"stretch_width\")\n",
    "calendar"
   ]
  },
  {
   "cell_type": "markdown",
   "metadata": {},
   "source": [
    "Afterwards, you can use the `go_to_date` method to programmatically change the date.\n",
    "\n",
    "Dates can be ISO8601 strings, e.g. `2018-06-01T12:30:00`, millisecond time, e.g. `1537302134028` (Tue Sep 18 2018 16:22:14 GMT-0400), or datetime objects, e.g. `datetime.datetime(2028, 08, 18)`. See [FullCalendar date parsing docs](https://fullcalendar.io/docs/date-parsing) for more info."
   ]
  },
  {
   "cell_type": "code",
   "execution_count": null,
   "metadata": {},
   "outputs": [],
   "source": [
    "now = datetime.datetime.now()\n",
    "calendar.go_to_date(now)"
   ]
  },
  {
   "cell_type": "markdown",
   "metadata": {},
   "source": [
    "The calendar can be limited to a specific date range by setting `valid_range`."
   ]
  },
  {
   "cell_type": "code",
   "execution_count": null,
   "metadata": {},
   "outputs": [],
   "source": [
    "calendar.valid_range = {\n",
    "    \"start\": now - datetime.timedelta(days=2),\n",
    "    \"end\": now + datetime.timedelta(days=2),\n",
    "}"
   ]
  },
  {
   "cell_type": "markdown",
   "metadata": {},
   "source": [
    "#### Events"
   ]
  },
  {
   "cell_type": "markdown",
   "metadata": {},
   "source": [
    "Events can be added through `value` as a list of dictionaries."
   ]
  },
  {
   "cell_type": "code",
   "execution_count": null,
   "metadata": {},
   "outputs": [],
   "source": [
    "calendar.value = [\n",
    "    {\n",
    "        \"start\": now,\n",
    "        \"end\": now + datetime.timedelta(minutes=30),\n",
    "        \"title\": \"Calendar Tutorial\",\n",
    "    },\n",
    "    {\n",
    "        \"start\": now,\n",
    "        \"allDay\": True,\n",
    "        \"title\": \"Enjoying Panel\",\n",
    "    },\n",
    "]"
   ]
  },
  {
   "cell_type": "markdown",
   "metadata": {},
   "source": [
    "Alternatively, an event can be added through the method `add_event`. Valid event keys can be found on the [FullCalendar Event Parsing docs](https://fullcalendar.io/docs/event-parsing)."
   ]
  },
  {
   "cell_type": "code",
   "execution_count": null,
   "metadata": {},
   "outputs": [],
   "source": [
    "calendar.add_event(\n",
    "    title=\"Bi-Weekly Event\",\n",
    "    startRecur=\"2024-10-22\",  # Start of the recurrence\n",
    "    daysOfWeek=[2],  # 2 represents Tuesday (0 = Sunday, 1 = Monday, ...)\n",
    "    startTime=\"06:30:00\",  # 6:30 AM PST\n",
    "    endTime=\"07:30:00\",  # 7:30 AM PST\n",
    "    duration=\"01:00\",  # 1 hour duration\n",
    ")"
   ]
  },
  {
   "cell_type": "markdown",
   "metadata": {},
   "source": [
    "Note, the keys can be defined in `snake_case` or `camelCase` as long as `event_keys_auto_camel_case=True`, which pre-processes the keys into `camelCase` internally.\n",
    "\n",
    "The following is equivalent to above.\n",
    "\n",
    "```python\n",
    "calendar.add_event(\n",
    "    title=\"Bi-Weekly Event\",\n",
    "    start_recur=\"2024-10-22\",  # Start of the recurrence\n",
    "    days_of_week=[2],  # 2 represents Tuesday (0 = Sunday, 1 = Monday, ...)\n",
    "    start_time=\"06:30:00\",  # 6:30 AM PST\n",
    "    end_time=\"07:30:00\",  # 7:30 AM PST\n",
    "    duration=\"01:00\",  # 1 hour duration\n",
    ")\n",
    "```\n",
    "\n",
    "If there are many events or if the events are large, use `camelCase` and set `event_keys_auto_camel_case=False` to speed up rendering."
   ]
  },
  {
   "cell_type": "markdown",
   "metadata": {},
   "source": [
    "#### Views"
   ]
  },
  {
   "cell_type": "markdown",
   "metadata": {},
   "source": [
    "The initial view can be set with `current_view`, but **only during instantiation**."
   ]
  },
  {
   "cell_type": "code",
   "execution_count": null,
   "metadata": {},
   "outputs": [],
   "source": [
    "calendar = pn.widgets.Calendar(current_view=\"timeGridDay\", sizing_mode=\"stretch_width\")\n",
    "calendar"
   ]
  },
  {
   "cell_type": "markdown",
   "metadata": {},
   "source": [
    "After, it can only be programmatically changed with `change_view`, or through user interaction on the header/footer toolbar."
   ]
  },
  {
   "cell_type": "code",
   "execution_count": null,
   "metadata": {},
   "outputs": [],
   "source": [
    "calendar.change_view(\"timeGridWeek\")"
   ]
  },
  {
   "cell_type": "markdown",
   "metadata": {},
   "source": [
    "The header/footer toolbar's can be customized to subset the available views users can toggle. This also reduces the number of plugins loaded, which can benefit rendering speed.\n",
    "\n",
    "Please see the [FullCalendar headerToolbar docs](https://fullcalendar.io/docs/headerToolbar) for full customizability."
   ]
  },
  {
   "cell_type": "code",
   "execution_count": null,
   "metadata": {},
   "outputs": [],
   "source": [
    "calendar = pn.widgets.Calendar(\n",
    "    header_toolbar={\n",
    "        \"left\": \"title\",\n",
    "        \"center\": \"\",\n",
    "        \"right\": \"prev,next today\",\n",
    "    },\n",
    "    sizing_mode=\"stretch_width\",\n",
    ")\n",
    "calendar"
   ]
  },
  {
   "cell_type": "markdown",
   "metadata": {},
   "source": [
    "#### Interaction\n",
    "\n",
    "The calendars' events can be dragged and dropped with `editable=True`."
   ]
  },
  {
   "cell_type": "code",
   "execution_count": null,
   "metadata": {},
   "outputs": [],
   "source": [
    "now = datetime.datetime.now()\n",
    "calendar = pn.widgets.Calendar(\n",
    "    value=[\n",
    "        {\"title\": \"Drag and drop me to reschedule!\", \"start\": now},\n",
    "    ],\n",
    "    editable=True,\n",
    "    sizing_mode=\"stretch_width\",\n",
    ")\n",
    "calendar"
   ]
  },
  {
   "cell_type": "markdown",
   "metadata": {},
   "source": [
    "It's possible to watch for dropped events by setting `event_drop_callback`, resulting in output like:\n",
    "\n",
    "```python\n",
    "{\n",
    "    \"oldEvent\": {\n",
    "        \"allDay\": False,\n",
    "        \"title\": \"Drag and drop me to reschedule!\",\n",
    "        \"start\": \"2024-10-24T16:12:41.154-07:00\",\n",
    "    },\n",
    "    \"event\": {\n",
    "        \"allDay\": False,\n",
    "        \"title\": \"Drag and drop me to reschedule!\",\n",
    "        \"start\": \"2024-10-17T16:12:41.154-07:00\",\n",
    "    },\n",
    "    \"relatedEvents\": [],\n",
    "    \"el\": {...},\n",
    "    \"delta\": {\"years\": 0, \"months\": 0, \"days\": -7, \"milliseconds\": 0},\n",
    "    \"jsEvent\": {\"isTrusted\": True},\n",
    "    \"view\": {\n",
    "        \"type\": \"dayGridMonth\",\n",
    "        \"dateEnv\": {...},\n",
    "    },\n",
    "}\n",
    "```"
   ]
  },
  {
   "cell_type": "code",
   "execution_count": null,
   "metadata": {},
   "outputs": [],
   "source": [
    "calendar.event_drop_callback = lambda event: print(event)"
   ]
  },
  {
   "cell_type": "markdown",
   "metadata": {},
   "source": [
    "Dates can also be selected by setting `selectable=True` and selections can also be watched with `select_callback`, which you can use to update other Panel components."
   ]
  },
  {
   "cell_type": "code",
   "execution_count": null,
   "metadata": {},
   "outputs": [],
   "source": [
    "def update_date_clicked(event):\n",
    "    date_clicked.object = f\"Date clicked: {event['startStr']}\"\n",
    "\n",
    "date_clicked = pn.pane.Markdown()\n",
    "calendar = pn.widgets.Calendar(\n",
    "    selectable=True,\n",
    "    select_callback=update_date_clicked,\n",
    "    sizing_mode=\"stretch_width\",\n",
    ")\n",
    "pn.Column(date_clicked, calendar)"
   ]
  },
  {
   "cell_type": "markdown",
   "metadata": {},
   "source": [
    "#### Additional Resources"
   ]
  },
  {
   "cell_type": "markdown",
   "metadata": {},
   "source": [
    "FullCalendar is full of features and options, so be sure to check out the full list \n",
    "of options in the [FullCalendar docs](https://fullcalendar.io/docs).\n",
    "\n",
    "Note, not all functionality has been ported over--if there's one you want, please submit a [GitHub issue](https://github.com/holoviz/panel/issues/new/choose)."
   ]
  }
 ],
 "metadata": {
  "language_info": {
   "name": "python",
   "pygments_lexer": "ipython3"
  }
 },
 "nbformat": 4,
 "nbformat_minor": 4
}
