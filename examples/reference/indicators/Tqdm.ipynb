{
 "cells": [
  {
   "cell_type": "code",
   "execution_count": null,
   "metadata": {},
   "outputs": [],
   "source": [
    "import time\n",
    "\n",
    "import pandas as pd\n",
    "import numpy as np\n",
    "\n",
    "import panel as pn\n",
    "from panel.widgets import Tqdm\n",
    "\n",
    "pn.extension()"
   ]
  },
  {
   "cell_type": "markdown",
   "metadata": {},
   "source": [
    "The ``Tqdm`` indicator wraps the well known [`tqdm`](https://github.com/tqdm/tqdm) progress indicator and displays the progress towards some target. You can use it in the notebook or in your Panel web app.\n",
    "\n",
    "[![Tqdm](https://raw.githubusercontent.com/tqdm/tqdm/master/images/logo.gif)](https://github.com/tqdm/tqdm)\n",
    "\n",
    "#### Arguments\n",
    "\n",
    "* **``layout``** (\"column\" or \"row\"): Specifies the panel layout type. Default is \"column\".\n",
    "\n",
    "#### Parameters:\n",
    "\n",
    "* **``value``** (int or None): The current value towards the progress\n",
    "* **``max``** (int): The maximum progress value\n",
    "* **``text``** (int): Additional tqdm style progress reporting\n",
    "* **``write_to_console``** (bool): Whether or not to also write to the console. Default is False. Works only on server - not in notebook.\n",
    "\n",
    "\n",
    "* **``progress_indicator``** (Progress): The Progress indicator displaying the value progress.\n",
    "* **``text_pane``** (Progress): The Pane displaying the text progress.\n",
    "* **``panel``** (Column or Row): The layout shown. Contains the `progress_indicator` and the `text_pane`\n",
    "\n",
    "\n",
    "* **``tqdm``** (tqdm.auto.tqdm): A modified version of `tqdm.auto.tqdm`.\n",
    "\n",
    "For layout and styling related parameters see the [customization user guide](../../user_guide/Customization.ipynb). For a general introduction to `tqdm` and lots of examples checkout the [tqdm github page](https://github.com/tqdm/tqdm).\n",
    "\n",
    "___"
   ]
  },
  {
   "cell_type": "code",
   "execution_count": null,
   "metadata": {},
   "outputs": [],
   "source": [
    "tqdm = Tqdm(layout=\"column\", sizing_mode=\"stretch_width\")\n",
    "tqdm"
   ]
  },
  {
   "cell_type": "markdown",
   "metadata": {},
   "source": [
    "## Simple Loop"
   ]
  },
  {
   "cell_type": "code",
   "execution_count": null,
   "metadata": {},
   "outputs": [],
   "source": [
    "loop_button = pn.widgets.Button(name=\"Run Loop\", button_type=\"success\")\n",
    "\n",
    "def run_loop(*events):\n",
    "    for index in tqdm(range(0,10), desc=\"My loop bar\"):\n",
    "        time.sleep(0.2)\n",
    "\n",
    "loop_button.on_click(run_loop)\n",
    "loop_button"
   ]
  },
  {
   "cell_type": "markdown",
   "metadata": {},
   "source": [
    "## Pandas Apply"
   ]
  },
  {
   "cell_type": "code",
   "execution_count": null,
   "metadata": {},
   "outputs": [],
   "source": [
    "# Register Pandas. This gives DataFrame.progress_apply method\n",
    "tqdm.tqdm.pandas(desc=\"My Pandas Bar!\")\n",
    "\n",
    "df = pd.DataFrame(np.random.randint(0, 100, (100000, 600)))\n",
    "\n",
    "def run_df(*events):\n",
    "    df.progress_apply(lambda x: x**2)\n",
    "    \n",
    "pandas_button = pn.widgets.Button(name=\"Run Pandas Apply\", button_type=\"success\")\n",
    "pandas_button.on_click(run_df)\n",
    "pandas_button"
   ]
  },
  {
   "cell_type": "markdown",
   "metadata": {},
   "source": [
    "## Widgets"
   ]
  },
  {
   "cell_type": "code",
   "execution_count": null,
   "metadata": {},
   "outputs": [],
   "source": [
    "tqdm.text_pane.min_width=500\n",
    "tqdm.text_pane"
   ]
  },
  {
   "cell_type": "code",
   "execution_count": null,
   "metadata": {},
   "outputs": [],
   "source": [
    "tqdm.progress_indicator"
   ]
  },
  {
   "cell_type": "markdown",
   "metadata": {},
   "source": [
    "## Parameters"
   ]
  },
  {
   "cell_type": "code",
   "execution_count": null,
   "metadata": {},
   "outputs": [],
   "source": [
    "pn.Param(tqdm, width=400)"
   ]
  }
 ],
 "metadata": {
  "kernelspec": {
   "display_name": "Python 3",
   "language": "python",
   "name": "python3"
  },
  "language_info": {
   "codemirror_mode": {
    "name": "ipython",
    "version": 3
   },
   "file_extension": ".py",
   "mimetype": "text/x-python",
   "name": "python",
   "nbconvert_exporter": "python",
   "pygments_lexer": "ipython3",
   "version": "3.8.5"
  }
 },
 "nbformat": 4,
 "nbformat_minor": 4
}
