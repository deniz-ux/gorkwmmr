{
 "cells": [
  {
   "cell_type": "code",
   "execution_count": null,
   "metadata": {},
   "outputs": [],
   "source": [
    "import panel as pn\n",
    "pn.extension()"
   ]
  },
  {
   "cell_type": "markdown",
   "metadata": {},
   "source": [
    "The ``Card`` layout allows arranging multiple panel objects in a collapsible, vertical container with a header bar. It has a list-like API with methods to ``append``, ``extend``, ``clear``, ``insert``, ``pop``, ``remove`` and ``__setitem__``, which make it possible to interactively update and modify the layout.\n",
    "\n",
    "#### Parameters:\n",
    "\n",
    "* **``collapsed``** (bool): Whether the `Card` is collapsed.\n",
    "* **``header``** (Viewable): A Panel component to display in the header bar of the Card.\n",
    "* **``objects``** (list): The list of objects to display in the Column, should not generally be modified directly except when replaced in its entirety.\n",
    "* **``title``** (str): The title to display in the header bar if no explicit `header` is defined.\n",
    "\n",
    "Styling related parameters:\n",
    "\n",
    "* **``background``** (str): The background color of the content area.\n",
    "* **``button_color``** (str): The color of the collapse button.\n",
    "* **``button_css_classes``** (list[str]): The list of CSS classes to apply to the collapse button.\n",
    "* **``css_classes``** (list[str]): The list of CSS classes to apply to the main area.\n",
    "* **``header_background``** (str): The background color of the header.\n",
    "* **``header_css_classes``** (list[str]): The list of CSS classes to apply to the header.\n",
    "\n",
    "For layout and styling related parameters see the [customization user guide](../../user_guide/Customization.ipynb).\n",
    "\n",
    "\n",
    "___"
   ]
  },
  {
   "cell_type": "markdown",
   "metadata": {},
   "source": [
    "A ``Card`` layout can either be instantiated as empty and populated after the fact or using a list of objects provided as positional arguments. If the objects are not already panel components they will each be converted to one using the ``pn.panel`` conversion method. Unlike the `Row` and `Column` layouts the `Card` has an explicit `title` which will be shown in the header bar alongside the collapse button:"
   ]
  },
  {
   "cell_type": "code",
   "execution_count": null,
   "metadata": {},
   "outputs": [],
   "source": [
    "w1 = pn.widgets.TextInput(name='Text:')\n",
    "w2 = pn.widgets.FloatSlider(name='Slider')\n",
    "\n",
    "card = pn.Card(w1, w2, title='Card', background='WhiteSmoke')\n",
    "card"
   ]
  },
  {
   "cell_type": "markdown",
   "metadata": {},
   "source": [
    "In general it is preferred to modify layouts only through the provided methods and avoid modifying the ``objects`` parameter directly. The one exception is when replacing the list of ``objects`` entirely, otherwise it is recommended to use the methods on the ``Card`` itself to ensure that the rendered views of the ``Card`` are rerendered in response to the change. As a simple example we might add an additional widget to the ``column`` using the append method:"
   ]
  },
  {
   "cell_type": "code",
   "execution_count": null,
   "metadata": {},
   "outputs": [],
   "source": [
    "w3 = pn.widgets.Select(options=['A', 'B', 'C'])\n",
    "card.append(w3)"
   ]
  },
  {
   "cell_type": "markdown",
   "metadata": {},
   "source": [
    "On a live server or in a notebook the `column` displayed above will dynamically expand in size to accomodate all three widgets and the title. To see the effect in a statically rendered page, we will display the column a second time:"
   ]
  },
  {
   "cell_type": "code",
   "execution_count": null,
   "metadata": {},
   "outputs": [],
   "source": [
    "card"
   ]
  },
  {
   "cell_type": "markdown",
   "metadata": {},
   "source": [
    "### Header\n",
    "\n",
    "Instead of using a `title` a `Card` may also be given an explicit `header` which can contain any component."
   ]
  },
  {
   "cell_type": "code",
   "execution_count": null,
   "metadata": {},
   "outputs": [],
   "source": [
    "logo = 'https://panel.holoviz.org/_static/logo_horizontal.png'\n",
    "\n",
    "red   = pn.Spacer(background='red', height=50)\n",
    "green = pn.Spacer(background='green', height=50)\n",
    "blue  = pn.Spacer(background='blue', height=50)\n",
    "\n",
    "pn.Card(\n",
    "    red, green, blue,\n",
    "    header_background='#2f2f2f',\n",
    "    button_color='white',\n",
    "    header=pn.panel(logo, height=40),\n",
    "    width=300,\n",
    ")"
   ]
  },
  {
   "cell_type": "markdown",
   "metadata": {},
   "source": [
    "### Layout\n",
    "\n",
    "In general a ``Card`` does not have to be given an explicit ``width``, ``height`` or ``sizing_mode``, allowing it to adapt to the size of its contents. However in certain cases it can be useful to declare a fixed-size layout, which its responsively sized contents will then fill, making it possible to achieve equal spacing between multiple objects:"
   ]
  },
  {
   "cell_type": "code",
   "execution_count": null,
   "metadata": {},
   "outputs": [],
   "source": [
    "red   = pn.Spacer(background='red', sizing_mode='stretch_both')\n",
    "green = pn.Spacer(background='green', sizing_mode='stretch_both')\n",
    "blue  = pn.Spacer(background='blue', sizing_mode='stretch_both')\n",
    "\n",
    "pn.Card(red, green, blue, height=300, width=200, title='Fixed size')"
   ]
  },
  {
   "cell_type": "markdown",
   "metadata": {},
   "source": [
    "When no fixed size is specified the column will expand to accomodate the sizing behavior of its contents:"
   ]
  },
  {
   "cell_type": "code",
   "execution_count": null,
   "metadata": {},
   "outputs": [],
   "source": [
    "from bokeh.plotting import figure\n",
    "\n",
    "p1 = figure(height=150, sizing_mode='stretch_width', margin=5)\n",
    "p2 = figure(height=150, sizing_mode='stretch_width', margin=5)\n",
    "\n",
    "p1.line([1, 2, 3], [1, 2, 3])\n",
    "p2.circle([1, 2, 3], [1, 2, 3])\n",
    "\n",
    "pn.Card(p1, p2, title=\"Plots\")"
   ]
  },
  {
   "cell_type": "markdown",
   "metadata": {},
   "source": [
    "It is also possible to enable scrollbars on the `Card` container in case the content overflows the specified height and width:"
   ]
  },
  {
   "cell_type": "code",
   "execution_count": null,
   "metadata": {},
   "outputs": [],
   "source": [
    "pn.Card(\n",
    "    pn.Spacer(background='red', width=200, height=200),\n",
    "    pn.Spacer(background='green', width=200, height=200),\n",
    "    pn.Spacer(background='blue', width=200, height=200),\n",
    "    scroll=True, max_height=420, title='Scrollable'\n",
    ")"
   ]
  }
 ],
 "metadata": {
  "kernelspec": {
   "display_name": "Python 3",
   "language": "python",
   "name": "python3"
  },
  "language_info": {
   "codemirror_mode": {
    "name": "ipython",
    "version": 3
   },
   "file_extension": ".py",
   "mimetype": "text/x-python",
   "name": "python",
   "nbconvert_exporter": "python",
   "pygments_lexer": "ipython3",
   "version": "3.7.5"
  }
 },
 "nbformat": 4,
 "nbformat_minor": 4
}
