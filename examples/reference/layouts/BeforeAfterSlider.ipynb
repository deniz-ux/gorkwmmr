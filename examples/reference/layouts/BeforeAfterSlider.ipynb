{
 "cells": [
  {
   "cell_type": "code",
   "execution_count": null,
   "id": "ed7c1d01-d655-4878-a27d-c6d0e330097b",
   "metadata": {},
   "outputs": [],
   "source": [
    "import panel as pn\n",
    "\n",
    "pn.extension(sizing_mode=\"stretch_width\")"
   ]
  },
  {
   "cell_type": "markdown",
   "id": "ea1bc3ca-f83c-48e5-8046-7a4341ed835d",
   "metadata": {},
   "source": [
    "The `BeforeAfterSlider` \n",
    "\n",
    "The BeforeAfterSlider layout enables you to quickly compare two panels layed out on top of each other with a part of the *before* panel shown on one side of a slider and a part of the *after* panel shown on the other side.\n",
    "\n",
    "#### Parameters:\n",
    "\n",
    "* **``value``** (int): The percentage of the *after* panel shown. Default is 50.\n",
    "* **``before``**: The *before* panel.\n",
    "* **``after``**: The *after* panel.\n",
    "* **``slider_width``** (int): The width of the slider in pixels. Default is 12.\n",
    "* **``slider_color``** (str): The color of the slider. Default is 'silver'."
   ]
  },
  {
   "cell_type": "code",
   "execution_count": null,
   "id": "33d85c16-ea4c-44bb-98fd-e66fd00c665b",
   "metadata": {},
   "outputs": [],
   "source": [
    "import pandas as pd\n",
    "import hvplot.pandas\n",
    "\n",
    "data = pd.DataFrame({\"y\": range(10)})"
   ]
  },
  {
   "cell_type": "code",
   "execution_count": null,
   "id": "e7279dc0-3935-4104-b5c5-4b7118111a29",
   "metadata": {},
   "outputs": [],
   "source": [
    "before = data.hvplot().opts(color=\"green\", line_width=6, responsive=True, height=400)\n",
    "after = data.hvplot().opts(color=\"red\", line_width=6, responsive=True, height=400)"
   ]
  },
  {
   "cell_type": "code",
   "execution_count": null,
   "id": "e570221d-6a68-4d15-ad8f-0fe316df9abf",
   "metadata": {},
   "outputs": [],
   "source": [
    "before_after = pn.layout.BeforeAfterSlider(value=100, before=before, after=after, height=400)\n",
    "before_after"
   ]
  },
  {
   "cell_type": "code",
   "execution_count": null,
   "id": "6977d1d6-b559-41c5-9cdf-b6f869ec59b3",
   "metadata": {},
   "outputs": [],
   "source": [
    "controls = pn.WidgetBox(pn.Param(before_after, parameters=[\"value\", \"slider_width\", \"slider_color\"]), sizing_mode=\"fixed\")\n",
    "controls"
   ]
  }
 ],
 "metadata": {
  "kernelspec": {
   "display_name": "Python 3 (ipykernel)",
   "language": "python",
   "name": "python3"
  },
  "language_info": {
   "codemirror_mode": {
    "name": "ipython",
    "version": 3
   },
   "file_extension": ".py",
   "mimetype": "text/x-python",
   "name": "python",
   "nbconvert_exporter": "python",
   "pygments_lexer": "ipython3",
   "version": "3.7.10"
  }
 },
 "nbformat": 4,
 "nbformat_minor": 5
}
