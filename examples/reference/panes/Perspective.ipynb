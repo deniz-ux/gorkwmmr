{
 "cells": [
  {
   "cell_type": "code",
   "execution_count": null,
   "metadata": {
    "tags": []
   },
   "outputs": [],
   "source": [
    "import panel as pn\n",
    "import pandas as pd\n",
    "import numpy as np\n",
    "import random\n",
    "from datetime import datetime, timedelta\n",
    "\n",
    "pn.extension('perspective')"
   ]
  },
  {
   "cell_type": "markdown",
   "metadata": {},
   "source": [
    "The ``Perspective`` pane provides a powerful visualization component for large, real-time datasets built on the [Perspective Project](https://perspective.finos.org/).\n",
    "\n",
    "The ``Perspective`` pane can\n",
    "\n",
    "- provide your users with the ability to quickly explore their data via built in pivot and plotting functionality\n",
    "- visualize large datasets with speed\n",
    "\n",
    "The ``Perspective`` pane is a very good alternative to the `Tabulator` table.\n",
    "\n",
    "Check out the [Perspective Examples Gallery](https://perspective.finos.org/examples/) for inspiration.\n",
    "\n",
    "## Parameters:\n",
    "\n",
    "For details on other options for customizing the component see the [layout](../../how_to/layout/index.md) and [styling](../../how_to/styling/index.md) how-to guides.\n",
    "\n",
    "* **``aggregates``** (dict): Aggregation spec, e.g. {x: \"distinct count\"}\n",
    "* **``columns``** (list or dict): List of column names to display or a dictionery with column configuration options.\n",
    "* **``expressions``** (list): List of expressions, e.g. `['\"x\"+\"y\"']`\n",
    "* **``filters``** (list): A list of filters, e.g. `[[\"x\", \"<\", 3], [\"y\", \"contains\", \"abc\"]]`.\n",
    "* **``group_by``** (list): List of columns to group by, e.g. `[\"x\", \"y\"]`\n",
    "* **``object``** (dict or pd.DataFrame): The plot data declared as a dictionary of arrays or a DataFrame.\n",
    "* **``selectable``** (bool, default=True): Whether rows are selectable\n",
    "* **``split_by``** (list):  A list of columns to pivot by. e.g. `[\"x\", \"y\"]`\n",
    "* **``sort``** (list): List of sorting specs, e.g. `[[\"x\", \"desc\"]]`\n",
    "* **``plugin``** (str): The name of a plugin to display the data. For example `'datagrid'` or `'d3_xy_scatter'`.\n",
    "* **``plugin_config``** (dict): Configuration for the PerspectiveViewerPlugin \n",
    "* **``toggle_config``** (bool): Whether to show the config menu. Default is True.\n",
    "* **``theme``** (str): The theme of the viewer, available options include `'material'`, `'material-dark'`, `'monokai'`, `'solarized'`, `'solarized-dark'` and `'vaporwave'`\n",
    "\n",
    "___\n",
    "\n",
    "The `Perspective` pane renders columns of data specified as a dictionary of lists or arrays and pandas DataFrames:"
   ]
  },
  {
   "cell_type": "markdown",
   "metadata": {
    "tags": []
   },
   "source": [
    "## Basic Examples"
   ]
  },
  {
   "cell_type": "code",
   "execution_count": null,
   "metadata": {
    "tags": []
   },
   "outputs": [],
   "source": [
    "data = {\n",
    "    'int': [random.randint(-10, 10) for _ in range(10)],\n",
    "    'float': [random.uniform(-10, 10) for _ in range(10)],\n",
    "    'date': [(datetime.now() + timedelta(days=i)).date() for i in range(10)],\n",
    "    'datetime': [(datetime.now() + timedelta(hours=i)) for i in range(10)],\n",
    "    'category': ['Category A', 'Category B', 'Category C', 'Category A', 'Category B',\n",
    "             'Category C', 'Category A', 'Category B', 'Category C', 'Category A'],\n",
    "}\n",
    "df = pd.DataFrame(data)\n",
    "\n",
    "pn.pane.Perspective(df, width=1000)"
   ]
  },
  {
   "cell_type": "markdown",
   "metadata": {
    "tags": []
   },
   "source": [
    "<div class=\"alert alert-block alert-info\"> <b>NOTE</b> If the Perspective widget is not shown try <em>hard refreshing</em> your browser. </div>"
   ]
  },
  {
   "cell_type": "markdown",
   "metadata": {
    "tags": []
   },
   "source": [
    "We can also set the various config settings such as choosing the `columns`, `plugin` etc. from Python:"
   ]
  },
  {
   "cell_type": "code",
   "execution_count": null,
   "metadata": {
    "tags": []
   },
   "outputs": [],
   "source": [
    "pn.pane.Perspective(df, columns=[\"int\", \"float\"], plugin='d3_y_line', width=1000)"
   ]
  },
  {
   "cell_type": "markdown",
   "metadata": {},
   "source": [
    "## Column Configuration\n",
    "\n",
    "You can configure columns manually as shown in the image below\n",
    "\n",
    "![Manual DataGrid Plugin Column Configuration](https://user-images.githubusercontent.com/42288570/244585203-b16947f8-9fff-4a66-a29e-61936ac24ecb.png)"
   ]
  },
  {
   "cell_type": "code",
   "execution_count": null,
   "metadata": {
    "tags": []
   },
   "outputs": [],
   "source": [
    "pn.pane.Perspective(df, width=1000, plugin_config={\n",
    "    'columns': {\n",
    "        'X': {'number_fg_mode': 'color', 'neg_fg_color': '#880808', 'pos_fg_color': '#008000', \"fixed\": 3},\n",
    "        'Y': { 'number_fg_mode': \"disabled\", 'fg_gradient': 7.93,  },\n",
    "    }\n",
    "})"
   ]
  },
  {
   "cell_type": "markdown",
   "metadata": {
    "tags": []
   },
   "source": [
    "For more detail about the available options see the [Column Configuration Options Section](#column-configuration-options) below."
   ]
  },
  {
   "cell_type": "markdown",
   "metadata": {},
   "source": [
    "## Timezone Adjustments\n",
    "\n",
    "The underlying Perspective Viewer assumes *non-timezone* aware datetimes are in UTC time. And it displays it in your local time zone.\n",
    "\n",
    "If you data is not time-zone aware you can make them. My servers time zone is 'cet' and I can make them aware as shown below."
   ]
  },
  {
   "cell_type": "code",
   "execution_count": null,
   "metadata": {
    "tags": []
   },
   "outputs": [],
   "source": [
    "df_aware = df.copy(deep=True)\n",
    "df_aware['datetime'] = df_aware['datetime'].dt.tz_localize(\"cet\")\n",
    "display(df_aware.head(3))\n",
    "pn.pane.Perspective(df_aware, width=1000)"
   ]
  },
  {
   "cell_type": "markdown",
   "metadata": {
    "tags": []
   },
   "source": [
    "The datetimes will still be shown to the users in their local timezone though. This is not always what you want though."
   ]
  },
  {
   "cell_type": "markdown",
   "metadata": {},
   "source": [
    "## Streaming and Patching"
   ]
  },
  {
   "cell_type": "markdown",
   "metadata": {
    "tags": []
   },
   "source": [
    "The `Perspective` pane also supports `stream` and `patch` methods allowing us to efficiently update the data"
   ]
  },
  {
   "cell_type": "code",
   "execution_count": null,
   "metadata": {
    "tags": []
   },
   "outputs": [],
   "source": [
    "df_stream = pd.DataFrame(np.random.randn(400, 4), columns=list('ABCD')).cumsum()\n",
    "\n",
    "stream_perspective = pn.pane.Perspective(\n",
    "    df_stream, plugin='d3_y_line', columns=['A', 'B', 'C', 'D'], theme='material-dark',\n",
    "    sizing_mode='stretch_width', height=500, margin=0\n",
    ")\n",
    "\n",
    "stream_perspective"
   ]
  },
  {
   "cell_type": "markdown",
   "metadata": {},
   "source": [
    "Lets start the streaming.\n",
    "\n",
    "The amount of data to keep in the streaming buffer can be controlled via the `rollover` option:"
   ]
  },
  {
   "cell_type": "code",
   "execution_count": null,
   "metadata": {
    "tags": []
   },
   "outputs": [],
   "source": [
    "rollover = pn.widgets.IntInput(name='Rollover', value=500)\n",
    "\n",
    "def stream():\n",
    "    data = df_stream.iloc[-1] + np.random.randn(4)\n",
    "    stream_perspective.stream(data, rollover.value)\n",
    "\n",
    "cb = pn.state.add_periodic_callback(stream, 50)\n",
    "\n",
    "pn.Row(cb.param.period, rollover)"
   ]
  },
  {
   "cell_type": "markdown",
   "metadata": {},
   "source": [
    "Alternatively we can also `patch` the data:"
   ]
  },
  {
   "cell_type": "code",
   "execution_count": null,
   "metadata": {
    "tags": []
   },
   "outputs": [],
   "source": [
    "mixed_df = pd.DataFrame({'A': np.arange(10), 'B': np.random.rand(10), 'C': [f'foo{i}' for i in range(10)]})\n",
    "\n",
    "perspective = pn.pane.Perspective(mixed_df, height=500)\n",
    "\n",
    "perspective"
   ]
  },
  {
   "cell_type": "markdown",
   "metadata": {},
   "source": [
    "The easiest way to patch the data is by supplying a dictionary as the patch value. The dictionary should have the following structure:\n",
    "\n",
    "```python\n",
    "{\n",
    "    column: [\n",
    "        (index: int or slice, value),\n",
    "        ...\n",
    "    ],\n",
    "    ...\n",
    "}\n",
    "```\n",
    "    \n",
    "As an example, below we will patch the 'A' and 'C' columns. On the `'A'` column we will replace the 0th row and on the `'C'` column we replace the first two rows:"
   ]
  },
  {
   "cell_type": "code",
   "execution_count": null,
   "metadata": {
    "tags": []
   },
   "outputs": [],
   "source": [
    "perspective.patch({'A': [(0, 3)], 'C': [(slice(0, 1), 'bar')]})\n",
    "\n",
    "perspective"
   ]
  },
  {
   "cell_type": "markdown",
   "metadata": {},
   "source": [
    "Deleting rows can be achieved by streaming the data you want to become visible and setting rollover equal to the row count of new data. Effectively, deleting old rows. Removing specific rows by index in a similar manner as patching is currently not supported."
   ]
  },
  {
   "cell_type": "code",
   "execution_count": null,
   "metadata": {
    "tags": []
   },
   "outputs": [],
   "source": [
    "data = {'A': np.arange(10)}\n",
    "\n",
    "perspective = pn.pane.Perspective(data, height=500)\n",
    "\n",
    "perspective"
   ]
  },
  {
   "cell_type": "code",
   "execution_count": null,
   "metadata": {},
   "outputs": [],
   "source": [
    "smaller_data = {'A': np.arange(5)}\n",
    "\n",
    "perspective.stream(smaller_data, rollover=5)"
   ]
  },
  {
   "cell_type": "markdown",
   "metadata": {},
   "source": [
    "## Controls\n",
    "\n",
    "The `Perspective` pane exposes a number of options which can be changed from both Python and Javascript try out the effect of these parameters interactively:"
   ]
  },
  {
   "cell_type": "code",
   "execution_count": null,
   "metadata": {},
   "outputs": [],
   "source": [
    "pn.Row(perspective.controls(jslink=True), perspective)"
   ]
  },
  {
   "cell_type": "markdown",
   "metadata": {},
   "source": [
    "## Column Configuration Options\n",
    "\n",
    "The column configurations options of the underlying Perspective Viewer are not well documented. You can found some in the [Perspective Examples Gallery](https://perspective.finos.org/examples/). They can all be reversed engineered from the [Perspective GitHub repository](https://github.com/finos/perspective).\n",
    "\n",
    "For example for the `DataGrid` plugin the options for configuring a *number* column are defined in [number_column_style.rs](https://github.com/finos/perspective/blob/master/rust/perspective-viewer/src/rust/config/number_column_style.rs).\n",
    "\n",
    "Below we list some of the most useful options we have been able to find.\n",
    "\n",
    "### DataGrid\n",
    "\n",
    "#### Number Column\n",
    "\n",
    "- Precision:\n",
    "  - `fixed`\n",
    "- Foreground:\n",
    "  - `number_fg_mode` ('disabled', 'color', 'bar')\n",
    "  - `pos_fg_color` (hex string), `neg_fg_color` (hex string), `fg_gradient` (float)\n",
    "- Background:\n",
    "  - `number_bg_mode` ('disabled', 'color', 'gradient', 'pulse')\n",
    "  - `pos_bg_color` (str), `neg_bg_color` (str), `bg_gradient` (float)\n",
    "  \n",
    "#### String Column"
   ]
  }
 ],
 "metadata": {
  "language_info": {
   "name": "python",
   "pygments_lexer": "ipython3"
  }
 },
 "nbformat": 4,
 "nbformat_minor": 4
}
