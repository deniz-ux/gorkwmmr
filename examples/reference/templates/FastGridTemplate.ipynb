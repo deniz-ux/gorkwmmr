{
 "cells": [
  {
   "cell_type": "code",
   "execution_count": null,
   "metadata": {},
   "outputs": [],
   "source": [
    "import panel as pn\n",
    "import numpy as np\n",
    "import holoviews as hv\n",
    "\n",
    "pn.extension(sizing_mode = 'stretch_width')"
   ]
  },
  {
   "cell_type": "markdown",
   "metadata": {},
   "source": [
    "For a large variety of use cases we do not need complete control over the exact layout of each individual component on the page, as could be achieved with a [custom template](../../user_guide/Templates.ipynb), we just want to achieve a more polished look and feel. For these cases Panel ships with a number of default templates, which are defined by declaring four main content areas on the page, which can be populated as desired:\r\n",
    "\n",
    "* **`header`**: The header area of the HTML page\r\n",
    "* **`sidebar`**: A collapsible sidebar\r\n",
    "* **`main`**: The main area of the application\r\n",
    "* **`modal`**: A modal area which can be opened and closed from Python\r\n",
    "\n",
    "These three areas behave very similarly to other Panel layout components. In particular the header, sidebar and modal behave just like the list-like `Row`/`Column` layouts while the main area behaves like a `GridSpec`. This means we can easily append new components into these areas. Unlike other layout components however, the contents of the areas is fixed once rendered. If you need a dynamic layout you should therefore insert a regular Panel layout component (e.g. a `Column` or `Row`) and modify it in place once added to one of the content areas. \r\n",
    "\n",
    "Templates can allow for us to quickly and easily create web apps for displaying our data. Panel comes with a default Template, and includes multiple Templates that extend the default which add some customization for a better display.\r\n",
    "\n",
    "#### Parameters:\r\n",
    "\n",
    "In addition to the four different areas we can populate, the `FastGridTemplate` also provides the parameters below:\r\n",
    "\n",
    "* **`site`** (str): Name of the site. Will be shown in the header. Default is '', i.e. not shown.\r\n",
    "* **`site_url`** (str): Url of the site and logo. Default is \"/\".\r\n",
    "* **`logo`** (str): URI of logo to add to the header (if local file, logo is base64 encoded as URI).\r\n",
    "* **`title`** (str): A title to show in the header. Also added to the document head meta settings and as the browser tab title.\r\n",
    "* **`favicon`** (str): URI of favicon to add to the document head (if local file, favicon is base64 encoded as URI).\r\n",
    "* **`sidebar_footer`** (str): Can be used to insert additional HTML. For example a menu, some additional info, links etc.\r\n",
    "* **`config`** (TemplateConfig): Contains configuration options similar to `pn.config` but applied to the current Template only. (Currently only `css_files` is supported)\r\n",
    "* **`busy_indicator`** (BooleanIndicator): Visual indicator of application busy state.\r\n",
    "\n",
    "For configuring the **grid**\r\n",
    "\n",
    "* **`cols`** (dict): Number of columns in the grid for different display sizes (`default={'lg': 12, 'md': 10, 'sm': 6, 'xs': 4, 'xxs': 2}`)\r\n",
    "* **`breakpoints`** (dict): Sizes in pixels for various layouts (`default={'lg': 1200, 'md': 996, 'sm': 768, 'xs': 480, 'xxs': 0}`)\r\n",
    "* **`row_height`** (int, default=150): Height per row in the grid\r\n",
    "* **`dimensions`** (dict): Minimum/Maximum sizes of cells in grid units (`default={'minW': 0, 'maxW': 'Infinity', 'minH': 0, 'maxH': 'Infinity'}`)\r\n",
    "* **`prevent_collision`** (bool, default=Flase): Prevent collisions between grid items.\r\n",
    "* **`save_layout`** {bool, default=False): Save layout changes to localStorage.\r\n",
    "\n",
    "For **styling** you can use\r\n",
    "\n",
    "* **`theme`** (Theme): A Theme class (available in `panel.template`. One of `DefaultTheme` or `DarkTheme`). \r\n",
    "    - For convenience you can provide \"default\" or \"dark\" string to the constructor.\r\n",
    "    - If you add `?theme=default` or `?theme=dark` in the url this will set the theme unless explicitly declared\r\n",
    "* **`enable_theme_toggle`** (boolean): If `True` a switch to toggle the Theme is shown. Default is `True`.\r\n",
    "* **`background_color`** (str): Optional body background color override.\r\n",
    "* **`neutral_color`** (str): Optional body neutral color override.\r\n",
    "* **`accent_base_color`** (str): Optional body accent base color override.\r\n",
    "* **`header_background`** (str): Optional header background color override.\r\n",
    "* **`header_color`** (str): Optional header text color override.\r\n",
    "* **`header_neutral_color`** (str): Optional header neutral color override.\r\n",
    "* **`header_accent_base_color`** (str): Optional header accent base color override.\r\n",
    "* **`corner_radius`** (str): The corner radius applied to controls.\r\n",
    "* **`font`** (str): A font url to import.\r\n",
    "* **`font_url`** (str): A font url to import.\r\n",
    "* **`shadow`** (str): Optional shadow override. Whether or not to apply shadow.\r\n",
    "* **`main_layout`** (str): What to wrap the main components into. Options are '' (i.e. none) and 'card' (Default). Could be extended to Accordion, Tab etc. in the future.\r\n",
    "\n",
    "For **layout** you can use\r\n",
    "\n",
    "* **`sidebar_width`** (int): The width of the sidebar in pixels. Default is 330.\r\n",
    "* **`main_max_width`** (str): The maximum width of the main area. For example '800px' or '80%'. If the string is '' (default) no max width is set.\r\n",
    "\n",
    "For **meta** and **base** values you can use\r\n",
    "\n",
    "* **`meta_description`** (str): A meta description to add to the document head for search engine optimization. For example 'P.A. Nelson'.\r\n",
    "* **`meta_keywords`** (str): Meta keywords to add to the document head for search engine optimization.\r\n",
    "* **`meta_author`** (str): A meta author to add to the the document head for search engine optimization. For example 'P.A. Nelson'.\r\n",
    "* **`meta_refresh`** (str): A meta refresh rate to add to the document head. For example '30' will instruct the browser to refresh every 30 seconds. Default is '', i.e. no automatic refresh.\r\n",
    "* **`meta_viewport`** (str): A meta viewport to add to the header.\r\n",
    "* **`base_url`** (str): Specifies the base URL for all relative URLs in a page. Default is '', i.e. not the domain.\r\n",
    "* **`base_target`** (str): Specifies the base Target for all relative URLs in a page. Default is _self.\r\n",
    "\n",
    "\n",
    "________"
   ]
  },
  {
   "cell_type": "markdown",
   "metadata": {},
   "source": [
    "In this case we are using the `FastGridTemplate`, built using the [Fast.design](https://www.fast.design/) framework. Here is an example of how you can set up a display using this template:"
   ]
  },
  {
   "cell_type": "code",
   "execution_count": null,
   "metadata": {},
   "outputs": [],
   "source": [
    "ACCENT_COLOR = \"#DF3874\"\n",
    "XS = np.linspace(0, np.pi)\n",
    "\n",
    "def sine(freq, phase):\n",
    "    return hv.Curve((XS, np.sin(XS * freq + phase))).opts(\n",
    "        responsive=True, min_height=400, title=\"Sine\", color=ACCENT_COLOR\n",
    "    )\n",
    "\n",
    "def cosine(freq, phase):\n",
    "    return hv.Curve((XS, np.cos(XS * freq + phase))).opts(\n",
    "        responsive=True, min_height=400, title=\"Cosine\", color=ACCENT_COLOR\n",
    "    )\n",
    "\n",
    "freq = pn.widgets.FloatSlider(name=\"Frequency\", start=0, end=10, value=2)\n",
    "phase = pn.widgets.FloatSlider(name=\"Phase\", start=0, end=np.pi)\n",
    "\n",
    "sine = pn.bind(sine, freq=freq, phase=phase)\n",
    "cosine = pn.bind(cosine, freq=freq, phase=phase)\n",
    "\n",
    "template = pn.template.FastGridTemplate(\n",
    "    site=\"Panel\", title=\"FastGridTemplate\",\n",
    "    sidebar=[pn.pane.Markdown(\"## Settings\"), freq, phase],\n",
    ")\n",
    "\n",
    "template.main[:3, :6] = pn.pane.HoloViews(hv.DynamicMap(sine), sizing_mode=\"stretch_both\")\n",
    "template.main[:3, 6:] = pn.pane.HoloViews(hv.DynamicMap(cosine), sizing_mode=\"stretch_both\")\n",
    "template.servable();"
   ]
  },
  {
   "cell_type": "markdown",
   "metadata": {},
   "source": [
    "<h3><b>FastGridTemplate with DefaultTheme</b></h3>\n",
    "<img src=\"../../assets/FastGridTemplate.png\" style=\"margin-left: auto; margin-right: auto; display: block;\"></img>\n",
    "</br>    \n",
    "<h3><b>FastGridTemplate with DarkTheme</b></h3>\n",
    "<img src=\"../../assets/FastGridTemplateDark.png\" style=\"margin-left: auto; margin-right: auto; display: block;\"></img>"
   ]
  },
  {
   "cell_type": "markdown",
   "metadata": {},
   "source": [
    "The app can be displayed within the notebook by using `.servable()`, or rendered in another tab by replacing it with `.show()`. \n",
    "\n",
    "Themes can be added using the optional keyword argument `theme`. This template comes with a `DarkTheme` and a `DefaultTheme`, which can be set via `FastlistTemplate(theme=DarkTheme)`. If no theme is set, then `DefaultTheme` will be applied.\n",
    "\n",
    "It should be noted **this template currently does not render correctly in a notebook**, and for the best performance the should ideally be deployed to a server."
   ]
  }
 ],
 "metadata": {
  "interpreter": {
   "hash": "7fa204e84b1ce6697eb3048458244c17ccc160da5eb825bd435eb4b5077a9bf7"
  },
  "kernelspec": {
   "display_name": "Python 3",
   "language": "python",
   "name": "python3"
  },
  "language_info": {
   "codemirror_mode": {
    "name": "ipython",
    "version": 3
   },
   "file_extension": ".py",
   "mimetype": "text/x-python",
   "name": "python",
   "nbconvert_exporter": "python",
   "pygments_lexer": "ipython3",
   "version": "3.8.4"
  }
 },
 "nbformat": 4,
 "nbformat_minor": 4
}
