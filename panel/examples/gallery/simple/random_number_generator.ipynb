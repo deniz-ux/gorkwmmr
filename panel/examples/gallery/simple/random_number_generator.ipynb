{
 "cells": [
  {
   "cell_type": "code",
   "execution_count": null,
   "metadata": {},
   "outputs": [],
   "source": [
    "import panel as pn\n",
    "import numpy as np\n",
    "pn.extension()"
   ]
  },
  {
   "cell_type": "markdown",
   "metadata": {},
   "source": [
    "This example creates a random number generator that periodically updates every five seconds, or with a click of a button.\n",
    "\n",
    "This demonstrates how to add a periodic callback, how to link a button to a callback, and manually stopping the periodic callback."
   ]
  },
  {
   "cell_type": "code",
   "execution_count": null,
   "metadata": {},
   "outputs": [],
   "source": [
    "def generate_random_number(event=None):\n",
    "    static_text.value = np.random.randint(low=100000, high=200000)\n",
    "\n",
    "static_text = pn.widgets.StaticText(name='Periodic Random Number Generator',\n",
    "                                    value='000000')\n",
    "periodic_cb = static_text.add_periodic_callback(\n",
    "    generate_random_number, period=5000)  # period in milliseconds\n",
    "\n",
    "request_button = pn.widgets.Button(name='Request New Number')\n",
    "request_button.on_click(generate_random_number)\n",
    "\n",
    "col = pn.Column(request_button, static_text)\n",
    "col.servable()"
   ]
  },
  {
   "cell_type": "code",
   "execution_count": null,
   "metadata": {},
   "outputs": [],
   "source": [
    "periodic_cb.stop()  # finish generating random numbers automatically"
   ]
  }
 ],
 "metadata": {
  "language_info": {
   "name": "python",
   "pygments_lexer": "ipython3"
  }
 },
 "nbformat": 4,
 "nbformat_minor": 2
}
