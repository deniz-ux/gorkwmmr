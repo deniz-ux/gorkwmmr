{
 "cells": [
  {
   "cell_type": "code",
   "execution_count": null,
   "metadata": {
    "ExecuteTime": {
     "end_time": "2019-08-06T02:39:22.328125Z",
     "start_time": "2019-08-06T02:39:22.238841Z"
    }
   },
   "outputs": [],
   "source": [
    "import panel as pn\n",
    "import numpy as np\n",
    "pn.extension()"
   ]
  },
  {
   "cell_type": "markdown",
   "metadata": {},
   "source": [
    "This example creates a random number generator that periodically updates every five seconds, or with a click of a button.\n",
    "\n",
    "This demonstrates how to add a periodic callback and how to link a button to a callback."
   ]
  },
  {
   "cell_type": "code",
   "execution_count": null,
   "metadata": {
    "ExecuteTime": {
     "end_time": "2019-08-06T02:39:22.683452Z",
     "start_time": "2019-08-06T02:39:22.620218Z"
    }
   },
   "outputs": [],
   "source": [
    "def generate_random_number(event=None):\n",
    "    static_text.value = np.random.randint(low=100000, high=200000)\n",
    "\n",
    "static_text = pn.widgets.StaticText(name='Periodic Random Number Generator',\n",
    "                                    value='000000')\n",
    "static_text.add_periodic_callback(generate_random_number,\n",
    "                                  period=5000)  # period in milliseconds\n",
    "\n",
    "request_button = pn.widgets.Button(name='Request New Number')\n",
    "request_button.on_click(generate_random_number)\n",
    "\n",
    "col = pn.Column(request_button, static_text)\n",
    "col.servable()"
   ]
  }
 ],
 "metadata": {
  "kernelspec": {
   "display_name": "Python [default]",
   "language": "python",
   "name": "python3"
  },
  "language_info": {
   "codemirror_mode": {
    "name": "ipython",
    "version": 3
   },
   "file_extension": ".py",
   "mimetype": "text/x-python",
   "name": "python",
   "nbconvert_exporter": "python",
   "pygments_lexer": "ipython3",
   "version": "3.6.7"
  },
  "varInspector": {
   "cols": {
    "lenName": 16,
    "lenType": 16,
    "lenVar": 40
   },
   "kernels_config": {
    "python": {
     "delete_cmd_postfix": "",
     "delete_cmd_prefix": "del ",
     "library": "var_list.py",
     "varRefreshCmd": "print(var_dic_list())"
    },
    "r": {
     "delete_cmd_postfix": ") ",
     "delete_cmd_prefix": "rm(",
     "library": "var_list.r",
     "varRefreshCmd": "cat(var_dic_list()) "
    }
   },
   "types_to_exclude": [
    "module",
    "function",
    "builtin_function_or_method",
    "instance",
    "_Feature"
   ],
   "window_display": false
  }
 },
 "nbformat": 4,
 "nbformat_minor": 2
}
