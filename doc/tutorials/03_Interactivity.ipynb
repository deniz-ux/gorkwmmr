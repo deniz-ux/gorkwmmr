{
 "cells": [
  {
   "cell_type": "markdown",
   "id": "05e2ed65-fa51-4613-9cc1-4aae1843f275",
   "metadata": {},
   "source": [
    "<style>div.container { width: 100% }</style>\n",
    "<img style=\"float:left;  vertical-align:text-bottom;\" height=\"65\" width=\"172\" src=\"../_static/logo_stacked.png\" />\n",
    "<div style=\"float:right; vertical-align:text-bottom;\"><h2>Tutorial 3. Interactivity</h2></div>\n",
    "<br><br>"
   ]
  },
  {
   "cell_type": "code",
   "execution_count": null,
   "id": "2b059ba6-2c56-498b-a2d1-5532cb64011a",
   "metadata": {},
   "outputs": [],
   "source": [
    "import pandas as pd\n",
    "import param\n",
    "import panel as pn\n",
    "\n",
    "pn.extension('tabulator')"
   ]
  },
  {
   "cell_type": "markdown",
   "id": "34d5b9b1-33e1-4070-b327-e69c229044c9",
   "metadata": {},
   "source": [
    "## **Interactivity**: Effectively using APIs for adding interactivity and reactivity\n",
    "\n",
    "In the previous section we learned a lot about Param, which underlies not only the core architecture of Panel itself but also provides the foundation to adding interactivity to your applications. In this section we will discover how to leverage Parameters and dependencies on parameters to add interactivity. In particular we will focus on implementing interactivity through reactivity, rather than the more imperative style of programming you might be used to from other UI frameworks.\n",
    "\n",
    "By the end of this tutorial you should have learned:\n",
    "\n",
    "- How to use both declarative and imperative APIs to achieve interactivity\n",
    "- How to develop both functional and class based interactive apps"
   ]
  },
  {
   "cell_type": "markdown",
   "id": "f4ab18fa-3f81-43aa-a4de-bc10f6da3f8e",
   "metadata": {},
   "source": [
    "## Declarative vs. Imperative programming\n",
    "\n",
    "To build an interactive component in Panel we have two options, either we define callbacks that perform explicit actions, e.g. \"when this widget changes update this component\", or we declare a reactive function or method that returns a specific output given some input.\n",
    "\n",
    "Let's look at what this looks like in practice by building a simple app that allows us to select a subset of columns to display in a table.\n",
    "\n",
    "### Imperative\n",
    "\n",
    "In both cases we start by loading our data and then defining a widget that will allow us to interact with the data:"
   ]
  },
  {
   "cell_type": "code",
   "execution_count": null,
   "id": "b0cedaaa-c66d-4ea9-83de-09b8a1e4bc6c",
   "metadata": {},
   "outputs": [],
   "source": [
    "turbines = pd.read_parquet('./windturbines.parq')\n",
    "\n",
    "cols = pn.widgets.MultiChoice(\n",
    "    options=turbines.columns.to_list(), value=['p_name', 't_state', 't_county', 'p_year', 't_manu', 'p_cap'],\n",
    "    width=500, height=120, name='Columns'\n",
    ")"
   ]
  },
  {
   "cell_type": "markdown",
   "id": "d7c689bf-aaf7-4d2b-a13f-9dba22567e71",
   "metadata": {},
   "source": [
    "In the imperative approach we use `.param.watch` to set up a callback that will update the data when the widget changes:"
   ]
  },
  {
   "cell_type": "code",
   "execution_count": null,
   "id": "a75bfa12-f172-4487-9ad7-3bc7e25eec4c",
   "metadata": {},
   "outputs": [],
   "source": [
    "table = pn.widgets.Tabulator(turbines[cols.value], page_size=5)\n",
    "\n",
    "def update_data(event):\n",
    "    table.object = turbines[event.new]\n",
    "\n",
    "cols.param.watch(update_data, 'value')\n",
    "\n",
    "pn.Column(cols, table)"
   ]
  },
  {
   "cell_type": "markdown",
   "id": "e29a91c2-5fbe-4727-9021-6d5c2cd62d87",
   "metadata": {},
   "source": [
    "## Declarative\n",
    "\n",
    "The declarative approach differs in that we only have to declare what we want to display and Panel takes care of the actual mechanics of updating the table for us:"
   ]
  },
  {
   "cell_type": "code",
   "execution_count": null,
   "id": "0e706660-5d37-420b-975b-ae06dc900e05",
   "metadata": {},
   "outputs": [],
   "source": [
    "pn.Column(cols, pn.widgets.Tabulator(pn.rx(turbines)[cols], page_size=5))"
   ]
  },
  {
   "cell_type": "markdown",
   "id": "61c5c59c-2300-4465-b35a-8508dad2fb13",
   "metadata": {},
   "source": [
    "### Exercise\n",
    "\n",
    "Extend the app below by adding widgets that will let you to filter the data by year (`p_year`) and capacity (`p_cap`):\n",
    "\n",
    "<details>\n",
    "    <summary>Hint</summary>\n",
    "    <code>pn.bind</code> accepts any number of arguments.\n",
    "</details>"
   ]
  },
  {
   "cell_type": "code",
   "execution_count": null,
   "id": "44decab5-4fb5-4c4e-a26b-7124c1d677dc",
   "metadata": {},
   "outputs": [],
   "source": [
    "cols = pn.widgets.MultiChoice(\n",
    "    options=turbines.columns.to_list(), value=['p_name', 't_state', 't_county', 'p_year', 't_manu', 'p_cap'],\n",
    "    width=500, height=120, name='Columns'\n",
    ")\n",
    "\n",
    "rxdf = pn.rx(turbines)\n",
    "\n",
    "pn.Column(\n",
    "    pn.Row(cols),\n",
    "    pn.widgets.Tabulator(rxdf[cols], page_size=5, width=800)\n",
    ")"
   ]
  },
  {
   "cell_type": "markdown",
   "id": "c7d3a5e1-524a-4090-b58f-a3a3cc2194c4",
   "metadata": {},
   "source": [
    "Now briefly consider how this would look if you wrote this application using the imperative style of programming."
   ]
  },
  {
   "cell_type": "markdown",
   "id": "ce5d2d43-4057-48a1-aa74-83509b77e8da",
   "metadata": {},
   "source": [
    "## Function vs. class based\n",
    "\n",
    "The `pn.bind` API is an excellent way to quickly bind parameter values to functions and perform operations. However as soon as we want to track state or have many consumers of the output of such a dynamic function it can be hard to keep track. This is where classes come in. \n",
    "\n",
    "If you remember the [Param section](./01_Param.ipynb) a `Parameterized` class allows you to encapsulate state as parameters and those parameters can then be passed around to set up interactivity. Let's revive our `DataExplorer` class from that earlier lesson and see how we can structure a filtering application like above:"
   ]
  },
  {
   "cell_type": "code",
   "execution_count": null,
   "id": "9cf73263-18bb-4ee8-baca-05322aae474c",
   "metadata": {},
   "outputs": [],
   "source": [
    "import param\n",
    "\n",
    "from panel.viewable import Viewer\n",
    "\n",
    "class DataExplorer(Viewer):\n",
    "    \n",
    "    data = param.DataFrame(doc=\"Stores a DataFrame to explore\")\n",
    "\n",
    "    columns = param.ListSelector(default=['p_name', 't_state', 't_county', 'p_year', 't_manu', 'p_cap'])\n",
    "\n",
    "    year = param.Range(default=(1981, 2022), bounds=(1981, 2022))\n",
    "    \n",
    "    capacity = param.Range(default=(0, 1100), bounds=(0, 1100))\n",
    "    \n",
    "    def __init__(self, **params):\n",
    "        super().__init__(**params)\n",
    "        self.param.columns.objects = self.data.columns.to_list()\n",
    "    \n",
    "    def __panel__(self):\n",
    "        rxdf = self.param.data.rx()\n",
    "        year = self.param.year.rx()\n",
    "        cap = self.param.capacity.rx()\n",
    "        filtered = rxdf[\n",
    "            rxdf.p_year.between(*year) &\n",
    "            rxdf.p_cap.between(*cap)\n",
    "        ][self.param.columns]\n",
    "        return pn.Column(\n",
    "            pn.Row(\n",
    "                pn.widgets.MultiChoice.from_param(self.param.columns, width=400),\n",
    "                pn.Column(\n",
    "                    self.param.year,\n",
    "                    self.param.capacity\n",
    "                )\n",
    "            ),\n",
    "            pn.widgets.Tabulator(\n",
    "                filtered, page_size=10, pagination='remote'\n",
    "            )\n",
    "        )\n",
    "    \n",
    "DataExplorer(data=turbines)"
   ]
  },
  {
   "cell_type": "markdown",
   "id": "b9f5073f-2578-46fb-b882-8a867a3d6555",
   "metadata": {},
   "source": [
    "As you can see `param.depends` allows us to set up a method that depends on specific parameters on the class (much like `pn.bind`) and then use that method as a proxy for the filtered data. An alternative approach would be to create a parameter to store the filtered data."
   ]
  },
  {
   "cell_type": "code",
   "execution_count": null,
   "id": "cd5f3b0b-493c-4a31-bf8d-6ac486ba74f9",
   "metadata": {},
   "outputs": [],
   "source": [
    "class DataExplorer(Viewer):\n",
    "    \n",
    "    data = param.DataFrame(doc=\"Stores a DataFrame to explore\")\n",
    "\n",
    "    columns = param.ListSelector(default=['p_name', 't_state', 't_county', 'p_year', 't_manu', 'p_cap'])\n",
    "\n",
    "    year = param.Range(default=(1981, 2022), bounds=(1981, 2022))\n",
    "    \n",
    "    capacity = param.Range(default=(0, 1100), bounds=(0, 1100))\n",
    "    \n",
    "    filtered = param.DataFrame(doc=\"Stores the filtered DataFrame\")\n",
    "    \n",
    "    @param.depends('data', 'year', 'capacity', 'columns', watch=True, on_init=True)\n",
    "    def filtered_data(self):\n",
    "        self.filtered = self.data[self.data.p_year.between(*self.year) & self.data.p_cap.between(*self.capacity)][self.columns]\n",
    "\n",
    "DataExplorer(data=turbines, year=(2021, 2022), capacity=(1000, 1100)).filtered.head()"
   ]
  },
  {
   "cell_type": "markdown",
   "id": "9968abc5-1891-46f0-9e00-c3d57df8362d",
   "metadata": {},
   "source": [
    "This approach is beneficial if you have multiple consumers of this data, e.g. you generate a plot and a table both from this data."
   ]
  },
  {
   "cell_type": "markdown",
   "id": "7af47c45-739b-48e2-8d99-0919439e461d",
   "metadata": {},
   "source": [
    "### Exercise\n",
    "\n",
    "Write an app that allows filtering the DataFrame and display both a table and a plot and caches the data on an intermediate parameter. You can use any plotting library you want.\n",
    "\n",
    "<details>\n",
    "    <summary>Hint</summary>\n",
    "    <code>\n",
    "    import hvplot.pandas\n",
    "    \n",
    "    df.iloc[:10000].hvplot.points('easting', 'northing', tiles='ESRI')\n",
    "    </code>\n",
    "</details>"
   ]
  }
 ],
 "metadata": {
  "language_info": {
   "name": "python",
   "pygments_lexer": "ipython3"
  }
 },
 "nbformat": 4,
 "nbformat_minor": 5
}
