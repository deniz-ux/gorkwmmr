{
 "cells": [
  {
   "cell_type": "markdown",
   "id": "9afc801a-60d4-4e0b-babf-78e239ad2a43",
   "metadata": {},
   "source": [
    ":::{note} Tutorial 6. **Structuring Codebases**\n",
    ":icon: false\n",
    "\n",
    "#### Classes and Design Patterns\n",
    "\n",
    "Once you go beyond a simple dashboard or data app to a full fleshed application organizing your code and reasoning about state become a lot more difficult. In this section we will explore some common design patterns for structuring the code for your larger application.\n",
    "\n",
    ":::"
   ]
  },
  {
   "cell_type": "code",
   "execution_count": null,
   "id": "3d216468-17a3-4e4c-bec5-88e150fe9bf6",
   "metadata": {},
   "outputs": [],
   "source": [
    "import param\n",
    "import pandas as pd\n",
    "import panel as pn\n",
    "\n",
    "pn.extension('tabulator', 'vega', throttled=True)"
   ]
  },
  {
   "cell_type": "markdown",
   "id": "de72441f-bbf8-4af6-b1d7-73b4f70b0d1e",
   "metadata": {},
   "source": [
    "## Composing Parameterized Classes\n",
    "\n",
    "When building a complex application object-oriented programming usually suggests to build compositional classes, each with a well defined role. Let us explore one such pattern:"
   ]
  },
  {
   "cell_type": "code",
   "execution_count": null,
   "id": "cd43cd2e-6363-4f89-ace1-92376f50aab1",
   "metadata": {},
   "outputs": [],
   "source": [
    "from panel.viewable import Viewer\n",
    "\n",
    "CARD_STYLE = \"\"\"\n",
    ":host {{\n",
    "  box-shadow: rgba(50, 50, 93, 0.25) 0px 6px 12px -2px, rgba(0, 0, 0, 0.3) 0px 3px 7px -3px;\n",
    "  padding: {padding};\n",
    "}} \"\"\"\n",
    "\n",
    "class DataStore(Viewer):\n",
    "    \n",
    "    data = param.DataFrame()\n",
    "\n",
    "    filters = param.List(constant=True)\n",
    "\n",
    "    def __init__(self, **params):\n",
    "        super().__init__(**params)\n",
    "        dfx = self.param.data.rx()\n",
    "        widgets = []\n",
    "        for filt in self.filters:\n",
    "            dtype = self.data.dtypes[filt]\n",
    "            if dtype.kind == 'f':\n",
    "                widget = pn.widgets.RangeSlider(name=filt, start=dfx[filt].min(), end=dfx[filt].max())\n",
    "                condition = dfx[filt].between(*widget.rx())\n",
    "            else:\n",
    "                options = dfx[filt].unique().tolist()\n",
    "                widget = pn.widgets.MultiChoice(name=filt, options=options)\n",
    "                condition = dfx[filt].isin(widget.rx().rx.where(widget, options))\n",
    "            dfx = dfx[condition]\n",
    "            widgets.append(widget)\n",
    "        self.filtered = dfx\n",
    "        self.count = dfx.rx.len()\n",
    "        self.total_capacity = dfx.t_cap.sum()\n",
    "        self.avg_capacity = dfx.t_cap.mean()\n",
    "        self.avg_rotor_diameter = dfx.t_rd.mean()\n",
    "        self.top_manufacturers = dfx.groupby('t_manu').p_cap.sum().sort_values().iloc[-10:].index.to_list()\n",
    "        self._widgets = widgets\n",
    "    def __panel__(self):\n",
    "        return pn.Column('## Filters', *self._widgets, stylesheets=[CARD_STYLE.format(padding='5px 10px')], margin=10)\n",
    "        \n",
    "class View(Viewer):\n",
    "\n",
    "    data_store = param.ClassSelector(class_=DataStore)"
   ]
  },
  {
   "cell_type": "markdown",
   "id": "44a2445b-4653-49a1-a605-d890273759e6",
   "metadata": {},
   "source": [
    "Here we declared a `DataStore` class that will be responsible for loading some data and transforming it in various ways and a `View` class that holds a reference to the `DataStore` as a parameter. Now we can have any number of concrete `View` classes that consume data from the DataStore and render it in any number of ways:"
   ]
  },
  {
   "cell_type": "code",
   "execution_count": null,
   "id": "a5d4d9b1-fd3b-4c09-936a-4fc0517ba86f",
   "metadata": {},
   "outputs": [],
   "source": [
    "import altair as alt\n",
    "import holoviews as hv\n",
    "import hvplot.pandas\n",
    "\n",
    "class Table(View):\n",
    "    \n",
    "    columns = param.List(default=['p_name', 'p_year', 't_state', 't_county', 't_manu', 't_cap', 'p_cap'])\n",
    "\n",
    "    def __panel__(self):\n",
    "        data = self.data_store.filtered[self.param.columns]\n",
    "        return pn.widgets.Tabulator(\n",
    "            data, pagination='remote', page_size=13, stylesheets=[CARD_STYLE.format(padding='10px')],\n",
    "            margin=10,\n",
    "        )\n",
    "    \n",
    "class Histogram(View):\n",
    "\n",
    "    def __panel__(self):\n",
    "        df = self.data_store.filtered\n",
    "        df = df[df.t_manu.isin(self.data_store.top_manufacturers)]\n",
    "        fig = pn.rx(alt.Chart)((df.rx.len()>5000).rx.where(df.sample(5000), df),  title='Capacity by Manufacturer').mark_circle(size=8).encode(\n",
    "            y=\"t_manu:N\",\n",
    "            x=\"p_cap:Q\",\n",
    "            yOffset=\"jitter:Q\",\n",
    "            color=alt.Color('t_manu:N').legend(None)\n",
    "        ).transform_calculate(\n",
    "            jitter=\"sqrt(-2*log(random()))*cos(2*PI*random())\"\n",
    "        ).properties(\n",
    "            height=400,\n",
    "            width=600,\n",
    "        )\n",
    "        return pn.pane.Vega(fig, stylesheets=[CARD_STYLE.format(padding='0')], margin=10)\n",
    "    \n",
    "class Indicators(View):\n",
    "    \n",
    "    def __panel__(self):\n",
    "        style = {'stylesheets': [CARD_STYLE.format(padding='10px')]}\n",
    "        return pn.FlexBox(\n",
    "            pn.indicators.Number(\n",
    "                value=self.data_store.total_capacity / 1e6, name='Total Capacity (TW)', format='{value:,.2f}', **style\n",
    "            ),\n",
    "            pn.indicators.Number(\n",
    "                value=self.data_store.count, name='Count', format='{value:,.0f}', **style\n",
    "            ),\n",
    "            pn.indicators.Number(\n",
    "                value=self.data_store.avg_capacity , name='Avg. Capacity (kW)', format='{value:,.2f}', **style\n",
    "            ),\n",
    "            pn.indicators.Number(\n",
    "                value=self.data_store.avg_rotor_diameter, name='Avg. Rotor Diameter (m)', format='{value:,.2f}', **style\n",
    "            ),\n",
    "            pn.indicators.Number(\n",
    "                value=self.data_store.avg_rotor_diameter, name='Avg. Rotor Diameter (m)', format='{value:,.2f}', **style\n",
    "            ),\n",
    "            \n",
    "        )"
   ]
  },
  {
   "cell_type": "markdown",
   "id": "565d7dcc-37ed-470d-9d80-e9b075571c52",
   "metadata": {},
   "source": [
    "Lastly we can create an `App` class that coordinates the creation of the `View` components and lays them out on the page."
   ]
  },
  {
   "cell_type": "code",
   "execution_count": null,
   "id": "e721e57b-bbd5-4c56-8f8c-d7328fd0c1f0",
   "metadata": {},
   "outputs": [],
   "source": [
    "class App(Viewer):\n",
    "    \n",
    "    data_store = param.ClassSelector(class_=DataStore)\n",
    "    \n",
    "    title = param.String()\n",
    "    \n",
    "    views = param.List()\n",
    "    \n",
    "    def __init__(self, **params):\n",
    "        super().__init__(**params)\n",
    "        self._views = pn.FlexBox(*(view(data_store=self.data_store) for view in self.views))\n",
    "        self._template = pn.template.MaterialTemplate(title=self.title)\n",
    "        self._template.sidebar.append(self.data_store)\n",
    "        self._template.main.append(self._views)\n",
    "        \n",
    "    def servable(self):\n",
    "        if pn.state.served:\n",
    "            return self._template.servable()\n",
    "        return self\n",
    "        \n",
    "    def __panel__(self):\n",
    "        return pn.Row(self.data_store, self._views)"
   ]
  },
  {
   "cell_type": "markdown",
   "id": "d28118c7-9168-4006-8d42-06a3c6ef1da5",
   "metadata": {},
   "source": [
    "Now let's see what we have build:"
   ]
  },
  {
   "cell_type": "code",
   "execution_count": null,
   "id": "74d6a42a-5b93-41c2-b005-e876f5aa3565",
   "metadata": {},
   "outputs": [],
   "source": [
    "ds = DataStore(data=pd.read_parquet('./windturbines.parq'), filters=['p_year', 'p_cap', 't_manu'])\n",
    "\n",
    "app = App(data_store=ds, views=[Indicators, Histogram, Table], title='Windturbine Explorer')\n",
    "\n",
    "app.servable()"
   ]
  }
 ],
 "metadata": {
  "language_info": {
   "name": "python",
   "pygments_lexer": "ipython3"
  }
 },
 "nbformat": 4,
 "nbformat_minor": 5
}
