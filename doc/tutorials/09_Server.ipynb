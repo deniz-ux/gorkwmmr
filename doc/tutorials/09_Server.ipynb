{
 "cells": [
  {
   "cell_type": "markdown",
   "id": "ab6a4f77-5da1-4d33-ba30-d87d9f5492e1",
   "metadata": {},
   "source": [
    ":::{note} Tutorial 9. **Server**\n",
    ":icon: false\n",
    "\n",
    "#### Effectively working with the server\n",
    "\n",
    "The Panel server can be launched either from the commandline (using `panel serve`) or programmatically (using `panel.serve()`). In this guide we will discover how to run and configure server instances using these two options.\n",
    "\n",
    ":::"
   ]
  },
  {
   "cell_type": "code",
   "execution_count": null,
   "id": "fc40ca46-818e-47a2-985a-1662c96a1620",
   "metadata": {},
   "outputs": [],
   "source": [
    "import panel as pn\n",
    "\n",
    "pn.extension()"
   ]
  },
  {
   "cell_type": "code",
   "execution_count": null,
   "id": "eea45544-793e-4109-8d19-020fb3a8a6b9",
   "metadata": {},
   "outputs": [],
   "source": [
    "panel serve app.py"
   ]
  },
  {
   "cell_type": "code",
   "execution_count": null,
   "id": "eff37db1-7344-4844-b562-6a5e382e1ef5",
   "metadata": {},
   "outputs": [],
   "source": [
    "pn.serve({'/': '})"
   ]
  },
  {
   "cell_type": "code",
   "execution_count": null,
   "id": "31db375a-62ad-44bc-883e-397d7204b54c",
   "metadata": {},
   "outputs": [],
   "source": [
    "md = pn.pane.Markdown('ABC')\n",
    "md"
   ]
  },
  {
   "cell_type": "code",
   "execution_count": null,
   "id": "10ab355d-1799-4757-bb61-67c646054e14",
   "metadata": {},
   "outputs": [],
   "source": [
    "md._models"
   ]
  },
  {
   "cell_type": "code",
   "execution_count": null,
   "id": "4bd3462e-baba-406d-b40c-7c491e5d349a",
   "metadata": {},
   "outputs": [],
   "source": [
    "1. Browser makes request -> Server creates a session (and executes app.py) and serves the template\n",
    "2. When browser renders the HTML page includes JS that opens Websocket connection\n",
    "3. Server receives WS open request -> sends Document JSON representation across Websocket\n",
    "4. Rendered\n",
    "\n",
    "5. pn.state.on_session_destroyed(...)\n",
    "\n",
    "\n",
    "\n",
    "class A():\n",
    "    pass\n",
    "\n",
    "pn.state.cache[pn.state.curdoc] = A"
   ]
  },
  {
   "cell_type": "code",
   "execution_count": null,
   "id": "327299cc-a75b-4959-a9a4-d0d49e88ec2b",
   "metadata": {},
   "outputs": [],
   "source": [
    "--setup \n",
    "pn.state.on_session_create()\n",
    "pn.state.schedule_task()\n",
    "pn.state.on_session_destroyed()"
   ]
  },
  {
   "cell_type": "markdown",
   "id": "0932e6b4-07d3-45e2-9097-48941ef09bb4",
   "metadata": {},
   "source": [
    "## Bokeh Server & Sessions\n",
    "\n",
    "The Bokeh server is built on Tornado, which handles all of the communication between the browser and the backend. Whenever a user accesses the app or dashboard in a browser a new session is created which executes the app code and creates a new ``Document`` containing the models served to the browser where they are rendered by BokehJS.\n",
    "\n",
    "<div style=\"margin-left: auto; margin-right: auto; display: block\">\n",
    "<img src=\"https://bokeh.pydata.org/en/latest/_images/bokeh_serve.svg\"></img>\n",
    "</div>\n",
    "\n",
    "Each server can serve multiple sessions and Panel will make the current session state available to your application via the `pn.state` object. When the application is first run or when a callback runs in the context of a session the `pn.state.curdoc` object will reflect the current Bokeh `Document`:"
   ]
  },
  {
   "cell_type": "code",
   "execution_count": null,
   "id": "d415dabd-c1be-4ab7-9f68-3bd502ca1fda",
   "metadata": {},
   "outputs": [],
   "source": [
    "pn.state.cache"
   ]
  },
  {
   "cell_type": "code",
   "execution_count": null,
   "id": "73abed3f-b0dd-43c9-a713-c283e124aee0",
   "metadata": {},
   "outputs": [],
   "source": [
    "pn.state"
   ]
  },
  {
   "cell_type": "code",
   "execution_count": null,
   "id": "342021d5-346c-497e-ba05-f062fbee1952",
   "metadata": {},
   "outputs": [],
   "source": [
    "def app():\n",
    "    # pn.state\n",
    "    pn.state.cache\n",
    "\n",
    "    # pn.session_state\n",
    "    pn.state.location\n",
    "    pn.state.curdoc\n",
    "    pn.state.user\n",
    "\n",
    "    \n",
    "    \n",
    "    return pn.widgets.FloatSlider()"
   ]
  },
  {
   "cell_type": "code",
   "execution_count": null,
   "id": "1d3f98ef-9571-4e1d-8978-c8789c41a690",
   "metadata": {},
   "outputs": [],
   "source": [
    "pn.serve({'/main': app})"
   ]
  },
  {
   "cell_type": "code",
   "execution_count": null,
   "id": "f59fc6e8-3846-45e3-ae69-9fd3f5f40cc7",
   "metadata": {},
   "outputs": [],
   "source": [
    "panel serve panel.py --num-threads 4"
   ]
  },
  {
   "cell_type": "code",
   "execution_count": null,
   "id": "30e27dbe-30a5-42c8-a984-6febb1b18cad",
   "metadata": {},
   "outputs": [],
   "source": [
    "pn.config.nthreads = 4"
   ]
  },
  {
   "cell_type": "code",
   "execution_count": null,
   "id": "6eab933b-101c-416e-a8f2-de310e66fc31",
   "metadata": {},
   "outputs": [],
   "source": [
    "slider = pn.widgets.FloatSlider()\n",
    "\n",
    "async def cb(event):\n",
    "    \n",
    "    \n",
    "slider.param.watch(cb, 'value')\n",
    "\n",
    "slider"
   ]
  },
  {
   "cell_type": "code",
   "execution_count": null,
   "id": "8a555a20-88ae-4db7-9b5b-fdf0eb6d8e61",
   "metadata": {},
   "outputs": [],
   "source": [
    "docs[0]"
   ]
  },
  {
   "cell_type": "code",
   "execution_count": null,
   "id": "e89db47e-1a35-4320-9991-30e9efe54e1c",
   "metadata": {},
   "outputs": [],
   "source": [
    "pn.state.curdoc"
   ]
  },
  {
   "cell_type": "markdown",
   "id": "72e1e7f2-e9bb-4ebb-99db-66e2d9cbba07",
   "metadata": {},
   "source": [
    "## Commandline"
   ]
  },
  {
   "cell_type": "markdown",
   "id": "0c8c750f-4b32-40a3-8cad-d979fca33fe0",
   "metadata": {},
   "source": [
    "Once the app is ready for deployment it can be served using the Bokeh server.  For a detailed breakdown of the design and functionality of Bokeh server, see the [Bokeh documentation](https://bokeh.pydata.org/en/latest/docs/user_guide/server.html). The most important thing to know is that Panel (and Bokeh) provide a CLI command to serve a Python script, app directory, or Jupyter notebook containing a Bokeh or Panel app. To launch a server using the CLI, simply run:\n",
    "\n",
    "    panel serve app.ipynb\n",
    "\n",
    "Alternatively you can also list multiple apps:\n",
    "\n",
    "    panel serve app1.py app2.ipynb\n",
    "\n",
    "or even serve a number of apps at once:\n",
    "\n",
    "    panel serve apps/*.py\n",
    "\n",
    "For development it can be particularly helpful to use the ``--autoreload`` option to `panel serve` as that will automatically reload the page whenever the application code or any of its imports change.\n"
   ]
  },
  {
   "cell_type": "markdown",
   "id": "ca0ae3e2-5f30-4d65-93c0-bc21180f5e06",
   "metadata": {},
   "source": [
    "# Launching a server dynamically\n",
    "\n",
    "The CLI `panel serve` command described below is usually the best approach for deploying applications. However when working on the REPL or embedding a Panel/Bokeh server in another application it is sometimes useful to dynamically launch a server, either using the `.show` method or using the `pn.serve` function."
   ]
  },
  {
   "cell_type": "markdown",
   "id": "c4f95246-ab6a-4aeb-ac95-fc2a60b8a301",
   "metadata": {},
   "source": [
    "## `pn.state`\n",
    "\n",
    "The `pn.state` object makes a whole range of session information available to your application."
   ]
  },
  {
   "cell_type": "markdown",
   "id": "24f72494-f4da-40c9-8115-cdbf472a3404",
   "metadata": {},
   "source": [
    ":::{note} Attributes\n",
    ":class: dropdown\n",
    "\n",
    "`access_token`\n",
    ": The access token issued by the OAuth provider to authorize requests to its APIs.\n",
    "\n",
    "`busy`\n",
    ": A boolean value to indicate whether a callback is being actively processed.\n",
    "\n",
    "`cache`\n",
    ": A global cache which can be used to share data between different processes.\n",
    "\n",
    "`cookies`\n",
    ": HTTP request cookies for the current session.\n",
    "\n",
    "`curdoc`\n",
    ": When running a server session this property holds the current bokeh Document.\n",
    "\n",
    "`location`\n",
    ": In a server context this provides read and write access to the URL:\n",
    "   * `hash`: hash in window.location e.g. '#interact'\n",
    "   * `pathname`: pathname in window.location e.g. '/user_guide/Interact.html'\n",
    "   * `search`: search in window.location e.g. '?color=blue'\n",
    "   * `reload`: Reloads the page when the location is updated.\n",
    "   * `href` (readonly): The full url, e.g. 'https://localhost:80?color=blue#interact'\n",
    "   * `hostname` (readonly): hostname in window.location e.g. 'panel.holoviz.org'\n",
    "   * `protocol` (readonly): protocol in window.location e.g. 'http:' or 'https:'\n",
    "   * `port` (readonly): port in window.location e.g. '80'\n",
    "\n",
    "`headers`\n",
    ": HTTP request headers for the current session.\n",
    "\n",
    "`refresh_token`\n",
    ": The refresh token issued by the OAuth provider to authorize requests to its APIs (if available these are usually longer lived than the `access_token`).\n",
    "\n",
    "`served`\n",
    ":Whether we are currently inside a script or notebook that is being served using `panel serve`.\n",
    "\n",
    "`session_args`\n",
    ": When running a server session this return the request arguments.\n",
    "\n",
    "`session_info`\n",
    ": A dictionary tracking information about server sessions:\n",
    "   * `total` (int): The total number of sessions that have been opened\n",
    "   * `live` (int): The current number of live sessions\n",
    "   * `sessions` (dict(str, dict)): A dictionary of session information:\n",
    "       * `started`: Timestamp when the session was started\n",
    "       * `rendered`: Timestamp when the session was rendered\n",
    "       * `ended`: Timestamp when the session was ended\n",
    "       * `user_agent`: User-Agent header of client that opened the session\n",
    "\n",
    "`webdriver`\n",
    ": Caches the current webdriver to speed up export of bokeh models to PNGs.\n",
    ":::\n",
    "\n",
    ":::{note} Methods\n",
    ":class: dropdown\n",
    "\n",
    "`add_periodic_callback`\n",
    ": Schedules a periodic callback to be run at an interval set by the period\n",
    "\n",
    "`as_cached`\n",
    ": Allows caching data across sessions by memoizing on the provided key and keyword arguments to the provided function.\n",
    "\n",
    "`cancel_scheduled`\n",
    ": Cancel a scheduled task by name.\n",
    "\n",
    "`execute`\n",
    ": Executes both synchronous and asynchronous callbacks appropriately depending on the context the application is running in.\n",
    "\n",
    "`kill_all_servers`\n",
    ": Stops all running server sessions.\n",
    "\n",
    "`onload`\n",
    ": Allows defining a callback which is run when a server is fully loaded\n",
    "\n",
    "`schedule`\n",
    ": Schedule a callback periodically at a specific time (click [here](../how_to/callbacks/schedule.md) for more details)\n",
    "\n",
    "`sync_busy`\n",
    ": Sync an indicator with a boolean value parameter to the busy property on state\n",
    "\n",
    ":::"
   ]
  },
  {
   "cell_type": "markdown",
   "id": "2ec0b354-a879-49a0-9782-1ca3ba48eb70",
   "metadata": {},
   "source": [
    "## Serving static files\n",
    "\n",
    "Whether you're launching your application using `panel serve` from the commandline or using `pn.serve` in a script you can also serve static files. When using `panel serve` you can use the `--static-dirs` argument to specify a list of static directories to serve along with their routes, e.g.:\n",
    "\n",
    "    panel serve some_script.py --static-dirs assets=./assets\n",
    "\n",
    "This will serve the `./assets` directory on the servers `/assets` route. Note however that the `/static` route is reserved internally by Panel.\n",
    "\n",
    "Similarly when using `pn.serve` or `panel_obj.show` the static routes may be defined as a dictionary, e.g. the equivalent to the example would be:\n",
    "\n",
    "    pn.serve(panel_obj, static_dirs={'assets': './assets'})\n"
   ]
  },
  {
   "cell_type": "markdown",
   "id": "cf62e273-6487-46d2-8ce7-0f450fed1071",
   "metadata": {},
   "source": [
    "## Session callbacks\n",
    "\n",
    "Whenever a request is made to an endpoint that is serving a Panel application a new session is created. If you have to perform some setup or tear down tasks on session creation (e.g. logging) you can define `on_session_created` and `on_session_destroyed` callbacks.\n"
   ]
  },
  {
   "cell_type": "markdown",
   "id": "4bdd129f-9b97-4026-9165-cc2fd663a5dc",
   "metadata": {},
   "source": [
    "## Periodic callbacks\n",
    "\n",
    "Periodic callbacks allow periodically updating your application with new data. Below we will create a simple Bokeh plot and display it with Panel:\n"
   ]
  },
  {
   "cell_type": "code",
   "execution_count": null,
   "id": "6e2e4812-3c96-485f-8169-db0f028e5281",
   "metadata": {},
   "outputs": [],
   "source": [
    "import numpy as np\n",
    "import panel as pn\n",
    "\n",
    "from bokeh.models import ColumnDataSource\n",
    "from bokeh.plotting import figure\n",
    "\n",
    "\n",
    "source = ColumnDataSource({\"x\": np.arange(10), \"y\": np.arange(10)})\n",
    "p = figure()\n",
    "p.line(x=\"x\", y=\"y\", source=source)\n",
    "\n",
    "bokeh_pane = pn.pane.Bokeh(p)\n",
    "bokeh_pane.servable()"
   ]
  },
  {
   "cell_type": "markdown",
   "id": "647c7d78-d58f-4ece-98cd-e9fe2846da39",
   "metadata": {},
   "source": [
    "Now we will define a callback that updates the data on the `ColumnDataSource` and use the `pn.state.add_periodic_callback` method to schedule updates every 200 ms. We will also set a timeout of 5 seconds after which the callback will automatically stop.\n",
    "\n",
    "```{warning}\n",
    "The dynamic callbacks may not function properly in the online documentation. Please use them in a notebook or script.\n",
    "```"
   ]
  },
  {
   "cell_type": "code",
   "execution_count": null,
   "id": "149b923a-1656-4f8c-bbe4-7d8e0905ffe6",
   "metadata": {},
   "outputs": [],
   "source": [
    "def update():\n",
    "    data = np.random.randint(0, 2 ** 31, 10)\n",
    "    source.data.update({\"y\": data})\n",
    "    bokeh_pane.param.trigger('object') # Only needed in notebook\n",
    "\n",
    "cb = pn.state.add_periodic_callback(update, 200, timeout=5000)"
   ]
  },
  {
   "cell_type": "markdown",
   "id": "3666d84f-ad8c-44db-bb0d-f61fe4693bd9",
   "metadata": {},
   "source": [
    "In a notebook or bokeh server context we should now see the plot update periodically. The other nice thing about this is that `pn.state.add_periodic_callback` returns `PeriodicCallback` we can call `.stop()` and `.start()` on if we want to stop or pause the periodic execution. Additionally we can also dynamically adjust the period by setting the `timeout` parameter to speed up or slow down the callback."
   ]
  },
  {
   "cell_type": "markdown",
   "id": "542340e0-c13b-4242-8ae5-e7d026593c4f",
   "metadata": {},
   "source": [
    "## Scheduling Tasks\n",
    "\n",
    "The `pn.state.schedule_task` functionality allows scheduling global tasks at certain times or on a specific schedule. Global tasks are useful for performing periodic actions like updating cached data, performing cleanup actions or other housekeeping tasks, while periodic callbacks should be reserved for making periodic updates to an application.\n",
    "\n",
    "The different contexts in which global tasks and periodic callbacks run also has implications on how they should be scheduled. Scheduled task **must not** be declared in the application code itself, i.e. if you are serving `panel serve app.py` the callback you are scheduling must not be declared in the `app.py`. It must be defined in an external module or in a separate script declared as part of the `panel serve` invocation using the `--setup` commandline argument.\n",
    "\n",
    "Scheduling using `pn.state.schedule_task` is idempotent, i.e. if a callback has already been scheduled under the same name subsequent calls will have no effect. By default the starting time is immediate but may be overridden with the `at` keyword argument. The period may be declared using the `period` argument or a cron expression (which requires the `croniter` library). Note that the `at` time should be in local time but if a callable is provided it must return a UTC time. If `croniter` is installed a `cron` expression can be provided using the `cron` argument.\n",
    "\n",
    "Here is a simple example of a task scheduled at a fixed interval:\n"
   ]
  },
  {
   "cell_type": "code",
   "execution_count": null,
   "id": "306bd380-9214-4a58-abe4-458b347894ad",
   "metadata": {},
   "outputs": [],
   "source": [
    "import panel as pn\n",
    "import datetime as dt\n",
    "import asyncio\n",
    "\n",
    "async def task():\n",
    "    print(f'Task executed at: {dt.datetime.now()}')\n",
    "\n",
    "pn.state.schedule_task('task', task, period='1s')\n",
    "await asyncio.sleep(3)\n",
    "\n",
    "pn.state.cancel_task('task')"
   ]
  }
 ],
 "metadata": {
  "language_info": {
   "name": "python",
   "pygments_lexer": "ipython3"
  }
 },
 "nbformat": 4,
 "nbformat_minor": 5
}
