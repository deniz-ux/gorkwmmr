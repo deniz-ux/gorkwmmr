{
 "cells": [
  {
   "cell_type": "markdown",
   "id": "b864ae9c-66ef-45a6-aba3-51401d1c3c44",
   "metadata": {},
   "source": [
    "<style>div.container { width: 100% }</style>\n",
    "<img style=\"float:left;  vertical-align:text-bottom;\" height=\"65\" width=\"172\" src=\"../_static/logo_stacked.png\" />\n",
    "<div style=\"float:right; vertical-align:text-bottom;\"><h2>Tutorial 8. Multi-page app</h2></div>\n",
    "<br><br>"
   ]
  },
  {
   "cell_type": "code",
   "execution_count": null,
   "id": "441836cf-d6fb-441b-9987-87dcc9652b4f",
   "metadata": {
    "tags": []
   },
   "outputs": [],
   "source": [
    "import panel as pn\n",
    "\n",
    "pn.extension()"
   ]
  },
  {
   "cell_type": "markdown",
   "id": "84251ccc-395c-4c5c-95e4-47c966745f93",
   "metadata": {},
   "source": [
    "# Multi-page app"
   ]
  },
  {
   "cell_type": "markdown",
   "id": "1470097b-e225-431a-ada2-b028c68d8abe",
   "metadata": {},
   "source": [
    "More often that not you will want to serve more than a simple app, either because your app grew in complexity or because you already had some big ideas in mind! Multi-page apps can be defined in two ways that look similar but are actually quite different:\n",
    "\n",
    "1. serving *multiple apps*\n",
    "2. serving one app with *multiple \"pages\"*"
   ]
  },
  {
   "cell_type": "markdown",
   "id": "5988954b-5afa-453e-b7dd-8fb3d5eb2ecf",
   "metadata": {},
   "source": [
    "We will explore these options, the first one being straightforward and the second one a little more involved but with simple approaches available."
   ]
  },
  {
   "cell_type": "markdown",
   "id": "ee270da4-6f94-4241-8bde-62701c40fb2b",
   "metadata": {},
   "source": [
    "## Multiple apps"
   ]
  },
  {
   "cell_type": "markdown",
   "id": "527495f1-0270-44b3-89fe-85be178659e5",
   "metadata": {},
   "source": [
    "Panel can easily serve multiple apps (i.e. files) with `panel serve file1.py file2.py file3.py ...`. Each app will be served on its own endpoint, you will be able to visit them at an URL ending with `/file1.py`, `/file3.py`, `/file3.py`, etc. In this case the landing page will be a built-in index page with each app having its own card."
   ]
  },
  {
   "cell_type": "markdown",
   "id": "11a23477-0c70-479e-85d1-8cd56246b8d9",
   "metadata": {},
   "source": [
    "You can define the app that is going to be the landing page with the `--index` flag, with for instance `panel serve home.py app.py --index home.py`. You may want to dynamically redirect your users to another served app, which you can do manipulating `pn.state.location` as in the example below. Alternatively you could render an HTML pane with a links to your other apps, e.g. `pn.pane.HTML('<a href=\"/app\">Visit app</a>')`."
   ]
  },
  {
   "cell_type": "markdown",
   "id": "fa484b0a-dbf1-40f3-8bfe-60ed9a65ad41",
   "metadata": {},
   "source": [
    "```python\n",
    "# home.py\n",
    "import panel as pn\n",
    "\n",
    "def redirect(_):\n",
    "    pn.state.location.pathname = '/app'\n",
    "    pn.state.location.reload = True\n",
    "\n",
    "button = pn.widgets.Button(name='Visit app')\n",
    "button.on_click(redirect)\n",
    "\n",
    "pn.Column(\n",
    "    '# Landing page',\n",
    "    button,\n",
    ").servable()\n",
    "```"
   ]
  },
  {
   "cell_type": "markdown",
   "id": "862018df-a4dc-4526-b82d-287cc1fa8286",
   "metadata": {},
   "source": [
    "## One app with multiple \"pages\""
   ]
  },
  {
   "cell_type": "markdown",
   "id": "fabd8241-07dc-4fa0-a0aa-cdf9a4c936e7",
   "metadata": {},
   "source": [
    "While the *multiple apps* option introduced above is pretty straightforward, it doesn't make it very easy to update one app from another, it's actually pretty hard. When you serve a single app, managing its state and interactivity is a lot easier. So we will see how you can turn one app in an app that behaves like a multi-page app."
   ]
  },
  {
   "cell_type": "markdown",
   "id": "a8011541-e7b1-4d7e-9b40-6edd4b117b47",
   "metadata": {},
   "source": [
    "### Tabs"
   ]
  },
  {
   "cell_type": "markdown",
   "id": "6ac5ae22-c229-4e82-92c3-8f9e0acadb95",
   "metadata": {},
   "source": [
    "Using the `Tabs` layout to reproduce the behavior of a multipage app is the simplest option available, at the expense of a user interface that might not be quite what we were looking for. Even if you will not end up with this solution, it's the good way to to get a working prototype."
   ]
  },
  {
   "cell_type": "markdown",
   "id": "61f57f9d-8531-4cf4-b54c-948292456f2a",
   "metadata": {},
   "source": [
    "Try the app below and check that updating the slider on the *Advanced* page correctly updates the result."
   ]
  },
  {
   "cell_type": "code",
   "execution_count": null,
   "id": "38c1b970-8571-4f5a-bf21-464f9d5ad43b",
   "metadata": {
    "tags": []
   },
   "outputs": [],
   "source": [
    "w_a = pn.widgets.FloatSlider(name='a')\n",
    "w_b = pn.widgets.FloatSlider(name='b', value=1)\n",
    "w_c = pn.widgets.FloatSlider(name='c', value=0.5)\n",
    "\n",
    "\n",
    "def dummy_algo(a, b, c):\n",
    "    return round((a*10 + b)**c, 2)\n",
    "\n",
    "main = pn.Column(\n",
    "    '### Algorithm', 'Go to the next page to find more advanced options',\n",
    "    w_a, w_b,\n",
    "    'Result:', pn.bind(dummy_algo, w_a, w_b, w_c)\n",
    ")   \n",
    "advanced = pn.Column('These are the advanced options:', w_c)\n",
    "\n",
    "\n",
    "pn.Tabs(('Main', main), ('Advanced', advanced))"
   ]
  },
  {
   "cell_type": "markdown",
   "id": "2d143f5a-39be-4e27-b258-22809ee3f6f3",
   "metadata": {},
   "source": [
    "### Swapping content"
   ]
  },
  {
   "cell_type": "markdown",
   "id": "cc3cfda1-5d27-446a-b9c3-f5bee20baac2",
   "metadata": {},
   "source": [
    "The second approach we will see consists of controlling the content of a layout from a widget, updating the content depending on the value of the widget. In the example below, we create such a widget and a placeholder layout, together with a callback watching the widget value and updating the content of the placeholder. We finally put together the app in a `Row`."
   ]
  },
  {
   "cell_type": "code",
   "execution_count": null,
   "id": "2746d28b-8d55-4b9a-be29-7daba75a1f38",
   "metadata": {
    "tags": []
   },
   "outputs": [],
   "source": [
    "w_control = pn.widgets.RadioBoxGroup(options=['Main', 'Advanced'])\n",
    "placeholder = pn.Column(main)\n",
    "\n",
    "@pn.depends(w_control, watch=True)\n",
    "def swap(control):\n",
    "    if control == 'Main':\n",
    "        placeholder[:] = [main]\n",
    "    elif control == 'Advanced':\n",
    "        placeholder[:] = [advanced]\n",
    "\n",
    "side = pn.Column('Pages:', w_control)\n",
    "pn.Row(side, placeholder, min_height=300)"
   ]
  },
  {
   "cell_type": "markdown",
   "id": "30abdc03-8643-4630-b1ce-6822c9c9c8ba",
   "metadata": {},
   "source": [
    "We can easily make this app prettier by wrapping it in a template. Use the *Preview* functionality to display the app."
   ]
  },
  {
   "cell_type": "code",
   "execution_count": null,
   "id": "3ecd0d86-c2a4-4730-a0cd-d2ea81e9a672",
   "metadata": {
    "tags": []
   },
   "outputs": [],
   "source": [
    "pn.template.BootstrapTemplate(\n",
    "    title='Multi page',\n",
    "    sidebar=[side],\n",
    "    main=[placeholder]\n",
    ").servable();"
   ]
  },
  {
   "cell_type": "markdown",
   "id": "7dc4c445-c9be-487b-8323-19856b2d312a",
   "metadata": {},
   "source": [
    "To get closer to the kind of multipage app you are used to, you can sync the control widget with a URL query parameter, allowing your users to visit and bookmark a particular \"page\". The code you will need to do that is simply `pn.state.location.sync(w_control, {'value': 'page'})`, you will be introduced in more details about deep linking in one of the next guides."
   ]
  }
 ],
 "metadata": {
  "language_info": {
   "name": "python",
   "pygments_lexer": "ipython3"
  }
 },
 "nbformat": 4,
 "nbformat_minor": 5
}
