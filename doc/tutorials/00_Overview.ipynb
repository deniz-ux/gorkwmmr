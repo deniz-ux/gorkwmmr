{
 "cells": [
  {
   "cell_type": "markdown",
   "id": "dfecf479-cd26-465f-90e5-28b4c950e964",
   "metadata": {},
   "source": [
    ":::{note} Tutorial 0. **Overview and Setup**\n",
    ":icon: false\n",
    "\n",
    "```{image} assets/logo_stacked.png\n",
    ":height: 200px\n",
    "```\n",
    "\n",
    "### Welcome to Panel!\n",
    "\n",
    "Panel is an open-source Python library that lets you **easily build powerful tools, dashboards and complex applications entirely in Python**.\n",
    "\n",
    "Panel makes it simple to:\n",
    "\n",
    "- Develop in your favorite **editor or notebook** environment\n",
    "- Combine the **PyData tools and plotting libraries** that you know and love\n",
    "- **Iterate quickly** to develop data tools, dashboards and complex apps\n",
    "- **Collaborate** across skill levels and tool preferences\n",
    "- Add **advanced bi-directional communication** to your data apps\n",
    "- Create interactive **big data** applications with **crossfiltering**\n",
    "- Create **high performing**, **streaming** data applications\n",
    "- Create data apps that **can run entirely in the browser**\n",
    "- Create **polished, performant, secure and production-ready web applications**\n",
    "\n",
    "This tutorial aims to get you to be proficient at using Panel using a set of hands-on notebooks which include exercises.\n",
    "\n",
    ":::"
   ]
  },
  {
   "cell_type": "markdown",
   "id": "8ae8526e-c1da-4789-85cd-da8201be8d53",
   "metadata": {},
   "source": [
    "## Sections\n",
    "\n",
    "01. [**Param**: Basics for Panel](01_Param.ipynb)\n",
    "02. [**Components**: Core Components](02_Components.ipynb)\n",
    "03. [**Interactivity**: Effectively using APIs for adding interactivity and reactivity](03_Interactivity.ipynb)\n",
    "04. [**Efficient Development**: Debugging and effective development in VSCode and JupyterLab](04_Development.ipynb)\n",
    "05. [**Layouts**: Achieving responsive layouts](05_Layouts.ipynb)\n",
    "06. [**Structuring your application code**: Classes & Design Patterns](06_Structuring_Code.ipynb)\n",
    "07. [**Styling**: How to leverage designs, stylesheets and CSS](07_Styling.ipynb)\n",
    "08. [**Scaling**: Async, threading, profiling and caching](08_Scalability.ipynb)\n",
    "09. [**Server**: Effectively working with the server](09_Server.ipynb)\n",
    "10. [**Multi-page Apps**: Different approaches for designing multi-page applications](10_MultiPage.ipynb)\n",
    "11. [**Deep Linking**: Adding deep links and persistent sessions](11_Deep_Linking.ipynb)"
   ]
  },
  {
   "cell_type": "markdown",
   "id": "58746942-ca1b-49f1-bbda-78f98cd5fcb4",
   "metadata": {},
   "source": [
    "## Setup\n",
    "\n",
    "Throughout this tutorial we will be working with the Windturbines dataset, a database of all Windturbines in the United States. Let us fetch it before we get started:"
   ]
  },
  {
   "cell_type": "code",
   "execution_count": null,
   "id": "241fcd90-b039-4e66-8df6-38c191c4051a",
   "metadata": {},
   "outputs": [],
   "source": [
    "import pandas as pd\n",
    "\n",
    "df = pd.read_parquet('https://datasets.holoviz.org/windturbines/v1/windturbines.parq')\n",
    "\n",
    "df.to_parquet('./windturbines.parq', index=None)"
   ]
  }
 ],
 "metadata": {
  "language_info": {
   "name": "python",
   "pygments_lexer": "ipython3"
  }
 },
 "nbformat": 4,
 "nbformat_minor": 5
}
