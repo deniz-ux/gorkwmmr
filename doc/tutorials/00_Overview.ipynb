{
 "cells": [
  {
   "cell_type": "markdown",
   "id": "d7d7fe63-35ea-439e-b7ad-80e8846c4269",
   "metadata": {},
   "source": [
    "<style>div.container { width: 100% }</style>\n",
    "<img style=\"float:left;  vertical-align:text-bottom;\" height=\"65\" width=\"172\" src=\"../_static/logo_stacked.png\" />\n",
    "<div style=\"float:right; vertical-align:text-bottom;\"><h2>Tutorial 0. Overview</h2></div>\n",
    "<br><br>\n"
   ]
  },
  {
   "cell_type": "markdown",
   "id": "8ae8526e-c1da-4789-85cd-da8201be8d53",
   "metadata": {},
   "source": [
    "# Welcome to Panel!\n",
    "\n",
    "Panel is an open-source Python library that lets you **easily build powerful tools, dashboards and complex applications entirely in Python**.\n",
    "\n",
    "Panel makes it simple to:\n",
    "\n",
    "- Develop in your favorite **editor or notebook** environment\n",
    "- Combine the **PyData tools and plotting libraries** that you know and love\n",
    "- **Iterate quickly** to develop data tools, dashboards and complex apps\n",
    "- **Collaborate** across skill levels and tool preferences\n",
    "- Add **advanced bi-directional communication** to your data apps\n",
    "- Create interactive **big data** applications with **crossfiltering**\n",
    "- Create **high performing**, **streaming** data applications\n",
    "- Create data apps that **can run entirely in the browser**\n",
    "- Create **polished, performant, secure and production-ready web applications**\n",
    "\n",
    "This tutorial aims to get you to be proficient at using Panel using a set of hands-on notebooks which include exercises.\n",
    "\n",
    "## Sections\n",
    "\n",
    "01. [**Param**: Basics for Panel](01_Param.ipynb)\n",
    "02. **Components**: Core Components\n",
    "03. **Interactivity**: Effectively using APIs for adding interactivity and reactivity\n",
    "04. **Efficient Development**: Debugging and effective development in VSCode and JupyterLab\n",
    "05. [**Layouts**: Achieving responsive layouts](05_Layouts.ipynb)\n",
    "06. **Structuring your application code**: Classes & Design Patterns\n",
    "07. **Styling**: How to leverage designs, stylesheets and CSS\n",
    "08. **Multi-page Apps**: Different approaches for designing multi-page applications\n",
    "09. **Scalability**: Async, threading, profiling and caching\n",
    "10. **Server**: Effectively working with the server\n",
    "11. **Deep Linking**: Adding deep links and persistent sessions\n",
    "12. **Authentication and Authorization**: Configuring and effectively using OAuth"
   ]
  }
 ],
 "metadata": {
  "language_info": {
   "name": "python",
   "pygments_lexer": "ipython3"
  }
 },
 "nbformat": 4,
 "nbformat_minor": 5
}
