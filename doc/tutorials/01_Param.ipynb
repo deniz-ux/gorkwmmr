{
 "cells": [
  {
   "cell_type": "markdown",
   "id": "b98680e2-3c2c-461a-aa7e-ff383cf55e2d",
   "metadata": {},
   "source": [
    "<style>div.container { width: 100% }</style>\n",
    "<img style=\"float:left;  vertical-align:text-bottom;\" height=\"65\" width=\"172\" src=\"../_static/logo_stacked.png\" />\n",
    "<div style=\"float:right; vertical-align:text-bottom;\"><h2>Tutorial 1. Param</h2></div>\n",
    "<br><br>"
   ]
  },
  {
   "cell_type": "code",
   "execution_count": null,
   "id": "05081193-c6b8-46c9-82a8-3057983b6ef7",
   "metadata": {},
   "outputs": [],
   "source": [
    "import param\n",
    "import panel as pn\n",
    "\n",
    "pn.extension('tabulator')"
   ]
  },
  {
   "cell_type": "markdown",
   "id": "fdfc0ac9-b516-49b6-a21b-e173b5d2de11",
   "metadata": {},
   "source": [
    "# Param Basics for Panel\n",
    "\n",
    "Panel and other projects in the HoloViz ecosystem all build on Param. Param provides a framework to add validation, documentation and interactivity to a project. It is similar to more modern projects such as Pydantic but focuses primarily on providing APIs that make it easy to express complex dependencies and UI interactions.\n",
    "\n",
    "Here we won't focus on how param works but instead try to get you to understand the fundamentals that will allow you to effectively use Panel, express interactivity and reactivity in idiomatic ways and lastly how to structure your code to make it easily reusable and avoid callback hell."
   ]
  },
  {
   "cell_type": "markdown",
   "id": "835fed8c-492d-4cd1-a370-4dffd498fc3c",
   "metadata": {},
   "source": [
    "## What is a Parameter?\n",
    "\n",
    "Parameters are objects that express the semantics of a value of an attribute on an object, e.g. the `value` of `Widget`, i.e. whether it is a number or a string. Generally Parameters are broader than Python types because they deal with semantics not the specific representation of a value. A `Parameter` object also acts as a reference to the underlying value, which is incredibly useful when trying to add interactivity to a UI.\n",
    "\n",
    "Let's look at a parameter definition, in this case for the Panel `TextInput` widget `value` parameter:\n",
    "\n",
    "```python\n",
    "class TextInput(Widget):\n",
    "\n",
    "    ...\n",
    "    \n",
    "    value = param.String(default='', allow_None=True, doc=\"\"\"\n",
    "        Initial or entered text value updated when <enter> key is pressed.\"\"\")\n",
    "```\n",
    "\n",
    "A `Parameter` must be defined inside a class and that class must be a subclass of `Parameterized`. We can also see that it is of type `param.String`, defines a default of `''` and allows `None` value. It also has a docstring which gives us information about it.\n",
    "\n",
    "To inspect all the parameters on a `Parameterized` class we can view the `repr` of the `.param` namespace:"
   ]
  },
  {
   "cell_type": "code",
   "execution_count": null,
   "id": "4d45dcc8-58cd-4735-9a06-f62d478736ec",
   "metadata": {},
   "outputs": [],
   "source": [
    "pn.widgets.TextInput.param"
   ]
  },
  {
   "cell_type": "markdown",
   "id": "9b558916-b62c-48ac-a78f-54028007a7c5",
   "metadata": {},
   "source": [
    "### Accessing parameter values\n",
    "\n",
    "Let's start by working with a `TextInput` widget:"
   ]
  },
  {
   "cell_type": "code",
   "execution_count": null,
   "id": "ab72b8da-b5a8-4b4d-8a1d-3b9c8ea8d147",
   "metadata": {},
   "outputs": [],
   "source": [
    "text_input = pn.widgets.TextInput(value='A string!')\n",
    "\n",
    "text_input"
   ]
  },
  {
   "cell_type": "markdown",
   "id": "8ae46a98-11fe-4ad2-8f9b-6eacf4460a7e",
   "metadata": {},
   "source": [
    "We can access the current value of the widget:"
   ]
  },
  {
   "cell_type": "code",
   "execution_count": null,
   "id": "591e25c7-aef4-4ca9-8422-1d353fa8f900",
   "metadata": {},
   "outputs": [],
   "source": [
    "text_input.value"
   ]
  },
  {
   "cell_type": "markdown",
   "id": "102ee760-6838-43f8-a3ca-5c5f25911a33",
   "metadata": {},
   "source": [
    "But we can also access the `Parameter` instance that acts as a proxy or reference for value:"
   ]
  },
  {
   "cell_type": "code",
   "execution_count": null,
   "id": "f60e522b-fb1e-4985-a237-59a023340cf4",
   "metadata": {},
   "outputs": [],
   "source": [
    "text_input.param.value"
   ]
  },
  {
   "cell_type": "markdown",
   "id": "2a812be1-1ff4-4614-9557-6e9a12e094b3",
   "metadata": {},
   "source": [
    "Why and how to use such a reference is something we will discover a little bit later on."
   ]
  },
  {
   "cell_type": "markdown",
   "id": "39ed0459-5ad7-440c-bdd8-3bebcd1782a8",
   "metadata": {},
   "source": [
    "### Setting parameter values\n",
    "\n",
    "We can also set it to a new value:"
   ]
  },
  {
   "cell_type": "code",
   "execution_count": null,
   "id": "3ed97421-4e1a-46b3-bcef-bc4e582a272e",
   "metadata": {},
   "outputs": [],
   "source": [
    "text_input.value = 'Hello World!'"
   ]
  },
  {
   "cell_type": "markdown",
   "id": "fd7c919c-bc23-4fc2-9a33-ba465f2727c6",
   "metadata": {},
   "source": [
    "If we want to set multiple parameter values at once we should do so via the `.param.update` method. This ensures that anything that watches for changes on the parameters is only triggered once:"
   ]
  },
  {
   "cell_type": "code",
   "execution_count": null,
   "id": "ec902943-861c-481f-a2fe-b2f1b8f9012d",
   "metadata": {},
   "outputs": [],
   "source": [
    "text_input.param.update(value='Updated!', width=85);"
   ]
  },
  {
   "cell_type": "markdown",
   "id": "315ad0da-f3eb-4088-89be-da744c41eb0b",
   "metadata": {},
   "source": [
    "### Validation\n",
    "\n",
    "The primary purpose of parameters is to perform validation, e.g. if I try to assign an invalid value to a parameter, we will get an error:"
   ]
  },
  {
   "cell_type": "code",
   "execution_count": null,
   "id": "f917aaf5-d66f-43c1-8eae-60c8ad4f2774",
   "metadata": {},
   "outputs": [],
   "source": [
    "text_input.value = 3.14"
   ]
  },
  {
   "cell_type": "markdown",
   "id": "4a0d99de-9c48-4e68-89f9-2d911859e440",
   "metadata": {},
   "source": [
    "### Class vs. Instance Parameters\n",
    "\n",
    "Parameters are defined on classes and when a `Parameterized` is created the parameters defined on it will be initialized. This means that the parameter default value and any validation related attributes defined on the parameter can be modified and all instances created thereafter will reflect these changes."
   ]
  },
  {
   "cell_type": "code",
   "execution_count": null,
   "id": "fbb7b05d-adb6-443a-a163-5ef8ccefb946",
   "metadata": {},
   "outputs": [],
   "source": [
    "#pn.widgets.TextInput.param.styles.default = {'border': '1px solid black', 'padding': '5px'}\n",
    "\n",
    "pn.widgets.TextInput()"
   ]
  },
  {
   "cell_type": "markdown",
   "id": "d41b900a-6527-4fbd-98b5-dcfbd7f92b4b",
   "metadata": {},
   "source": [
    "## Parameters as references\n",
    "\n",
    "Above we mentioned that `Parameter` objects can act as proxies or references for the underlying Parameter value. This is a powerful feature when trying to declare interactivity. Let us see what we mean by that with a simple example again based on the `TextInput` widget:"
   ]
  },
  {
   "cell_type": "code",
   "execution_count": null,
   "id": "71308903-925f-4e98-aafc-131b42d21e46",
   "metadata": {},
   "outputs": [],
   "source": [
    "text_in = pn.widgets.TextInput(value='Hello world!')\n",
    "text_out = pn.pane.Markdown(text_in.param.value)\n",
    "\n",
    "pn.Column(text_in, text_out)"
   ]
  },
  {
   "cell_type": "markdown",
   "id": "f92f1dd5-9d54-4660-9c5c-884ae2127a2b",
   "metadata": {},
   "source": [
    "Note how we were able to pass the `value` parameter to the `Markdown` pane. If you attempt to type into the `TextInput` you'll notice that this is no automatically reflected by the Markdown output.\n",
    "\n",
    "This also works when using it for other parameters, e.g. we can add a switch to toggle the visibility of some component:"
   ]
  },
  {
   "cell_type": "code",
   "execution_count": null,
   "id": "4af0c00b-1e90-47c6-823a-692bb023fb87",
   "metadata": {},
   "outputs": [],
   "source": [
    "visible = pn.widgets.Switch(value=True)\n",
    "\n",
    "pn.Row(visible, pn.pane.Markdown('Hello World!', visible=visible))"
   ]
  },
  {
   "cell_type": "markdown",
   "id": "3ee3d80f-19f8-4643-afc8-f8ba80ec4267",
   "metadata": {},
   "source": [
    "Notice that we passed in the widget object directly instead of the `.param.value`. This is possible because widgets are treated as a proxy of their `value` parameter just like a `Parameter` is treated as a proxy for current value."
   ]
  },
  {
   "cell_type": "markdown",
   "id": "55f2a3fe-771f-4aff-b2eb-b107e373b735",
   "metadata": {},
   "source": [
    "### Indirect Mapping\n",
    "\n",
    "Often a widget or parameter value will not map directly to the output you want, e.g. let's say we wanted to add some formatting around the text before we render it. To achieve this we can write a function that we then `bind` the parameter value to. This gives us a bound function which continues to act as a proxy for the (now transformed/formatted) value."
   ]
  },
  {
   "cell_type": "code",
   "execution_count": null,
   "id": "8ab1c01c-cf24-4614-b487-5a99bfd5f360",
   "metadata": {},
   "outputs": [],
   "source": [
    "def format_text(text):\n",
    "    return f'**Hello {text}!**'\n",
    "\n",
    "text_input = pn.widgets.TextInput(value='World')\n",
    "\n",
    "md = pn.pane.Markdown(pn.bind(format_text, text_input))\n",
    "\n",
    "pn.Row(text_input, md)"
   ]
  },
  {
   "cell_type": "markdown",
   "id": "029f283a-266e-447a-9f21-9ac8f0130484",
   "metadata": {},
   "source": [
    "### Exercise\n",
    "\n",
    "Write a small app where you can scale the `font-size` of a `Markdown` pane with another widget, e.g. an `IntSlider`. The `font-size` can be set using the `style` parameter.\n",
    "\n",
    "<detail>\n",
    "    Hint: The `style` parameter only accepts dictionaries of strings.\n",
    "</detail>"
   ]
  },
  {
   "cell_type": "markdown",
   "id": "73133325-134b-4190-b9ae-6dd8422e2957",
   "metadata": {},
   "source": [
    "## Writing Parameterized Classes\n",
    "\n",
    "One last thing we should learn about working with Param in Panel is writing classes. This is useful for a number of reasons:\n",
    "\n",
    "1. Organizing complex pieces of code and functionality\n",
    "2. Writing reusable components made up of multiple Panel objects\n",
    "\n",
    "A Parameterized class has to inherit from `param.Parameterized` and should declare one or more parameters."
   ]
  }
 ],
 "metadata": {
  "language_info": {
   "name": "python",
   "pygments_lexer": "ipython3"
  }
 },
 "nbformat": 4,
 "nbformat_minor": 5
}
