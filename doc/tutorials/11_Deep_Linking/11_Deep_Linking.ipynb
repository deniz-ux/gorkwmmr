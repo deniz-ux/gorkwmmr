{
 "cells": [
  {
   "cell_type": "markdown",
   "metadata": {},
   "source": [
    "# Deep Linking: Adding deep links and persistent sessions"
   ]
  },
  {
   "cell_type": "markdown",
   "metadata": {},
   "source": [
    "Reference: https://panel.holoviz.org/how_to/state/index.html"
   ]
  },
  {
   "cell_type": "markdown",
   "metadata": {},
   "source": [
    "## Basics\n",
    "\n",
    "You can store a widget's current value by syncing it to the browser URL:\n",
    "\n",
    "```python\n",
    "import panel as pn\n",
    "\n",
    "slider = pn.widgets.FloatSlider(name='Slider', start=0, end=10)\n",
    "\n",
    "if pn.state.location:\n",
    "    pn.state.location.sync(slider, {'value': 'slider_value'})  # Rename 'value' to 'slider_value' in the URL\n",
    "\n",
    "slider.servable()\n",
    "```\n",
    "\n",
    "### Exercise 1\n",
    "\n",
    "[Click here](/panel-preview/render/exercise_1.py) to try it out\n",
    "\n",
    "1. Observe the browser's URL changing as you adjust the slider.\n",
    "2. Experiment with setting a custom `slider_value` in the URL. Upon entry, the slider widget should match this custom value.\n",
    "3. Copy this URL to a new browser tab. Once again, the slider widget's value should match the custom value.\n",
    "\n",
    "![Exercise 1 Demo](assets/exercise_1.gif)\n",
    "\n",
    "### Takeaway\n",
    "\n",
    "You can persist a widget's state through the browser URL, making it easy to share interesting findings with colleagues!"
   ]
  },
  {
   "cell_type": "markdown",
   "metadata": {},
   "source": [
    "## Accessing Session Args\n",
    "\n",
    "You can pass parameters to the URL, without the need for widgets, and collect them using `session_args`:\n",
    "\n",
    "```python\n",
    "import panel as pn\n",
    "\n",
    "set_price = 88\n",
    "\n",
    "alert = pn.pane.Alert(alert_type=\"warning\", visible=False)\n",
    "item_image = pn.pane.Image(\"https://panel.holoviz.org/_static/logo.png\")\n",
    "price_shown = pn.pane.Markdown(object=f\"## Price: ${set_price}\")\n",
    "layout = pn.Column(alert, item_image, price_shown)\n",
    "\n",
    "promo_code = pn.state.session_args.get('promo_code', [b\"\"])[0].decode()\n",
    "if promo_code and promo_code.endswith(\"OFF\"):\n",
    "    discount = float(promo_code.replace(\"OFF\", \"\")) / 100\n",
    "    new_price = set_price * discount\n",
    "    price_shown.object = f\"## Price: $~~{set_price}~~ <font color='red'>Now ${new_price}</font>\"\n",
    "elif promo_code:\n",
    "    alert.visible = True\n",
    "    alert.object = f\"The promo code provided, {promo_code!r}, is invalid.\"\n",
    "\n",
    "layout.servable()\n",
    "```\n",
    "\n",
    "### Exercise 2\n",
    "\n",
    "[Click here](/panel-preview/render/exercise_2.py?promo_code=50OFF) to try it out with a promo code!\n",
    "\n",
    "1. Observe that, even without a promo code widget, you can pass a promo code as a parameter in the URL.\n",
    "2. Experiment with changing the numeric part of the `promo_code`, for example, from `50OFF` to `10OFF` or even `100OFF`, and see how it affects the displayed price.\n",
    "3. Try setting an invalid `promo_code`, like keeping only the numbers and excluding `OFF`. The alert pane should notify you that the promo code is invalid.\n",
    "4. Finally, remove the `?promo_code` parameter to see that the app still loads!\n",
    "\n",
    "![Exercise 2 Demo](assets/exercise_2.gif)\n",
    "\n",
    "### Takeaway\n",
    "\n",
    "Session parameters can be passed separately, independent of widgets. These session parameters can then be used to change the behavior of the app."
   ]
  },
  {
   "cell_type": "markdown",
   "metadata": {},
   "source": [
    "## Parameterized Class\n",
    "\n",
    "So far, we only demonstrated syncing the URL's parameters to panel widgets, but it can also be synced to `Parameterized` objects.\n",
    "\n",
    "```python\n",
    "import datetime\n",
    "\n",
    "import param\n",
    "import panel as pn\n",
    "\n",
    "class WeatherApp(param.Parameterized):\n",
    "\n",
    "    today = param.    \n",
    "\n",
    "    string = param.String(default='A string')\n",
    "```\n"
   ]
  },
  {
   "cell_type": "markdown",
   "metadata": {},
   "source": [
    "## Unsyncing for Multi-Page Apps"
   ]
  },
  {
   "cell_type": "markdown",
   "metadata": {},
   "source": [
    "## Real-world Example - Stocks Explorer"
   ]
  }
 ],
 "metadata": {
  "language_info": {
   "name": "python",
   "pygments_lexer": "ipython3"
  }
 },
 "nbformat": 4,
 "nbformat_minor": 4
}
