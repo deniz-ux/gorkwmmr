{
 "cells": [
  {
   "cell_type": "markdown",
   "metadata": {},
   "source": [
    "# Deep Linking: Adding deep links and persistent sessions"
   ]
  },
  {
   "cell_type": "markdown",
   "metadata": {},
   "source": [
    "## Basics\n",
    "\n",
    "If you have a widget, it's possible to store its current value by linking it through the browser URL.\n",
    "\n",
    "```python\n",
    "import panel as pn\n",
    "\n",
    "slider = pn.widgets.FloatSlider(name='Slider', start=0, end=10)\n",
    "\n",
    "if pn.state.location:\n",
    "    pn.state.location.sync(slider, {'value': 'slider_value'})  # rename value -> slider_value in URL\n",
    "\n",
    "slider.servable()\n",
    "```\n",
    "\n",
    "### Exercise 1\n",
    "\n",
    "Click [here](http://localhost:8888/panel-preview/render/basic_widget.py) to try it out!\n",
    "\n",
    "1. Notice how the browser's URL updates as you update the slider.\n",
    "2. Now, try setting a custom `slider_value` in the URL. Upon entering, the slider widget's value should match the custom value.\n",
    "3. Next, copy this URL to a new browser tab. Again, you should see the slider widget's value set to match the custom value.\n",
    "\n",
    "![Exercise 1 Demo](assets/basic_widget.gif)\n",
    "\n",
    "### Take-away\n",
    "\n",
    "If you see something interesting, you can persist the state of the widget through the browser URL and share it with your colleagues!"
   ]
  },
  {
   "cell_type": "markdown",
   "metadata": {},
   "source": [
    "## Accessing the location\n",
    "\n",
    "If you want to do something with the location, you access it programmatically.\n",
    "\n",
    "```python\n",
    "import panel as pn\n",
    "\n",
    "price = 88\n",
    "promo_code = pn.state.session_args.get('promo_code', None)\n",
    "price_to_buy = pn.widgets.StaticText(value=f\"Cost: $~~{price}~~Now ${new_price}\")\n",
    "layout = \n",
    "\n",
    "if promo_code and promo_code.endswith(\"OFF\"):\n",
    "    discount = float(promo_code.replace(\"OFF\", \"\")) / 100\n",
    "    new_price = price * discount\n",
    "elif promo_code:\n",
    "    \n",
    "    \n",
    "\n",
    "if pn.state.location:\n",
    "    pn.state.location.sync(text_input, {'value': 'input_value'})\n",
    "\n",
    "slider.servable()\n",
    "```"
   ]
  },
  {
   "cell_type": "markdown",
   "metadata": {},
   "source": [
    "## Parameterized Class"
   ]
  },
  {
   "cell_type": "markdown",
   "metadata": {},
   "source": [
    "## Unsyncing for Multi-Page Apps"
   ]
  },
  {
   "cell_type": "markdown",
   "metadata": {},
   "source": [
    "## Real-world Example - Stocks Explorer"
   ]
  }
 ],
 "metadata": {
  "language_info": {
   "name": "python",
   "pygments_lexer": "ipython3"
  }
 },
 "nbformat": 4,
 "nbformat_minor": 4
}
