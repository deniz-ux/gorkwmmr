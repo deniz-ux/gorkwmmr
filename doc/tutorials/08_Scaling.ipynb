{
 "cells": [
  {
   "cell_type": "markdown",
   "id": "a8ba753f-bd74-4b76-9228-abd1fdffbe69",
   "metadata": {},
   "source": [
    "<style>div.container { width: 100% }</style>\n",
    "<img style=\"float:left;  vertical-align:text-bottom;\" height=\"65\" width=\"172\" src=\"../_static/logo_stacked.png\" />\n",
    "<div style=\"float:right; vertical-align:text-bottom;\"><h2>Tutorial 8. Scaling</h2></div>\n",
    "<br><br>"
   ]
  }
 ],
 "metadata": {
  "language_info": {
   "name": "python",
   "pygments_lexer": "ipython3"
  }
 },
 "nbformat": 4,
 "nbformat_minor": 5
}
